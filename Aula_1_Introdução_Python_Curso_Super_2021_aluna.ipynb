{
  "nbformat": 4,
  "nbformat_minor": 0,
  "metadata": {
    "colab": {
      "name": "Aula-1-Introdução-Python-Curso-Super-2021-aluna",
      "provenance": [],
      "collapsed_sections": [],
      "authorship_tag": "ABX9TyMX1kCo4H6+cMCLDFU0/XGC",
      "include_colab_link": true
    },
    "kernelspec": {
      "name": "python3",
      "display_name": "Python 3"
    },
    "language_info": {
      "name": "python"
    }
  },
  "cells": [
    {
      "cell_type": "markdown",
      "metadata": {
        "id": "view-in-github",
        "colab_type": "text"
      },
      "source": [
        "<a href=\"https://colab.research.google.com/github/williamcostaesilva/aula1_revis-o_python_basico/blob/main/Aula_1_Introdu%C3%A7%C3%A3o_Python_Curso_Super_2021_aluna.ipynb\" target=\"_parent\"><img src=\"https://colab.research.google.com/assets/colab-badge.svg\" alt=\"Open In Colab\"/></a>"
      ]
    },
    {
      "cell_type": "markdown",
      "metadata": {
        "id": "9-glfd38SkNp"
      },
      "source": [
        "![images-2.png](data:image/png;base64,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)\n",
        "\n",
        "# Universidade Federal do Amazonas\n",
        "## - Departamento de Engenharia de Produção\n",
        "### - Projeto Super 2021 - \n",
        "\n",
        "#### Aula 1 - Introdução ao Python\n",
        "###### Prof. William Costa"
      ]
    },
    {
      "cell_type": "markdown",
      "metadata": {
        "id": "wbwTYQH9UDhN"
      },
      "source": [
        "## Revisando alguns tópicos:\n",
        "#### Tipos de variáveis (built-in types):\n",
        "\n",
        "1.   int = número inteiro\n",
        "2.   float = número real\n",
        "\n",
        "1.   complex = número complexo\n",
        "2.   str = conjunto de caracteres (texto).\n",
        "\n",
        "\n",
        "\n",
        "## 2.1 - Primeiras funções:\n",
        "\n",
        "    \n",
        "\n",
        "\n",
        "\n",
        "\n",
        "\n",
        "\n",
        "\n"
      ]
    },
    {
      "cell_type": "code",
      "metadata": {
        "id": "kNZC3QOuZ7aq"
      },
      "source": [
        "import pandas as pd\n",
        "primeiras_funcoes = {'FUNÇÃO':['print()-','input()-','int() float() str()-','type()-'], 'DESCRIÇÃO':['exibe um dado de INPUT','retorna uma string dada pelo usuário','conversão de tipo','retorna o tipo de variável']}\n"
      ],
      "execution_count": null,
      "outputs": []
    },
    {
      "cell_type": "code",
      "metadata": {
        "id": "ywWOGCXmeT95"
      },
      "source": [
        "funcao = pd.DataFrame(primeiras_funcoes)"
      ],
      "execution_count": null,
      "outputs": []
    },
    {
      "cell_type": "code",
      "metadata": {
        "colab": {
          "base_uri": "https://localhost:8080/"
        },
        "id": "rMPbuS2pef0i",
        "outputId": "d197e42e-0ac5-4f22-ece8-1e0a7222ef02"
      },
      "source": [
        "print(funcao)"
      ],
      "execution_count": null,
      "outputs": [
        {
          "output_type": "stream",
          "text": [
            "                 FUNÇÃO                             DESCRIÇÃO\n",
            "0              print()-                exibe um dado de INPUT\n",
            "1              input()-  retorna uma string dada pelo usuário\n",
            "2  int() float() str()-                     conversão de tipo\n",
            "3               type()-            retorna o tipo de variável\n"
          ],
          "name": "stdout"
        }
      ]
    },
    {
      "cell_type": "code",
      "metadata": {
        "colab": {
          "base_uri": "https://localhost:8080/"
        },
        "id": "jq83VddBehmN",
        "outputId": "49f3fae5-57c2-4ccf-cf9b-9200b7965ddb"
      },
      "source": [
        "print('Olá Mundo.')\n",
        "print(\"Olá Mundo.\")"
      ],
      "execution_count": null,
      "outputs": [
        {
          "output_type": "stream",
          "text": [
            "Olá Mundo.\n",
            "Olá Mundo.\n"
          ],
          "name": "stdout"
        }
      ]
    },
    {
      "cell_type": "code",
      "metadata": {
        "colab": {
          "base_uri": "https://localhost:8080/"
        },
        "id": "-0-i5Nx9fo3Y",
        "outputId": "65aa7e96-db21-45d1-f037-15980186471d"
      },
      "source": [
        "variavel_b = input('Digite um numero: ')"
      ],
      "execution_count": null,
      "outputs": [
        {
          "output_type": "stream",
          "text": [
            "Digite um numero: 5\n"
          ],
          "name": "stdout"
        }
      ]
    },
    {
      "cell_type": "code",
      "metadata": {
        "colab": {
          "base_uri": "https://localhost:8080/",
          "height": 35
        },
        "id": "7k8XBqCZfxU8",
        "outputId": "d0b78d70-3f0a-4661-8ead-b238b436c0ca"
      },
      "source": [
        "variavel_b"
      ],
      "execution_count": null,
      "outputs": [
        {
          "output_type": "execute_result",
          "data": {
            "application/vnd.google.colaboratory.intrinsic+json": {
              "type": "string"
            },
            "text/plain": [
              "'5'"
            ]
          },
          "metadata": {
            "tags": []
          },
          "execution_count": 16
        }
      ]
    },
    {
      "cell_type": "code",
      "metadata": {
        "id": "5URb2W8gf8Ch"
      },
      "source": [
        "b = 5."
      ],
      "execution_count": null,
      "outputs": []
    },
    {
      "cell_type": "code",
      "metadata": {
        "colab": {
          "base_uri": "https://localhost:8080/"
        },
        "id": "7f-S1u1bgSrz",
        "outputId": "ab0d4228-75b4-4d8b-d137-9f8728ea4882"
      },
      "source": [
        "type(b)"
      ],
      "execution_count": null,
      "outputs": [
        {
          "output_type": "execute_result",
          "data": {
            "text/plain": [
              "float"
            ]
          },
          "metadata": {
            "tags": []
          },
          "execution_count": 21
        }
      ]
    },
    {
      "cell_type": "code",
      "metadata": {
        "colab": {
          "base_uri": "https://localhost:8080/"
        },
        "id": "eGosFisNgAdS",
        "outputId": "51af7d5d-1f9b-4781-b78d-7a89efd6a21a"
      },
      "source": [
        "print('\\nO tipo da variavel b é: ',type(b))"
      ],
      "execution_count": null,
      "outputs": [
        {
          "output_type": "stream",
          "text": [
            "\n",
            "O tipo da variavel b é:  <class 'float'>\n"
          ],
          "name": "stdout"
        }
      ]
    },
    {
      "cell_type": "code",
      "metadata": {
        "id": "nQGpuk3rgLEU"
      },
      "source": [
        ""
      ],
      "execution_count": null,
      "outputs": []
    },
    {
      "cell_type": "markdown",
      "metadata": {
        "id": "GejclkDhgbCS"
      },
      "source": [
        "## 2.2 - Números\n",
        "\n",
        "##### * Operações básicas:"
      ]
    },
    {
      "cell_type": "code",
      "metadata": {
        "id": "cuxOifj5gcic"
      },
      "source": [
        "import pandas as pd\n",
        "operacoes_basicas = {'SIMBOLO':['(+)','(-)','(*)','(/)','(//)','(**)','(+=)','(-=)','(*=)'], 'DESCRIÇÃO':['SOMA','SUBTRAÇÃO','MULTIPLICAÇÃO','DIVISÃO','PARTE INTEIRA DA DIVISÃO','EXPONENCIAL','ADICIONAR PARA A VARIÁVEL','SUBTRAIR DA VARIÁVEL','MULTIPLICAR PELA VARIÁVEL']}\n",
        "operacao = pd.DataFrame(operacoes_basicas)"
      ],
      "execution_count": null,
      "outputs": []
    },
    {
      "cell_type": "code",
      "metadata": {
        "colab": {
          "base_uri": "https://localhost:8080/"
        },
        "id": "qC_6NZiPiOPA",
        "outputId": "404ca49e-a1ef-4136-e1b3-12aa2bf3fa3a"
      },
      "source": [
        "print(operacao)\n",
        "print('-----------------------------------------------------')\n"
      ],
      "execution_count": null,
      "outputs": [
        {
          "output_type": "stream",
          "text": [
            "  SIMBOLO                  DESCRIÇÃO\n",
            "0     (+)                       SOMA\n",
            "1     (-)                  SUBTRAÇÃO\n",
            "2     (*)              MULTIPLICAÇÃO\n",
            "3     (/)                    DIVISÃO\n",
            "4    (//)   PARTE INTEIRA DA DIVISÃO\n",
            "5    (**)                EXPONENCIAL\n",
            "6    (+=)  ADICIONAR PARA A VARIÁVEL\n",
            "7    (-=)       SUBTRAIR DA VARIÁVEL\n",
            "8    (*=)  MULTIPLICAR PELA VARIÁVEL\n",
            "-----------------------------------------------------\n"
          ],
          "name": "stdout"
        }
      ]
    },
    {
      "cell_type": "markdown",
      "metadata": {
        "id": "tgWF0XCojKWI"
      },
      "source": [
        "#### # LEE, Kent. D. Python Programming Fundamental. 2nd Edition. Springer - Verlag London 2014\n",
        "####### https://link.springer.com/chapter/10.1007%2F978-1-4471-6642-9_8\n",
        "####### (https://link.springer.com/chapter/10.1007%2F978-1-4471-6642-9_8)"
      ]
    },
    {
      "cell_type": "code",
      "metadata": {
        "id": "yeytzitRh4PG"
      },
      "source": [
        "a = 5\n",
        "b = 5.\n",
        "c = a + b"
      ],
      "execution_count": null,
      "outputs": []
    },
    {
      "cell_type": "code",
      "metadata": {
        "colab": {
          "base_uri": "https://localhost:8080/"
        },
        "id": "cT26aXQ3jcxz",
        "outputId": "968bf23a-2e65-4d63-9f20-7b746240e0bf"
      },
      "source": [
        "print('O tipo da variável c é: ',type(c))"
      ],
      "execution_count": null,
      "outputs": [
        {
          "output_type": "stream",
          "text": [
            "O tipo da variável c é:  <class 'float'>\n"
          ],
          "name": "stdout"
        }
      ]
    },
    {
      "cell_type": "code",
      "metadata": {
        "id": "qbn0m8jUjiY0"
      },
      "source": [
        "a = 5\n",
        "d = 10\n",
        "d += 5"
      ],
      "execution_count": null,
      "outputs": []
    },
    {
      "cell_type": "code",
      "metadata": {
        "colab": {
          "base_uri": "https://localhost:8080/"
        },
        "id": "M6Pu1Eu6jqPa",
        "outputId": "48e43f93-248e-4418-f116-5be9dd73c1d7"
      },
      "source": [
        "d"
      ],
      "execution_count": null,
      "outputs": [
        {
          "output_type": "execute_result",
          "data": {
            "text/plain": [
              "15"
            ]
          },
          "metadata": {
            "tags": []
          },
          "execution_count": 36
        }
      ]
    },
    {
      "cell_type": "code",
      "metadata": {
        "colab": {
          "base_uri": "https://localhost:8080/"
        },
        "id": "tyO5kY5Yjrds",
        "outputId": "68c79c30-bef1-43f3-e1f4-c3241f8fc909"
      },
      "source": [
        "e = 10*2\n",
        "e"
      ],
      "execution_count": null,
      "outputs": [
        {
          "output_type": "execute_result",
          "data": {
            "text/plain": [
              "20"
            ]
          },
          "metadata": {
            "tags": []
          },
          "execution_count": 37
        }
      ]
    },
    {
      "cell_type": "code",
      "metadata": {
        "colab": {
          "base_uri": "https://localhost:8080/"
        },
        "id": "tN1qfdeEjy-K",
        "outputId": "0ba7433e-243b-4ee6-9dac-cda1ad7ae9a8"
      },
      "source": [
        "e = 10**2\n",
        "e"
      ],
      "execution_count": null,
      "outputs": [
        {
          "output_type": "execute_result",
          "data": {
            "text/plain": [
              "100"
            ]
          },
          "metadata": {
            "tags": []
          },
          "execution_count": 38
        }
      ]
    },
    {
      "cell_type": "code",
      "metadata": {
        "id": "Q7yUZgetj1ro"
      },
      "source": [
        "string_numero = '123'\n",
        "n_1 = float(string_numero)\n"
      ],
      "execution_count": null,
      "outputs": []
    },
    {
      "cell_type": "code",
      "metadata": {
        "colab": {
          "base_uri": "https://localhost:8080/"
        },
        "id": "bAJGKe-WnbH9",
        "outputId": "2a9043eb-18e2-4024-cff5-a6c92e96f853"
      },
      "source": [
        "n_1 *  n_1"
      ],
      "execution_count": null,
      "outputs": [
        {
          "output_type": "execute_result",
          "data": {
            "text/plain": [
              "15129.0"
            ]
          },
          "metadata": {
            "tags": []
          },
          "execution_count": 40
        }
      ]
    },
    {
      "cell_type": "code",
      "metadata": {
        "colab": {
          "base_uri": "https://localhost:8080/"
        },
        "id": "41-9U_lbnfYd",
        "outputId": "407998d3-6623-405a-c0c7-58ce46d958f2"
      },
      "source": [
        "string_numero = '123'\n",
        "type(string_numero)"
      ],
      "execution_count": null,
      "outputs": [
        {
          "output_type": "execute_result",
          "data": {
            "text/plain": [
              "str"
            ]
          },
          "metadata": {
            "tags": []
          },
          "execution_count": 41
        }
      ]
    },
    {
      "cell_type": "markdown",
      "metadata": {
        "id": "IP3YVQcunvwK"
      },
      "source": [
        "## 2.3 - STRING\n",
        "\n",
        "\n",
        "*   String são um conjunto de caracteres (variáveis de texto);\n",
        "*   Alguns caracteres, como aspas não podem ser adicionados diretamente. Então, é preciso \\\n",
        "\n",
        "\n",
        "*   \\n representa uma nova linha;\n",
        "*   Algumas operações básicas funcionam para manipular strings\n",
        "\n",
        "\n",
        "\n"
      ]
    },
    {
      "cell_type": "code",
      "metadata": {
        "id": "18ef4dd2nr4p"
      },
      "source": [
        "a = 'Olá minhas caras alunas e alunos.'"
      ],
      "execution_count": null,
      "outputs": []
    },
    {
      "cell_type": "code",
      "metadata": {
        "colab": {
          "base_uri": "https://localhost:8080/",
          "height": 183
        },
        "id": "RjcaCJNzocpE",
        "outputId": "66988147-8806-4ea7-f749-dac983f2cd6e"
      },
      "source": [
        "b = a**2\n",
        "print(b)"
      ],
      "execution_count": null,
      "outputs": [
        {
          "output_type": "error",
          "ename": "TypeError",
          "evalue": "ignored",
          "traceback": [
            "\u001b[0;31m---------------------------------------------------------------------------\u001b[0m",
            "\u001b[0;31mTypeError\u001b[0m                                 Traceback (most recent call last)",
            "\u001b[0;32m<ipython-input-43-46f73a525aa5>\u001b[0m in \u001b[0;36m<module>\u001b[0;34m()\u001b[0m\n\u001b[0;32m----> 1\u001b[0;31m \u001b[0mb\u001b[0m \u001b[0;34m=\u001b[0m \u001b[0ma\u001b[0m\u001b[0;34m**\u001b[0m\u001b[0;36m2\u001b[0m\u001b[0;34m\u001b[0m\u001b[0;34m\u001b[0m\u001b[0m\n\u001b[0m\u001b[1;32m      2\u001b[0m \u001b[0mprint\u001b[0m\u001b[0;34m(\u001b[0m\u001b[0mb\u001b[0m\u001b[0;34m)\u001b[0m\u001b[0;34m\u001b[0m\u001b[0;34m\u001b[0m\u001b[0m\n",
            "\u001b[0;31mTypeError\u001b[0m: unsupported operand type(s) for ** or pow(): 'str' and 'int'"
          ]
        }
      ]
    },
    {
      "cell_type": "code",
      "metadata": {
        "colab": {
          "base_uri": "https://localhost:8080/"
        },
        "id": "a9beOvXOof-s",
        "outputId": "ebda5952-f6e2-4c6f-d0a4-65364003392c"
      },
      "source": [
        "texto = 'Vamos aprender muita coisa legal em Python.\\n Vamos ver tbm eletrônica e robótica com arduino.'\n",
        "print(texto)"
      ],
      "execution_count": null,
      "outputs": [
        {
          "output_type": "stream",
          "text": [
            "Vamos aprender muita coisa legal em Python.\n",
            " Vamos ver tbm eletrônica e robótica com arduino.\n"
          ],
          "name": "stdout"
        }
      ]
    },
    {
      "cell_type": "code",
      "metadata": {
        "id": "77XTYBt4o58m"
      },
      "source": [
        ""
      ],
      "execution_count": null,
      "outputs": []
    },
    {
      "cell_type": "markdown",
      "metadata": {
        "id": "spRqNBqhpEeg"
      },
      "source": [
        "## 2.4 - LISTAS\n",
        "\n",
        "\n",
        "*   Listas - são entendidas como um conjunto de dados e são caracterizadas por meio do uso de colchotes [].\n",
        "*   são conjunto de dados que podem conter dados de diferentes tipos.\n",
        "*   IElas possuem valor indexado a partir do valor zero (0).\n"
      ]
    },
    {
      "cell_type": "code",
      "metadata": {
        "id": "OSO2tWxipd_s"
      },
      "source": [
        "vazia = []"
      ],
      "execution_count": null,
      "outputs": []
    },
    {
      "cell_type": "code",
      "metadata": {
        "id": "cTMT51BqWdy7"
      },
      "source": [
        "print('lista está vazia. ',vazia)"
      ],
      "execution_count": null,
      "outputs": []
    },
    {
      "cell_type": "code",
      "metadata": {
        "colab": {
          "base_uri": "https://localhost:8080/"
        },
        "id": "gjufKZ56fG1l",
        "outputId": "c1de73ef-2529-4eee-f852-3b70d30716a5"
      },
      "source": [
        "# Verificando o tipo\n",
        "\n",
        "print('O tipo da lista é: ',type(vazia))"
      ],
      "execution_count": null,
      "outputs": [
        {
          "output_type": "stream",
          "text": [
            "O tipo da lista é:  <class 'list'>\n"
          ],
          "name": "stdout"
        }
      ]
    },
    {
      "cell_type": "code",
      "metadata": {
        "id": "w5E7dVltfPut"
      },
      "source": [
        "lista_a = [1,2,3,4,5]\n",
        "lista_b = [1,2,'Python',4,[8,9.8,9,]]\n"
      ],
      "execution_count": null,
      "outputs": []
    },
    {
      "cell_type": "code",
      "metadata": {
        "colab": {
          "base_uri": "https://localhost:8080/"
        },
        "id": "n7OepwAifiuf",
        "outputId": "0baef158-f7f1-418b-9682-dd4f6f77ef83"
      },
      "source": [
        "print(\"Conteúdo da lista a : \",lista_a)\n",
        "print(\"Conteúdo da lista b : \", lista_b)"
      ],
      "execution_count": null,
      "outputs": [
        {
          "output_type": "stream",
          "text": [
            "Conteúdo da lista a :  [1, 2, 3, 4, 5]\n",
            "Conteúdo da lista b :  [1, 2, 'Python', 4, [8, 9.8, 9]]\n"
          ],
          "name": "stdout"
        }
      ]
    },
    {
      "cell_type": "code",
      "metadata": {
        "id": "OyDv81KrfwIW"
      },
      "source": [
        ""
      ],
      "execution_count": null,
      "outputs": []
    },
    {
      "cell_type": "markdown",
      "metadata": {
        "id": "oUfxGnTWf48B"
      },
      "source": [
        "### Slicing de lista/fatiamento\n",
        "\n",
        "##### Acessando os dados contidos na lista.\n",
        "###### - Para acessar um elemento dentro da lista devemos referenciar entre colchetes [i]\n",
        "###### o indice desesado."
      ]
    },
    {
      "cell_type": "code",
      "metadata": {
        "id": "tetw96AxgBjp"
      },
      "source": [
        "lista_c = [3,'Produção',5,1,3]\n"
      ],
      "execution_count": null,
      "outputs": []
    },
    {
      "cell_type": "code",
      "metadata": {
        "colab": {
          "base_uri": "https://localhost:8080/"
        },
        "id": "xFMrJVmNgjRH",
        "outputId": "1b27fd54-b145-4fa3-fadf-4831512ca6eb"
      },
      "source": [
        "lista_c[2:]"
      ],
      "execution_count": null,
      "outputs": [
        {
          "output_type": "execute_result",
          "data": {
            "text/plain": [
              "[5, 1, 3]"
            ]
          },
          "metadata": {
            "tags": []
          },
          "execution_count": 8
        }
      ]
    },
    {
      "cell_type": "code",
      "metadata": {
        "colab": {
          "base_uri": "https://localhost:8080/"
        },
        "id": "URKiLde_gqYX",
        "outputId": "c49125c8-9cf0-498a-8e4e-81f1f1ae7f0e"
      },
      "source": [
        "# acessando os elementos dentro lista atraves dos indices\n",
        "# INDICE DA LISTA C    0,    1     ,2,3,4\n",
        "\n",
        "#           lista_c = [3,'Produção',5,1,3]\n",
        "\n",
        "lista_b = [1,2,'Python',4,[8,9.8,9,]]\n",
        "lista_d = lista_b + lista_c\n",
        "print(lista_d)"
      ],
      "execution_count": null,
      "outputs": [
        {
          "output_type": "stream",
          "text": [
            "[1, 2, 'Python', 4, [8, 9.8, 9], 3, 'Produção', 5, 1, 3]\n"
          ],
          "name": "stdout"
        }
      ]
    },
    {
      "cell_type": "code",
      "metadata": {
        "colab": {
          "base_uri": "https://localhost:8080/"
        },
        "id": "uD3yTd6jhQqP",
        "outputId": "d7a2f54e-76c7-4b87-dc47-dfdd2e88cf00"
      },
      "source": [
        "# Acessando um elemento da lista\n",
        "valores = [45,66,6,99,9.89,11,134,90002]\n",
        "print(valores[3])\n"
      ],
      "execution_count": null,
      "outputs": [
        {
          "output_type": "stream",
          "text": [
            "99\n"
          ],
          "name": "stdout"
        }
      ]
    },
    {
      "cell_type": "markdown",
      "metadata": {
        "id": "nMk2w54lmLTP"
      },
      "source": [
        "## 2.5. - Similaridades entre listas e strings\n",
        "\n",
        "\n",
        "\n",
        "*   Amba são indexáveis com índices a partir de [0];\n",
        "*   Strings, assim como listas podem ser fatiadas;\n",
        "\n",
        "\n",
        "*   A função len(x) retorna o número de elementos de uma lista e o número de caractéres de uma STRING;\n",
        "*   A operação de soma funciona de maneira parecida\n",
        "\n",
        "\n",
        "*   Ambas podem ser multiplicadas por um valor inteiro.\n",
        "\n",
        "\n",
        "####### - Entretanto, cuidado pois não são do mesmo tipo (lista != string)\n",
        "\n",
        "\n",
        "\n",
        "\n",
        "\n"
      ]
    },
    {
      "cell_type": "code",
      "metadata": {
        "id": "erjYJ4fMh47F"
      },
      "source": [
        "lista_1 = ['PA','YA','TA','HA','OA','NA']\n",
        "string_1 = 'PAYATAHAOANA'\n",
        "\n"
      ],
      "execution_count": null,
      "outputs": []
    },
    {
      "cell_type": "code",
      "metadata": {
        "colab": {
          "base_uri": "https://localhost:8080/"
        },
        "id": "bnR2PZctnK2l",
        "outputId": "0bee37f5-5e06-446b-8241-643703bb4d2e"
      },
      "source": [
        "print(lista_1 *3)"
      ],
      "execution_count": null,
      "outputs": [
        {
          "output_type": "stream",
          "text": [
            "['PA', 'YA', 'TA', 'HA', 'OA', 'NA', 'PA', 'YA', 'TA', 'HA', 'OA', 'NA', 'PA', 'YA', 'TA', 'HA', 'OA', 'NA']\n"
          ],
          "name": "stdout"
        }
      ]
    },
    {
      "cell_type": "markdown",
      "metadata": {
        "id": "jqr6D9f_nbcP"
      },
      "source": [
        "## 2.6 - VALORES BOOLEANOS (Boolean Values) \n",
        "#### O que são?\n",
        "\n",
        "\n",
        "*   As variáveis do tipo bool armazenam constantes do tipo True ou False (Verdadeiro ou Falso)\n",
        "\n",
        "\n"
      ]
    },
    {
      "cell_type": "code",
      "metadata": {
        "colab": {
          "base_uri": "https://localhost:8080/",
          "height": 131
        },
        "id": "DnFedIdenyiS",
        "outputId": "8fd3b205-bf93-4dac-eefe-b35a1b247332"
      },
      "source": [
        "5 = 5 "
      ],
      "execution_count": null,
      "outputs": [
        {
          "output_type": "error",
          "ename": "SyntaxError",
          "evalue": "ignored",
          "traceback": [
            "\u001b[0;36m  File \u001b[0;32m\"<ipython-input-25-0910288c0d4e>\"\u001b[0;36m, line \u001b[0;32m1\u001b[0m\n\u001b[0;31m    5 = 5\u001b[0m\n\u001b[0m          ^\u001b[0m\n\u001b[0;31mSyntaxError\u001b[0m\u001b[0;31m:\u001b[0m can't assign to literal\n"
          ]
        }
      ]
    },
    {
      "cell_type": "markdown",
      "metadata": {
        "id": "wYgDM7WInb0L"
      },
      "source": [
        ""
      ]
    },
    {
      "cell_type": "code",
      "metadata": {
        "colab": {
          "base_uri": "https://localhost:8080/"
        },
        "id": "x-YqJcefn1x0",
        "outputId": "870d2050-8675-4ba8-e399-05aad4b3fec0"
      },
      "source": [
        "print('A informação do lado direito é igual ao lado esquero? -',5 == 5)"
      ],
      "execution_count": null,
      "outputs": [
        {
          "output_type": "stream",
          "text": [
            "A informação do lado direito é igual ao lado esquero? - True\n"
          ],
          "name": "stdout"
        }
      ]
    },
    {
      "cell_type": "code",
      "metadata": {
        "colab": {
          "base_uri": "https://localhost:8080/"
        },
        "id": "9poMP2rPoIPa",
        "outputId": "1b31a289-6550-48f4-8cb6-b28444b342c6"
      },
      "source": [
        "print('5 é igual a 4 ? -',5 == 4)\n",
        "print('-----------------------------------')\n",
        "print('5 é difernte de 4 ? -',5 != 4)\n",
        "print('-----------------------------------')\n",
        "print('5 é maior ou igual a 4 ? -',5 >= 4)\n",
        "print('-----------------------------------')\n",
        "print('5 é menor ou igual a 4? -',5 <= 4)\n",
        "print('-----------------------------------')\n",
        "print('5 é maior do que 4? -',5 > 4)\n",
        "print('-----------------------------------')\n",
        "print('5 é menor do que 4? -',5 < 4)\n"
      ],
      "execution_count": null,
      "outputs": [
        {
          "output_type": "stream",
          "text": [
            "5 é igual a 4 ? - False\n",
            "-----------------------------------\n",
            "5 é difernte de 4 ? - True\n",
            "-----------------------------------\n",
            "5 é maior ou igual a 4 ? - True\n",
            "-----------------------------------\n",
            "5 é menor ou igual a 4? - False\n",
            "-----------------------------------\n",
            "5 é maior do que 4? - True\n",
            "-----------------------------------\n",
            "5 é menor do que 4? - False\n"
          ],
          "name": "stdout"
        }
      ]
    },
    {
      "cell_type": "markdown",
      "metadata": {
        "id": "mwwWwINwqCDG"
      },
      "source": [
        "#######  https://docs.python.org/3/library/stdtypes.html#iterator-types"
      ]
    },
    {
      "cell_type": "code",
      "metadata": {
        "colab": {
          "base_uri": "https://localhost:8080/"
        },
        "id": "fsG2Ivy4pLH-",
        "outputId": "b97a3c0e-7e78-4b8a-a847-4bae9da94059"
      },
      "source": [
        "# Resto de divisão \n",
        "a = 10\n",
        "print('O resto da divisao entre 10 por 2 é : ',a%2)"
      ],
      "execution_count": null,
      "outputs": [
        {
          "output_type": "stream",
          "text": [
            "O resto da divisao entre 10 por 2 é :  0\n"
          ],
          "name": "stdout"
        }
      ]
    },
    {
      "cell_type": "markdown",
      "metadata": {
        "id": "ki4MqQjaqpfb"
      },
      "source": [
        ""
      ]
    },
    {
      "cell_type": "code",
      "metadata": {
        "colab": {
          "base_uri": "https://localhost:8080/"
        },
        "id": "Fivh9QqApnhB",
        "outputId": "ed238ffa-ccc6-46e3-b65c-6278a6a88d14"
      },
      "source": [
        "# Resto de divisão \n",
        "b = 11\n",
        "print('O resto da divisao entre 11 por 2 é : ',b%2)"
      ],
      "execution_count": null,
      "outputs": [
        {
          "output_type": "stream",
          "text": [
            "O resto da divisao entre 11 por 2 é :  1\n"
          ],
          "name": "stdout"
        }
      ]
    },
    {
      "cell_type": "markdown",
      "metadata": {
        "id": "7nHefr92nb5V"
      },
      "source": [
        ""
      ]
    },
    {
      "cell_type": "markdown",
      "metadata": {
        "id": "3LQAK62ZigBs"
      },
      "source": [
        "#### - Exercício 1\n",
        "Usando o conceito de lista, criar um programa que, a partir de 5 números reais digitados pelo usuário, calcule e exiba o valor de sua média."
      ]
    },
    {
      "cell_type": "code",
      "metadata": {
        "colab": {
          "base_uri": "https://localhost:8080/"
        },
        "id": "iWQNwFhni2NR",
        "outputId": "ad1fdffa-943d-4b81-e940-e3a5f66a119c"
      },
      "source": [
        "numero = [0,0,0,0,0]\n",
        "\n",
        "i = 0\n",
        "soma = 0\n",
        "while i < 5:\n",
        "  numero[i] = float(input(\"Informe um número: \"))\n",
        "  soma = soma + numero[i]\n",
        "  i = i + 1 # i++ ou i +=1\n",
        "\n",
        "media = soma/5\n",
        "print('\\nO valor da média é %3.1f' % media)\n",
        "print(\"\\n\")\n",
        "print('O valor da média é: ', media)\n",
        "print('\\n\\n')\n",
        "print(f'O valor da média é {media}')"
      ],
      "execution_count": null,
      "outputs": [
        {
          "output_type": "stream",
          "text": [
            "Informe um número: 3\n",
            "Informe um número: 5\n",
            "Informe um número: 1\n",
            "Informe um número: 7\n",
            "Informe um número: 9\n",
            "\n",
            "O valor da média é 5.0\n",
            "\n",
            "\n",
            "O valor da média é:  5.0\n",
            "\n",
            "\n",
            "\n",
            "O valor da média é 5.0\n"
          ],
          "name": "stdout"
        }
      ]
    },
    {
      "cell_type": "markdown",
      "metadata": {
        "id": "Qm4CSmajlLJQ"
      },
      "source": [
        "## Exercício - Desafio \n",
        "Refazer o exercício 1 (abaixo) utilize uma lista vazia ( numero =[  ]) e o método .append()  \n",
        "\n",
        "*   Faça uma pesquisa na internet, livros e/ou apostilas de como se utilizar o método append.() para adicionar elementos na lista.   \n",
        "*   Usando o conceito de lista, criar um programa que, a partir de 5 números reais digitados pelo usuário, calcule e exiba o valor de sua média.\n",
        "\n"
      ]
    },
    {
      "cell_type": "markdown",
      "metadata": {
        "id": "t1P94U_LqrBB"
      },
      "source": [
        "- Dica de livro: \n",
        "\n",
        "[https://penseallen.github.io/PensePython2e/](https://)"
      ]
    },
    {
      "cell_type": "code",
      "metadata": {
        "id": "tIKAk6h4lubi"
      },
      "source": [
        ""
      ],
      "execution_count": null,
      "outputs": []
    }
  ]
}