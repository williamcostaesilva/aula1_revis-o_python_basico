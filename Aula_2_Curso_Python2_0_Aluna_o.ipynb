{
  "nbformat": 4,
  "nbformat_minor": 0,
  "metadata": {
    "colab": {
      "name": "Aula-2-Curso-Python2.0-Aluna-o",
      "provenance": [],
      "collapsed_sections": [],
      "authorship_tag": "ABX9TyN7BUI5scTGtnBO6bH6MPvH",
      "include_colab_link": true
    },
    "kernelspec": {
      "name": "python3",
      "display_name": "Python 3"
    },
    "language_info": {
      "name": "python"
    }
  },
  "cells": [
    {
      "cell_type": "markdown",
      "metadata": {
        "id": "view-in-github",
        "colab_type": "text"
      },
      "source": [
        "<a href=\"https://colab.research.google.com/github/williamcostaesilva/aula1_revis-o_python_basico/blob/main/Aula_2_Curso_Python2_0_Aluna_o.ipynb\" target=\"_parent\"><img src=\"https://colab.research.google.com/assets/colab-badge.svg\" alt=\"Open In Colab\"/></a>"
      ]
    },
    {
      "cell_type": "markdown",
      "metadata": {
        "id": "9-glfd38SkNp"
      },
      "source": [
        "![images-2.png](data:image/png;base64,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)\n",
        "\n",
        "# Universidade Federal do Amazonas\n",
        "** Departamento de Engenharia de Produção **\n",
        "\n",
        "\n",
        "** - Projeto Super 2021 - Curso Python 2.0 **\n",
        "\n",
        "** Aula 2 - Computação científica - Pacote Sympy **\n",
        "**  Prof. William Costa **"
      ]
    },
    {
      "cell_type": "code",
      "metadata": {
        "id": "TQ79adUc9BD0"
      },
      "source": [
        ""
      ],
      "execution_count": null,
      "outputs": []
    },
    {
      "cell_type": "markdown",
      "metadata": {
        "id": "g2DCQuwe9CPO"
      },
      "source": [
        "![sympy-figura-2.jpg](data:image/jpeg;base64,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)\n",
        "\n",
        "\n",
        "\n",
        "### Sympy é um biblioteca criada para trabalhar com matemática simbólica **\n",
        "\n",
        "** Tais como: **\n",
        "\n",
        "*   Matrizes;\n",
        "*   Cálculo de derivadas, integrais;\n",
        "\n",
        "*   Utiliza solvers;\n",
        "\n",
        "** Para mais informações acesse: [https://docs.sympy.org/latest/index.html](https://) \n",
        "**"
      ]
    },
    {
      "cell_type": "markdown",
      "metadata": {
        "id": "K8N_XbBC_cQK"
      },
      "source": [
        "####- SÍMBOLOS\n",
        "\n",
        "*   Função symbols(string_de_símbolo)\n",
        "*   Função init_printing( )\n",
        "\n",
        "*   Função subs(simbolos, valores)\n",
        "*   Função simplify(equação)\n",
        "\n",
        "** Para mais informações acesse: [https://docs.sympy.org/latest/tutorial/simplification.html](https://)\n",
        "\n",
        "\n",
        "\n"
      ]
    },
    {
      "cell_type": "code",
      "metadata": {
        "colab": {
          "base_uri": "https://localhost:8080/",
          "height": 38
        },
        "id": "nD5L9yhf_uXR",
        "outputId": "0a6cf823-62f5-4ace-8ed7-9258501c44a4"
      },
      "source": [
        "# Importar  a biblioteca sympy\n",
        "import sympy as sp\n",
        "x = sp.symbols('x')\n",
        "x**3"
      ],
      "execution_count": null,
      "outputs": [
        {
          "output_type": "execute_result",
          "data": {
            "image/png": "[encoded data removed]",
            "text/latex": "$\\displaystyle x^{3}$",
            "text/plain": [
              " 3\n",
              "x "
            ]
          },
          "metadata": {},
          "execution_count": 38
        }
      ]
    },
    {
      "cell_type": "code",
      "metadata": {
        "colab": {
          "base_uri": "https://localhost:8080/",
          "height": 38
        },
        "id": "Fne3dKkuRF2J",
        "outputId": "58a7d38e-9c55-4c3b-90ea-1965933e5ce6"
      },
      "source": [
        "sp.init_printing()\n",
        "\n",
        "#Criando  uma listda com  simbolos y e x\n",
        "lista_simbolos = ['y','x']\n",
        "y,x = sp.symbols(lista_simbolos)\n",
        "\n",
        "# criando uma funçao f(x)\n",
        "f_x_y =x**2 + y**2 + x*y\n",
        "f_x_y"
      ],
      "execution_count": null,
      "outputs": [
        {
          "output_type": "execute_result",
          "data": {
            "image/png": "[encoded data removed]",
            "text/latex": "$\\displaystyle x^{2} + x y + y^{2}$",
            "text/plain": [
              " 2          2\n",
              "x  + x⋅y + y "
            ]
          },
          "metadata": {},
          "execution_count": 40
        }
      ]
    },
    {
      "cell_type": "code",
      "metadata": {
        "colab": {
          "base_uri": "https://localhost:8080/",
          "height": 37
        },
        "id": "P3rycZ2gThEq",
        "outputId": "9a1cb493-0cf3-4e0d-b613-13d01dd2ea95"
      },
      "source": [
        "#unçao subs- troca os simbolos por valores\n",
        "resposta = f_x_y.subs(x,1).subs(y,2)\n",
        "resposta"
      ],
      "execution_count": null,
      "outputs": [
        {
          "output_type": "execute_result",
          "data": {
            "image/png": "[encoded data removed]",
            "text/latex": "$\\displaystyle 7$",
            "text/plain": [
              "7"
            ]
          },
          "metadata": {},
          "execution_count": 42
        }
      ]
    },
    {
      "cell_type": "code",
      "metadata": {
        "colab": {
          "base_uri": "https://localhost:8080/",
          "height": 39
        },
        "id": "8SM-N820Un-C",
        "outputId": "25b339ff-1f72-41ab-adb5-27e42f8aaac1"
      },
      "source": [
        "# Função simplify - ela smplifica uma expressao\n",
        "f_xy = (x+y)**2 +y**2 +2*x*y +y**2\n",
        "f_xy\n",
        "#sp.simplify(f_xy)"
      ],
      "execution_count": null,
      "outputs": [
        {
          "output_type": "execute_result",
          "data": {
            "image/png": "[encoded data removed]",
            "text/latex": "$\\displaystyle 2 x y + 2 y^{2} + \\left(x + y\\right)^{2}$",
            "text/plain": [
              "           2          2\n",
              "2⋅x⋅y + 2⋅y  + (x + y) "
            ]
          },
          "metadata": {},
          "execution_count": 45
        }
      ]
    },
    {
      "cell_type": "code",
      "metadata": {
        "colab": {
          "base_uri": "https://localhost:8080/",
          "height": 38
        },
        "id": "3Gco5_bNSgxk",
        "outputId": "c97cc24a-4042-40f7-c484-c69f0a703d9d"
      },
      "source": [
        "sp.simplify(f_xy)"
      ],
      "execution_count": null,
      "outputs": [
        {
          "output_type": "execute_result",
          "data": {
            "image/png": "[encoded data removed]",
            "text/latex": "$\\displaystyle x^{2} + 4 x y + 3 y^{2}$",
            "text/plain": [
              " 2              2\n",
              "x  + 4⋅x⋅y + 3⋅y "
            ]
          },
          "metadata": {},
          "execution_count": 46
        }
      ]
    },
    {
      "cell_type": "markdown",
      "metadata": {
        "id": "PuXXKJkTSmdt"
      },
      "source": [
        "Matrix"
      ]
    },
    {
      "cell_type": "code",
      "metadata": {
        "id": "wYT7RhZKXe2W"
      },
      "source": [
        "# função .Matrix([])\n",
        "import sympy as sp\n",
        "sp.init_printing()"
      ],
      "execution_count": null,
      "outputs": []
    },
    {
      "cell_type": "code",
      "metadata": {
        "id": "yUvG5_gF_uda",
        "colab": {
          "base_uri": "https://localhost:8080/",
          "height": 57
        },
        "outputId": "f06e89eb-2647-4c70-de4a-10abcae6cea5"
      },
      "source": [
        "# Criar matrix \n",
        "sp.Matrix([[1,2,3],[4,5,6]])\n",
        "A = sp.Matrix([[1,2,3],[4,5,6]])\n",
        "A"
      ],
      "execution_count": null,
      "outputs": [
        {
          "output_type": "execute_result",
          "data": {
            "text/latex": "$\\displaystyle \\left[\\begin{matrix}1 & 2 & 3\\\\4 & 5 & 6\\end{matrix}\\right]$",
            "text/plain": [
              "⎡1  2  3⎤\n",
              "⎢       ⎥\n",
              "⎣4  5  6⎦"
            ]
          },
          "metadata": {},
          "execution_count": 51
        }
      ]
    },
    {
      "cell_type": "code",
      "metadata": {
        "id": "WaCOTRP7_usR",
        "colab": {
          "base_uri": "https://localhost:8080/",
          "height": 37
        },
        "outputId": "8ebfb774-cc66-4b70-dbf7-66f25511ef12"
      },
      "source": [
        "# Shape é uma propriedade da matrix - serve indicar qtde de linhas e colunas\n",
        "A = sp.Matrix([[1,2,3],[4,5,6]])\n",
        "A.shape"
      ],
      "execution_count": null,
      "outputs": [
        {
          "output_type": "execute_result",
          "data": {
            "image/png": "[encoded data removed]",
            "text/latex": "$\\displaystyle \\left( 2, \\  3\\right)$",
            "text/plain": [
              "(2, 3)"
            ]
          },
          "metadata": {},
          "execution_count": 54
        }
      ]
    },
    {
      "cell_type": "code",
      "metadata": {
        "id": "6E9CTTGZ_uvY",
        "colab": {
          "base_uri": "https://localhost:8080/",
          "height": 38
        },
        "outputId": "35e16f81-c454-4af1-d31a-8f89a608571b"
      },
      "source": [
        "# Transposta da matrix - converte linhas em colunas\n",
        "B = sp.Matrix([[1,2,3]])\n",
        "B"
      ],
      "execution_count": null,
      "outputs": [
        {
          "output_type": "execute_result",
          "data": {
            "text/latex": "$\\displaystyle \\left[\\begin{matrix}1 & 2 & 3\\end{matrix}\\right]$",
            "text/plain": [
              "[1  2  3]"
            ]
          },
          "metadata": {},
          "execution_count": 55
        }
      ]
    },
    {
      "cell_type": "code",
      "metadata": {
        "id": "sFgu-LBQ_u1X",
        "colab": {
          "base_uri": "https://localhost:8080/",
          "height": 78
        },
        "outputId": "c8fbb76b-979e-4632-c7ce-7af0c739bd63"
      },
      "source": [
        "B = sp.Matrix([[1,2,3]]).T\n",
        "B"
      ],
      "execution_count": null,
      "outputs": [
        {
          "output_type": "execute_result",
          "data": {
            "text/latex": "$\\displaystyle \\left[\\begin{matrix}1\\\\2\\\\3\\end{matrix}\\right]$",
            "text/plain": [
              "⎡1⎤\n",
              "⎢ ⎥\n",
              "⎢2⎥\n",
              "⎢ ⎥\n",
              "⎣3⎦"
            ]
          },
          "metadata": {},
          "execution_count": 56
        }
      ]
    },
    {
      "cell_type": "code",
      "metadata": {
        "colab": {
          "base_uri": "https://localhost:8080/",
          "height": 78
        },
        "id": "WF3cqy7bcgft",
        "outputId": "d431a2e6-2ad8-48b4-bb39-be082e6f03a3"
      },
      "source": [
        "# O que vcs acham que vai dar de resultado? \n",
        "B = sp.Matrix([[1,2,3]])\n",
        "#B\n",
        "C = sp.Matrix([[1],[2],[3]])\n",
        "C\n"
      ],
      "execution_count": null,
      "outputs": [
        {
          "output_type": "execute_result",
          "data": {
            "text/latex": "$\\displaystyle \\left[\\begin{matrix}1\\\\2\\\\3\\end{matrix}\\right]$",
            "text/plain": [
              "⎡1⎤\n",
              "⎢ ⎥\n",
              "⎢2⎥\n",
              "⎢ ⎥\n",
              "⎣3⎦"
            ]
          },
          "metadata": {},
          "execution_count": 62
        }
      ]
    },
    {
      "cell_type": "code",
      "metadata": {
        "colab": {
          "base_uri": "https://localhost:8080/",
          "height": 78
        },
        "id": "l6l_TnWndaIG",
        "outputId": "539d54b3-5b30-4727-9801-7c78ba4962d2"
      },
      "source": [
        "# Matrix zeros -\n",
        "I = sp.zeros(3,9)\n",
        "I"
      ],
      "execution_count": null,
      "outputs": [
        {
          "output_type": "execute_result",
          "data": {
            "text/latex": "$\\displaystyle \\left[\\begin{matrix}0 & 0 & 0 & 0 & 0 & 0 & 0 & 0 & 0\\\\0 & 0 & 0 & 0 & 0 & 0 & 0 & 0 & 0\\\\0 & 0 & 0 & 0 & 0 & 0 & 0 & 0 & 0\\end{matrix}\\right]$",
            "text/plain": [
              "⎡0  0  0  0  0  0  0  0  0⎤\n",
              "⎢                         ⎥\n",
              "⎢0  0  0  0  0  0  0  0  0⎥\n",
              "⎢                         ⎥\n",
              "⎣0  0  0  0  0  0  0  0  0⎦"
            ]
          },
          "metadata": {},
          "execution_count": 69
        }
      ]
    },
    {
      "cell_type": "code",
      "metadata": {
        "colab": {
          "base_uri": "https://localhost:8080/",
          "height": 78
        },
        "id": "YpAYUXNbepNd",
        "outputId": "a8c92d5d-9b6d-4ff4-d51b-15da404da790"
      },
      "source": [
        "# Sistemas Lineares\n",
        "x1,x2,x3 = sp.symbols(['x1','x2','x3'])\n",
        "x3\n",
        "\n",
        "X = sp.Matrix([x1,x2,x3])\n",
        "X"
      ],
      "execution_count": null,
      "outputs": [
        {
          "output_type": "execute_result",
          "data": {
            "text/latex": "$\\displaystyle \\left[\\begin{matrix}x_{1}\\\\x_{2}\\\\x_{3}\\end{matrix}\\right]$",
            "text/plain": [
              "⎡x₁⎤\n",
              "⎢  ⎥\n",
              "⎢x₂⎥\n",
              "⎢  ⎥\n",
              "⎣x₃⎦"
            ]
          },
          "metadata": {},
          "execution_count": 81
        }
      ]
    },
    {
      "cell_type": "code",
      "metadata": {
        "colab": {
          "base_uri": "https://localhost:8080/",
          "height": 78
        },
        "id": "ypg3LRGCgKBQ",
        "outputId": "e01a95a1-25f2-490f-fdf1-f13e2ba0f539"
      },
      "source": [
        "\n",
        "# Criei uma matrix de incognitas x\n",
        "x1,x2,x3 = sp.symbols(['x1','x2','x3'])\n",
        "X = sp.Matrix([x1,x2,x3])\n",
        "X\n",
        "# Criar  uma matrix 3x3\n",
        "E = sp.Matrix([[1,2,3],[4,5,6],[7,8,9]])\n",
        "\n",
        "# Criar um vetor de resultado R\n",
        "R = sp.Matrix([11,22,33])\n",
        "\n",
        "# E * x = R\n",
        "# E * x - R = 0\n",
        "E * X - R"
      ],
      "execution_count": null,
      "outputs": [
        {
          "output_type": "execute_result",
          "data": {
            "text/latex": "$\\displaystyle \\left[\\begin{matrix}x_{1} + 2 x_{2} + 3 x_{3} - 11\\\\4 x_{1} + 5 x_{2} + 6 x_{3} - 22\\\\7 x_{1} + 8 x_{2} + 9 x_{3} - 33\\end{matrix}\\right]$",
            "text/plain": [
              "⎡ x₁ + 2⋅x₂ + 3⋅x₃ - 11 ⎤\n",
              "⎢                       ⎥\n",
              "⎢4⋅x₁ + 5⋅x₂ + 6⋅x₃ - 22⎥\n",
              "⎢                       ⎥\n",
              "⎣7⋅x₁ + 8⋅x₂ + 9⋅x₃ - 33⎦"
            ]
          },
          "metadata": {},
          "execution_count": 87
        }
      ]
    },
    {
      "cell_type": "markdown",
      "metadata": {
        "id": "uSvhw2ZlxP_B"
      },
      "source": [
        "## Funções do cálculo \n",
        "\n",
        "\n",
        "*   Derivada: .diff(funcao,variavel)\n",
        "*   Integral definida: .integrate(funcao,(variavel,inicio,fim))\n",
        "\n",
        "\n",
        "*   Integral indefinida: .integrate(funcao,variavel)\n",
        "\n",
        "\n"
      ]
    },
    {
      "cell_type": "code",
      "metadata": {
        "colab": {
          "base_uri": "https://localhost:8080/",
          "height": 38
        },
        "id": "PDmYqJMM5qiS",
        "outputId": "db421e33-871b-4d9d-d5f1-279f872bbe71"
      },
      "source": [
        "import sympy as sp\n",
        "sp.init_printing()\n",
        "import math as mt\n",
        "\n",
        "# criar uma expressão numero pi (3.1416)\n",
        "a = sp.pi*2 + 198*sp.pi\n",
        "a"
      ],
      "execution_count": 15,
      "outputs": [
        {
          "output_type": "execute_result",
          "data": {
            "image/png": "[encoded data removed]",
            "text/latex": "$\\displaystyle 200 \\pi$",
            "text/plain": [
              "200⋅π"
            ]
          },
          "metadata": {},
          "execution_count": 15
        }
      ]
    },
    {
      "cell_type": "code",
      "metadata": {
        "colab": {
          "base_uri": "https://localhost:8080/",
          "height": 37
        },
        "id": "E4ai1a8c6_On",
        "outputId": "aaa1fa14-f410-449d-8c1a-6c0aba9f20c4"
      },
      "source": [
        "a = mt.pi*2 + 198*mt.pi\n",
        "a"
      ],
      "execution_count": 17,
      "outputs": [
        {
          "output_type": "execute_result",
          "data": {
            "image/png": "[encoded data removed]",
            "text/latex": "$\\displaystyle 628.318530717959$",
            "text/plain": [
              "628.3185307179587"
            ]
          },
          "metadata": {},
          "execution_count": 17
        }
      ]
    },
    {
      "cell_type": "code",
      "metadata": {
        "colab": {
          "base_uri": "https://localhost:8080/",
          "height": 38
        },
        "id": "c8H5P2397UeW",
        "outputId": "0ca761b6-2fa5-4676-e375-7996a2c595af"
      },
      "source": [
        "# Criando uma variavel ou expressão\n",
        "x = sp.symbols('x')\n",
        "f_x = sp.sin(x)\n",
        "f_x"
      ],
      "execution_count": 35,
      "outputs": [
        {
          "output_type": "execute_result",
          "data": {
            "image/png": "[encoded data removed]",
            "text/latex": "$\\displaystyle \\sin{\\left(x \\right)}$",
            "text/plain": [
              "sin(x)"
            ]
          },
          "metadata": {},
          "execution_count": 35
        }
      ]
    },
    {
      "cell_type": "code",
      "metadata": {
        "colab": {
          "base_uri": "https://localhost:8080/",
          "height": 38
        },
        "id": "3C9n_Ep47tAb",
        "outputId": "76a0aed5-da34-4611-c46b-5f418affa45d"
      },
      "source": [
        "# Derivar a funçao f(x)\n",
        "df_dx = sp.diff(f_x,x)\n",
        "df_dx"
      ],
      "execution_count": 44,
      "outputs": [
        {
          "output_type": "execute_result",
          "data": {
            "image/png": "[encoded data removed]",
            "text/latex": "$\\displaystyle \\cos{\\left(x \\right)}$",
            "text/plain": [
              "cos(x)"
            ]
          },
          "metadata": {},
          "execution_count": 44
        }
      ]
    },
    {
      "cell_type": "code",
      "metadata": {
        "colab": {
          "base_uri": "https://localhost:8080/",
          "height": 38
        },
        "id": "L08_fz4TBBu-",
        "outputId": "0517a75c-62f7-4766-fbb1-6ac10b596847"
      },
      "source": [
        "# Calcular a derivada segunda da função f(x) = seno(x)\n",
        "f_x = sp.sin(x)\n",
        "df2dx2 = sp.diff(f_x,x,x)\n",
        "df2dx2"
      ],
      "execution_count": 52,
      "outputs": [
        {
          "output_type": "execute_result",
          "data": {
            "image/png": "[encoded data removed]",
            "text/latex": "$\\displaystyle - \\sin{\\left(x \\right)}$",
            "text/plain": [
              "-sin(x)"
            ]
          },
          "metadata": {},
          "execution_count": 52
        }
      ]
    },
    {
      "cell_type": "markdown",
      "metadata": {
        "id": "uSnJny7P1rCt"
      },
      "source": [
        "### - Vamos verificar e prof. acertou ? \n",
        "https://pt.symbolab.com/solver/derivative-calculator/%5Cfrac%7Bd%7D%7Bdx%7D%5Cleft(%5Csin%5E%7B2%7D%5Cleft(x%5Cright)%5Cright)"
      ]
    },
    {
      "cell_type": "code",
      "metadata": {
        "colab": {
          "base_uri": "https://localhost:8080/",
          "height": 38
        },
        "id": "Kdx82HN48xsQ",
        "outputId": "496b36bd-e7c4-43b4-b419-feb2b5b3ede8"
      },
      "source": [
        "# Derivada parciais - quando a fç apresenta duas variáveis independentes f(x,y)\n",
        "funcao_y_x = ['y','x']\n",
        "y,x = sp.symbols(['y','x'])\n",
        "\n",
        "f_y_x = x**2 + y**2 - 100\n",
        "f_y_x\n"
      ],
      "execution_count": 55,
      "outputs": [
        {
          "output_type": "execute_result",
          "data": {
            "image/png": "[encoded data removed]",
            "text/latex": "$\\displaystyle x^{2} + y^{2} - 100$",
            "text/plain": [
              " 2    2      \n",
              "x  + y  - 100"
            ]
          },
          "metadata": {},
          "execution_count": 55
        }
      ]
    },
    {
      "cell_type": "code",
      "metadata": {
        "colab": {
          "base_uri": "https://localhost:8080/",
          "height": 38
        },
        "id": "32ON0cKYG-PX",
        "outputId": "2a69279a-ef30-4eed-dab6-392c68d0bd87"
      },
      "source": [
        "f_y_x = x**2 + y**2 -100\n",
        "\n",
        "# Derivar f(x,y) em funçao de y\n",
        "dfdy =sp.diff(f_y_x,y)\n",
        "dfdy"
      ],
      "execution_count": 57,
      "outputs": [
        {
          "output_type": "execute_result",
          "data": {
            "image/png": "[encoded data removed]",
            "text/latex": "$\\displaystyle 2 y$",
            "text/plain": [
              "2⋅y"
            ]
          },
          "metadata": {},
          "execution_count": 57
        }
      ]
    },
    {
      "cell_type": "code",
      "metadata": {
        "colab": {
          "base_uri": "https://localhost:8080/",
          "height": 38
        },
        "id": "0jnl6MbSHuX0",
        "outputId": "a9d1daa0-401f-4cb0-9b4e-aef1c1c78a4f"
      },
      "source": [
        "f_y_x = x**2 + y**2 -100\n",
        "\n",
        "# Derivar f(x,y) em funçao de x\n",
        "dfdx =sp.diff(f_y_x,x)\n",
        "dfdx"
      ],
      "execution_count": 58,
      "outputs": [
        {
          "output_type": "execute_result",
          "data": {
            "image/png": "[encoded data removed]",
            "text/latex": "$\\displaystyle 2 x$",
            "text/plain": [
              "2⋅x"
            ]
          },
          "metadata": {},
          "execution_count": 58
        }
      ]
    },
    {
      "cell_type": "markdown",
      "metadata": {
        "id": "hfDsVXqs2kwr"
      },
      "source": [
        "### - Integral \n",
        "** sp.integrate(nome_da_funcao,variavel_para_integrar)  **\n",
        "\n",
        "**  sp.integrate(nome_da_funcao,(variavel_para_integrar,LInferior,LSuperior))**"
      ]
    },
    {
      "cell_type": "code",
      "metadata": {
        "colab": {
          "base_uri": "https://localhost:8080/",
          "height": 54
        },
        "id": "Hi5qQvv91zU3",
        "outputId": "e8b30b40-2239-49b4-9888-2a8d0407e5b4"
      },
      "source": [
        "x = sp.symbols('x')\n",
        "sp.init_printing()\n",
        "\n",
        "fx = x**2\n",
        "fx\n",
        "\n",
        "# Integrando f(x) em fç de x\n",
        "int_fx = sp.integrate(fx,x)\n",
        "int_fx"
      ],
      "execution_count": 74,
      "outputs": [
        {
          "output_type": "execute_result",
          "data": {
            "image/png": "[encoded data removed]",
            "text/latex": "$\\displaystyle \\frac{x^{3}}{3}$",
            "text/plain": [
              " 3\n",
              "x \n",
              "──\n",
              "3 "
            ]
          },
          "metadata": {},
          "execution_count": 74
        }
      ]
    },
    {
      "cell_type": "code",
      "metadata": {
        "id": "6dUnhI_yKYNf"
      },
      "source": [
        "# Criando a constante C de integração na função f(x)\n",
        "int_fx\n",
        "int_fx +=C1   # int_fx = int_fx + C1\n",
        "int_fx"
      ],
      "execution_count": null,
      "outputs": []
    },
    {
      "cell_type": "code",
      "metadata": {
        "colab": {
          "base_uri": "https://localhost:8080/",
          "height": 51
        },
        "id": "59-8_REPKzr9",
        "outputId": "65138c73-bc7b-4dd6-e60b-f0968beddfd2"
      },
      "source": [
        "# Integral definida sp.integrate(nome_funcao,(variavel,Inicio,Fim))\n",
        "fx\n",
        "int_fx\n",
        "int_fx2 = sp.integrate(fx,(x,0,2))\n",
        "int_fx2\n"
      ],
      "execution_count": 83,
      "outputs": [
        {
          "output_type": "execute_result",
          "data": {
            "image/png": "[encoded data removed]",
            "text/latex": "$\\displaystyle \\frac{8}{3}$",
            "text/plain": [
              "8/3"
            ]
          },
          "metadata": {},
          "execution_count": 83
        }
      ]
    },
    {
      "cell_type": "code",
      "metadata": {
        "colab": {
          "base_uri": "https://localhost:8080/",
          "height": 51
        },
        "id": "91_1hx2-Pa7B",
        "outputId": "5caeccdd-82bf-4c25-bceb-4bb14ab5c196"
      },
      "source": [
        "# Integral definida sp.integrate(nome_funcao,(variavel,Inicio,Fim))\n",
        "C2 = sp.symbols('C2')\n",
        "fx\n",
        "int_fx\n",
        "int_fx2 = sp.integrate(fx,(x,0,2))\n",
        "int_fx2\n",
        "\n",
        "int_fx2 +=C2\n",
        "int_fx2"
      ],
      "execution_count": 86,
      "outputs": [
        {
          "output_type": "execute_result",
          "data": {
            "image/png": "[encoded data removed]",
            "text/latex": "$\\displaystyle C_{2} + \\frac{8}{3}$",
            "text/plain": [
              "C₂ + 8/3"
            ]
          },
          "metadata": {},
          "execution_count": 86
        }
      ]
    },
    {
      "cell_type": "markdown",
      "metadata": {
        "id": "mZEFgvkE-hST"
      },
      "source": [
        "\n",
        "** Semana 3 (10/09) – Módulo I – Python computação científica : Numpy – \n",
        "\n",
        "\n",
        "– Array\n",
        "\n",
        "– Funções de criação de Array;\n",
        "\n",
        "– Solver para sistemas lineares\n",
        "\n",
        "\n",
        "– Exercícios\n",
        "\n",
        "\n",
        " **"
      ]
    },
    {
      "cell_type": "markdown",
      "metadata": {
        "id": "t1P94U_LqrBB"
      },
      "source": [
        "- Dica de livro: \n",
        "\n",
        "[https://penseallen.github.io/PensePython2e/](https://)"
      ]
    },
    {
      "cell_type": "code",
      "metadata": {
        "id": "l3HXfSU8-1gm"
      },
      "source": [
        ""
      ],
      "execution_count": null,
      "outputs": []
    },
    {
      "cell_type": "code",
      "metadata": {
        "id": "tIKAk6h4lubi"
      },
      "source": [
        ""
      ],
      "execution_count": null,
      "outputs": []
    }
  ]
}