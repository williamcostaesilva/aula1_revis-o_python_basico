{
  "nbformat": 4,
  "nbformat_minor": 0,
  "metadata": {
    "colab": {
      "name": "Programacao-Linear-pacote-pulp-ALUNA-O.ipynb",
      "provenance": [],
      "collapsed_sections": [],
      "authorship_tag": "ABX9TyMPrunAs5JiYpSi3VjqtDQP",
      "include_colab_link": true
    },
    "kernelspec": {
      "name": "python3",
      "display_name": "Python 3"
    },
    "language_info": {
      "name": "python"
    }
  },
  "cells": [
    {
      "cell_type": "markdown",
      "metadata": {
        "id": "view-in-github",
        "colab_type": "text"
      },
      "source": [
        "<a href=\"https://colab.research.google.com/github/williamcostaesilva/aula1_revis-o_python_basico/blob/main/Programacao_Linear_pacote_pulp_ALUNA_O.ipynb\" target=\"_parent\"><img src=\"https://colab.research.google.com/assets/colab-badge.svg\" alt=\"Open In Colab\"/></a>"
      ]
    },
    {
      "cell_type": "code",
      "metadata": {
        "id": "TbEhhNhDHAI-"
      },
      "source": [
        "# Instalar a biblioteca pulp\n",
        "# importar a bilblioteca pulp\n",
        "%pip install pulp\n",
        "from pulp import *"
      ],
      "execution_count": null,
      "outputs": []
    },
    {
      "cell_type": "code",
      "metadata": {
        "colab": {
          "base_uri": "https://localhost:8080/"
        },
        "id": "wTop8e4nLg6o",
        "outputId": "1af94d70-df01-4211-c1db-e87447569b0a"
      },
      "source": [
        "# Definir um nome para o problema e especificar o que quero fazer: maximizar o lucro\n",
        "model = LpProblem('Teste_maximo',LpMaximize)\n",
        "\n",
        "# Definir as variáveis de decisão \n",
        "x =LpVariable('x',lowBound=0)\n",
        "y =LpVariable('y',lowBound=0)\n",
        "\n",
        "# definir a função objetivo do problema em questão\n",
        " # função objetivo\n",
        "model += 5*x + 4*y\n",
        "\n",
        "# definir as restrições do problema \n",
        "model += 6*x + 4*y <= 24 # 1a restrição\n",
        "model += x + 2*y <= 6 # 2a restrição\n",
        "\n",
        "# Comando para resolver a programação linear - fç objetivo com as restrições\n",
        "status = model.solve() # nome_da_fç.solve()  - comando para resolver o problema\n",
        "print(model)\n",
        "\n",
        "print('Otimo valor de x: ',value(x))\n",
        "print('Otimo valor de y: ',value(y))\n",
        "\n",
        "print('Resultado da função objetivo: ',value(model.objective))\n",
        "\n",
        "print('Qual é o estatus do problema: ',LpStatus[status])\n",
        "\n"
      ],
      "execution_count": 10,
      "outputs": [
        {
          "output_type": "stream",
          "name": "stdout",
          "text": [
            "Teste_maximo:\n",
            "MAXIMIZE\n",
            "5*x + 4*y + 0\n",
            "SUBJECT TO\n",
            "_C1: 6 x + 4 y <= 24\n",
            "\n",
            "_C2: x + 2 y <= 6\n",
            "\n",
            "VARIABLES\n",
            "x Continuous\n",
            "y Continuous\n",
            "\n",
            "Otimo valor de x:  3.0\n",
            "Otimo valor de y:  1.5\n",
            "Resultado da função objetivo:  21.0\n",
            "Qual é o estatus do problema:  Optimal\n"
          ]
        }
      ]
    },
    {
      "cell_type": "code",
      "metadata": {
        "id": "Bg3PxK9J4H5f"
      },
      "source": [
        ""
      ],
      "execution_count": null,
      "outputs": []
    },
    {
      "cell_type": "markdown",
      "metadata": {
        "id": "56yrUQpKRvi0"
      },
      "source": [
        "## - ATIVIDADE \n",
        "### Programação Linear - pulp\n",
        "##### Quero maximar uma função objetivo - Quero obter lucro máximo em uma atividade.\n",
        "\n",
        "##### max Lucro = 200 * x1 + 300 * x2\n",
        "##### subject  - s.a (sujeito a):  restrições\n",
        "#####        x1 + x2 <= 45 (área)\n",
        "#####        3 * x1 + x2 <= 100 (empregados)\n",
        "#####       2 * x1 + 4 * x2 <= 120 (fertilizante)  \n",
        "\n",
        "\n",
        "*   x1 = quantidade de milho; x2 = quantidade de feijão\n",
        "*   área de plantão\n",
        "\n",
        "*   número de total de trabalhadores no campo\n",
        "*   quantidade disponível de fertizante para o plantio\n",
        "\n",
        "Resposta: \n",
        "\n",
        "x1 = 20\n",
        "\n",
        "x2 = 20\n",
        "\n",
        "Lucro Máximo = 10000\n",
        "\n",
        "\n"
      ]
    },
    {
      "cell_type": "code",
      "metadata": {
        "id": "ze2k3_exyu22"
      },
      "source": [
        ""
      ],
      "execution_count": null,
      "outputs": []
    }
  ]
}