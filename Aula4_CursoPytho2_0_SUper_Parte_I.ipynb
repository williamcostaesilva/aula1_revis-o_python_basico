{
  "nbformat": 4,
  "nbformat_minor": 0,
  "metadata": {
    "colab": {
      "name": "Aula4-CursoPytho2.0-SUper-Parte-I.ipynb",
      "provenance": [],
      "collapsed_sections": [],
      "authorship_tag": "ABX9TyN4Z4kIR+VJgwrJo7L4SSQm",
      "include_colab_link": true
    },
    "kernelspec": {
      "name": "python3",
      "display_name": "Python 3"
    },
    "language_info": {
      "name": "python"
    }
  },
  "cells": [
    {
      "cell_type": "markdown",
      "metadata": {
        "id": "view-in-github",
        "colab_type": "text"
      },
      "source": [
        "<a href=\"https://colab.research.google.com/github/williamcostaesilva/aula1_revis-o_python_basico/blob/main/Aula4_CursoPytho2_0_SUper_Parte_I.ipynb\" target=\"_parent\"><img src=\"https://colab.research.google.com/assets/colab-badge.svg\" alt=\"Open In Colab\"/></a>"
      ]
    },
    {
      "cell_type": "markdown",
      "metadata": {
        "id": "SkrLjmLqGm39"
      },
      "source": [
        "![images-2.png](data:image/png;base64,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)\n",
        "\n",
        "# Universidade Federal do Amazonas\n",
        "# Departamento de Engenharia de Produção\n",
        "\n",
        "## - Projeto Super 2021 - Curso Python 2.0\n",
        "\n",
        "### Aula 4 - Biblioteca Numpy\n"
      ]
    },
    {
      "cell_type": "markdown",
      "metadata": {
        "id": "VtOnSNtLG16j"
      },
      "source": [
        "![numpy.png](data:image/png;base64,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)\n",
        "\n",
        "Biblioteca Numpy - numerial python\n",
        "\n",
        "** Matemática computacional e ciência de dados\n",
        "\n",
        "** Numpy - basicamente é uma estrutura de dados - array[ ]\n",
        "\n",
        "    - estrutura de array;\n",
        "    - manipular array;\n",
        "    - criação de array;\n",
        "    - aplicar métodos matemáticos em array.\n",
        "    - Álgebra linear.\n",
        "   "
      ]
    },
    {
      "cell_type": "code",
      "metadata": {
        "colab": {
          "base_uri": "https://localhost:8080/",
          "height": 39
        },
        "id": "F5FGM_L4JKAi",
        "outputId": "8acf313e-bc65-46e7-95f1-f30f15f72ecd"
      },
      "source": [
        "# SOLVER - equações \n",
        "# sp.solve() ou sp.solveset()\n",
        "\n",
        "# Biblioteca sympy\n",
        "import sympy as sp\n",
        "sp.init_printing()\n",
        "# f = x**3 + 5*x**2  +x\n",
        "x = sp.symbols('x')\n",
        "f_x = x**3 + 5*x**2 + x\n",
        "f_x"
      ],
      "execution_count": 4,
      "outputs": [
        {
          "output_type": "execute_result",
          "data": {
            "image/png": "[encoded data removed]",
            "text/latex": "$\\displaystyle x^{3} + 5 x^{2} + x$",
            "text/plain": [
              " 3      2    \n",
              "x  + 5⋅x  + x"
            ]
          },
          "metadata": {},
          "execution_count": 4
        }
      ]
    },
    {
      "cell_type": "code",
      "metadata": {
        "id": "lFA0ki0fvyhk"
      },
      "source": [
        ""
      ],
      "execution_count": null,
      "outputs": []
    },
    {
      "cell_type": "code",
      "metadata": {
        "colab": {
          "base_uri": "https://localhost:8080/",
          "height": 39
        },
        "id": "d59aRt_QJKHa",
        "outputId": "800c2d8a-627a-4840-e197-e7fb88379f8d"
      },
      "source": [
        "f_x"
      ],
      "execution_count": 6,
      "outputs": [
        {
          "output_type": "execute_result",
          "data": {
            "image/png": "[encoded data removed]",
            "text/latex": "$\\displaystyle x^{3} + 5 x^{2} + x$",
            "text/plain": [
              " 3      2    \n",
              "x  + 5⋅x  + x"
            ]
          },
          "metadata": {},
          "execution_count": 6
        }
      ]
    },
    {
      "cell_type": "code",
      "metadata": {
        "colab": {
          "base_uri": "https://localhost:8080/",
          "height": 68
        },
        "id": "BuHV1fc2JKKg",
        "outputId": "14662e9a-991a-441d-f4d9-cee11e59d494"
      },
      "source": [
        "# Resolvendo a Equação f_x - método sp.solve(f,x)\n",
        "sp.solve(f_x,x)"
      ],
      "execution_count": 7,
      "outputs": [
        {
          "output_type": "execute_result",
          "data": {
            "image/png": "[encoded data removed]",
            "text/latex": "$\\displaystyle \\left[ 0, \\  - \\frac{5}{2} - \\frac{\\sqrt{21}}{2}, \\  - \\frac{5}{2} + \\frac{\\sqrt{21}}{2}\\right]$",
            "text/plain": [
              "⎡     5   √21    5   √21⎤\n",
              "⎢0, - ─ - ───, - ─ + ───⎥\n",
              "⎣     2    2     2    2 ⎦"
            ]
          },
          "metadata": {},
          "execution_count": 7
        }
      ]
    },
    {
      "cell_type": "code",
      "metadata": {
        "id": "XXWxAK7sJKNE"
      },
      "source": [
        "# x = -4.791287"
      ],
      "execution_count": 8,
      "outputs": []
    },
    {
      "cell_type": "code",
      "metadata": {
        "colab": {
          "base_uri": "https://localhost:8080/",
          "height": 37
        },
        "id": "5EOlc4IhJKPq",
        "outputId": "275a58e0-73fd-43eb-9fc5-6b1ba02e05c2"
      },
      "source": [
        "# funcao.subs(x,x1)\n",
        "f_x\n",
        "x1 = -4.791287\n",
        "f_x.subs(x,x1)"
      ],
      "execution_count": 10,
      "outputs": [
        {
          "output_type": "execute_result",
          "data": {
            "image/png": "[encoded data removed]",
            "text/latex": "$\\displaystyle 1.86075907464556 \\cdot 10^{-5}$",
            "text/plain": [
              "1.86075907464556e-5"
            ]
          },
          "metadata": {},
          "execution_count": 10
        }
      ]
    },
    {
      "cell_type": "code",
      "metadata": {
        "colab": {
          "base_uri": "https://localhost:8080/",
          "height": 79
        },
        "id": "Vyu8XOAkJKSN",
        "outputId": "32dce0b7-0d21-4e09-e059-014bbee7d058"
      },
      "source": [
        "# RESOLVENDO SISTEMAS LINEARES COM O SOLVE\n",
        "A = sp.Matrix([[3,2,4],[1,1,2],[4,3,-2]])\n",
        "A\n",
        "x1,x2,x3 = sp.symbols(['x1','x2','x3'])\n",
        "x = sp.Matrix([[x1,x2,x3]]).T\n",
        "x\n",
        "R = sp.Matrix([[11,22,33]]).T\n",
        "R\n",
        "# A * x = R\n",
        "# A * x - R = 0\n",
        "sistema = A * x - R\n",
        "sistema"
      ],
      "execution_count": 25,
      "outputs": [
        {
          "output_type": "execute_result",
          "data": {
            "text/latex": "$\\displaystyle \\left[\\begin{matrix}3 x_{1} + 2 x_{2} + 4 x_{3} - 11\\\\x_{1} + x_{2} + 2 x_{3} - 22\\\\4 x_{1} + 3 x_{2} - 2 x_{3} - 33\\end{matrix}\\right]$",
            "text/plain": [
              "⎡3⋅x₁ + 2⋅x₂ + 4⋅x₃ - 11⎤\n",
              "⎢                       ⎥\n",
              "⎢  x₁ + x₂ + 2⋅x₃ - 22  ⎥\n",
              "⎢                       ⎥\n",
              "⎣4⋅x₁ + 3⋅x₂ - 2⋅x₃ - 33⎦"
            ]
          },
          "metadata": {},
          "execution_count": 25
        }
      ]
    },
    {
      "cell_type": "code",
      "metadata": {
        "colab": {
          "base_uri": "https://localhost:8080/",
          "height": 39
        },
        "id": "0MhfElNTJKU8",
        "outputId": "adaadc77-2bf6-4586-b629-10a84547a55a"
      },
      "source": [
        "sp.solve(sistema,(x1,x2,x3))"
      ],
      "execution_count": 26,
      "outputs": [
        {
          "output_type": "execute_result",
          "data": {
            "image/png": "[encoded data removed]",
            "text/latex": "$\\displaystyle \\left\\{ x_{1} : -33, \\  x_{2} : 55, \\  x_{3} : 0\\right\\}$",
            "text/plain": [
              "{x₁: -33, x₂: 55, x₃: 0}"
            ]
          },
          "metadata": {},
          "execution_count": 26
        }
      ]
    },
    {
      "cell_type": "code",
      "metadata": {
        "colab": {
          "base_uri": "https://localhost:8080/",
          "height": 39
        },
        "id": "qG7SL9P5JKbF",
        "outputId": "e62e2164-c826-436f-b19a-138225ee20c3"
      },
      "source": [
        "# RESOLVENDO SISTEMAS LINEARES COM O SOLVE\n",
        "A = sp.Matrix([[3,2,4],[1,1,2],[4,3,-2]])\n",
        "A\n",
        "x1,x2,x3 = sp.symbols(['x1','x2','x3'])\n",
        "x = sp.Matrix([[x1,x2,x3]])\n",
        "x"
      ],
      "execution_count": 30,
      "outputs": [
        {
          "output_type": "execute_result",
          "data": {
            "text/latex": "$\\displaystyle \\left[\\begin{matrix}x_{1} & x_{2} & x_{3}\\end{matrix}\\right]$",
            "text/plain": [
              "[x₁  x₂  x₃]"
            ]
          },
          "metadata": {},
          "execution_count": 30
        }
      ]
    },
    {
      "cell_type": "code",
      "metadata": {
        "colab": {
          "base_uri": "https://localhost:8080/",
          "height": 52
        },
        "id": "rudrx-JKgeQn",
        "outputId": "3c71c689-b459-466b-a337-e59455bbaa5d"
      },
      "source": [
        "from sympy.interactive import printing\n",
        "printing.init_printing(use_latex=True)\n",
        "from sympy import *\n",
        "import sympy as sp\n",
        "# criar um simbolo para uma variavel\n",
        "x = sp.symbols('x')\n",
        "f = sp.Function('f')(x)\n",
        "f\n",
        "sp.diff(f,x)"
      ],
      "execution_count": 39,
      "outputs": [
        {
          "output_type": "execute_result",
          "data": {
            "image/png": "[encoded data removed]",
            "text/latex": "$\\displaystyle \\frac{d}{d x} f{\\left(x \\right)}$",
            "text/plain": [
              "d       \n",
              "──(f(x))\n",
              "dx      "
            ]
          },
          "metadata": {},
          "execution_count": 39
        }
      ]
    },
    {
      "cell_type": "code",
      "metadata": {
        "colab": {
          "base_uri": "https://localhost:8080/",
          "height": 54
        },
        "id": "5Hiln9Kkg4_v",
        "outputId": "c36cd0a0-b053-4c60-eee3-35204883bab0"
      },
      "source": [
        "# criar uma EDO 2º ordem\n",
        "diffeq = Eq(f.diff(x,x)-5*f,0)\n",
        "display(diffeq)"
      ],
      "execution_count": 43,
      "outputs": [
        {
          "output_type": "display_data",
          "data": {
            "image/png": "[encoded data removed]",
            "text/latex": "$\\displaystyle - 5 f{\\left(x \\right)} + \\frac{d^{2}}{d x^{2}} f{\\left(x \\right)} = 0$",
            "text/plain": [
              "            2          \n",
              "           d           \n",
              "-5⋅f(x) + ───(f(x)) = 0\n",
              "            2          \n",
              "          dx           "
            ]
          },
          "metadata": {}
        }
      ]
    },
    {
      "cell_type": "code",
      "metadata": {
        "colab": {
          "base_uri": "https://localhost:8080/",
          "height": 41
        },
        "id": "_sAS4M96g5Di",
        "outputId": "ff97213d-fe41-4ce3-cf20-1ec9b62a5c7e"
      },
      "source": [
        "# Resolver EDO 2ª ordem usando método sp.dsolve(f,x)\n",
        "sp.dsolve(diffeq,f)"
      ],
      "execution_count": 45,
      "outputs": [
        {
          "output_type": "execute_result",
          "data": {
            "image/png": "[encoded data removed]",
            "text/latex": "$\\displaystyle f{\\left(x \\right)} = C_{1} e^{- \\sqrt{5} x} + C_{2} e^{\\sqrt{5} x}$",
            "text/plain": [
              "           -√5⋅x       √5⋅x\n",
              "f(x) = C₁⋅ℯ      + C₂⋅ℯ    "
            ]
          },
          "metadata": {},
          "execution_count": 45
        }
      ]
    },
    {
      "cell_type": "code",
      "metadata": {
        "id": "fhupI-46g5Ie"
      },
      "source": [
        "# Atividade - resolver o exemplo anterior so condirar EDO de 1ª ordem.\n"
      ],
      "execution_count": null,
      "outputs": []
    },
    {
      "cell_type": "code",
      "metadata": {
        "id": "fCVqwo3Qg5MQ"
      },
      "source": [
        ""
      ],
      "execution_count": null,
      "outputs": []
    },
    {
      "cell_type": "markdown",
      "metadata": {
        "id": "bkAlbEFEHNJ3"
      },
      "source": [
        "# O que é o Numpy ?\n",
        "\n",
        "- biblioteca python - criação de estruturas de array\n",
        "\n",
        "- ARRAY ? \n",
        "    ** é uma estrutura de dados multidimensional\n",
        "    \n",
        "    Ex: \n",
        "    vetor (unidimensional - uma linha ou uma coluna)\n",
        "    matriz (duas dimensõess - linhas x colunas)"
      ]
    },
    {
      "cell_type": "markdown",
      "metadata": {
        "id": "BhQkjIPVHQxZ"
      },
      "source": [
        "# **Porque usar Numpy ?**\n",
        "- manipular grandes volumes de dados (Ex:dados da produção industrial);\n",
        "#### - Pesquisa acadêmica (matemática numérica - cálculo numérico).\n",
        "\n",
        "\n",
        "![NUMPY-VETOR-MATRIZ-ARRAY.jpg](data:image/jpeg;base64,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)\n",
        "\n"
      ]
    },
    {
      "cell_type": "code",
      "metadata": {
        "colab": {
          "base_uri": "https://localhost:8080/"
        },
        "id": "xdXMeMmkG7Qi",
        "outputId": "d9e8c6fb-5b6c-4ae6-d5bf-77a9932c0f03"
      },
      "source": [
        "# Importar biblioteca \n",
        "import numpy as np\n",
        "a_1 = np.array([1,2,3])\n",
        "a_1"
      ],
      "execution_count": 47,
      "outputs": [
        {
          "output_type": "execute_result",
          "data": {
            "text/plain": [
              "array([1, 2, 3])"
            ]
          },
          "metadata": {},
          "execution_count": 47
        }
      ]
    },
    {
      "cell_type": "code",
      "metadata": {
        "colab": {
          "base_uri": "https://localhost:8080/"
        },
        "id": "OgBPp3-ul29p",
        "outputId": "b9647917-32b2-4151-d1e0-bad672276f7a"
      },
      "source": [
        "type(a_1)"
      ],
      "execution_count": 48,
      "outputs": [
        {
          "output_type": "execute_result",
          "data": {
            "text/plain": [
              "numpy.ndarray"
            ]
          },
          "metadata": {},
          "execution_count": 48
        }
      ]
    },
    {
      "cell_type": "code",
      "metadata": {
        "colab": {
          "base_uri": "https://localhost:8080/",
          "height": 37
        },
        "id": "BnJPf3RkmBaS",
        "outputId": "affa8068-acfb-4c11-cd6f-268955a0fd44"
      },
      "source": [
        "# forma do array\n",
        "a_1.shape"
      ],
      "execution_count": 49,
      "outputs": [
        {
          "output_type": "execute_result",
          "data": {
            "image/png": "[encoded data removed]",
            "text/latex": "$\\displaystyle \\left( 3,\\right)$",
            "text/plain": [
              "(3,)"
            ]
          },
          "metadata": {},
          "execution_count": 49
        }
      ]
    },
    {
      "cell_type": "code",
      "metadata": {
        "colab": {
          "base_uri": "https://localhost:8080/"
        },
        "id": "4-qDeU_smKzo",
        "outputId": "191a476e-0f34-42ea-a227-6597612bca62"
      },
      "source": [
        "a_1 = np.array([[1,1,1]])\n",
        "a_1"
      ],
      "execution_count": 51,
      "outputs": [
        {
          "output_type": "execute_result",
          "data": {
            "text/plain": [
              "array([[1, 1, 1]])"
            ]
          },
          "metadata": {},
          "execution_count": 51
        }
      ]
    },
    {
      "cell_type": "code",
      "metadata": {
        "colab": {
          "base_uri": "https://localhost:8080/",
          "height": 37
        },
        "id": "t-Vb7CrnmUqt",
        "outputId": "3929b9d5-4fb9-4e8d-ef64-e7cbc86ff0f4"
      },
      "source": [
        "a_1.shape"
      ],
      "execution_count": 52,
      "outputs": [
        {
          "output_type": "execute_result",
          "data": {
            "image/png": "[encoded data removed]",
            "text/latex": "$\\displaystyle \\left( 1, \\  3\\right)$",
            "text/plain": [
              "(1, 3)"
            ]
          },
          "metadata": {},
          "execution_count": 52
        }
      ]
    },
    {
      "cell_type": "code",
      "metadata": {
        "colab": {
          "base_uri": "https://localhost:8080/",
          "height": 37
        },
        "id": "MofTWszcmYsq",
        "outputId": "582835be-699e-4b3e-b494-d7fe9817cf39"
      },
      "source": [
        "# saber a dimensao \n",
        "a_1\n",
        "a_1.ndim"
      ],
      "execution_count": 54,
      "outputs": [
        {
          "output_type": "execute_result",
          "data": {
            "image/png": "[encoded data removed]",
            "text/latex": "$\\displaystyle 2$",
            "text/plain": [
              "2"
            ]
          },
          "metadata": {},
          "execution_count": 54
        }
      ]
    },
    {
      "cell_type": "code",
      "metadata": {
        "colab": {
          "base_uri": "https://localhost:8080/"
        },
        "id": "sypLNv0kmnEm",
        "outputId": "a51021c5-ba96-4658-cc86-f6dd067cfa84"
      },
      "source": [
        "# criar um array 2x3\n",
        "a_2 = np.array([[1,2,3],[3,4,5]])\n",
        "a_2"
      ],
      "execution_count": 55,
      "outputs": [
        {
          "output_type": "execute_result",
          "data": {
            "text/plain": [
              "array([[1, 2, 3],\n",
              "       [3, 4, 5]])"
            ]
          },
          "metadata": {},
          "execution_count": 55
        }
      ]
    },
    {
      "cell_type": "code",
      "metadata": {
        "colab": {
          "base_uri": "https://localhost:8080/",
          "height": 37
        },
        "id": "OAYeoeCNnAC4",
        "outputId": "8605013f-bcd1-4046-df58-eca24c405f1c"
      },
      "source": [
        "a_2.shape"
      ],
      "execution_count": 56,
      "outputs": [
        {
          "output_type": "execute_result",
          "data": {
            "image/png": "[encoded data removed]",
            "text/latex": "$\\displaystyle \\left( 2, \\  3\\right)$",
            "text/plain": [
              "(2, 3)"
            ]
          },
          "metadata": {},
          "execution_count": 56
        }
      ]
    },
    {
      "cell_type": "code",
      "metadata": {
        "colab": {
          "base_uri": "https://localhost:8080/"
        },
        "id": "XGWAZ_1nnE6y",
        "outputId": "105eb147-7736-4523-c79b-247d7e2c3da4"
      },
      "source": [
        "# vamos ver o tipo da variavel\n",
        "a_2\n",
        "a_2.dtype"
      ],
      "execution_count": 58,
      "outputs": [
        {
          "output_type": "execute_result",
          "data": {
            "text/plain": [
              "dtype('int64')"
            ]
          },
          "metadata": {},
          "execution_count": 58
        }
      ]
    },
    {
      "cell_type": "code",
      "metadata": {
        "colab": {
          "base_uri": "https://localhost:8080/",
          "height": 37
        },
        "id": "ajp1cqgNnMZW",
        "outputId": "e5f73c1c-9a20-4d11-ba44-2bdee95b23ed"
      },
      "source": [
        "# Algumas funcionalidade do Numpy - matemática\n",
        "import numpy as np\n",
        "a = np.cos(0)\n",
        "a\n",
        "b = np.sin(0)\n",
        "b"
      ],
      "execution_count": 62,
      "outputs": [
        {
          "output_type": "execute_result",
          "data": {
            "image/png": "[encoded data removed]",
            "text/latex": "$\\displaystyle 0.0$",
            "text/plain": [
              "0.0"
            ]
          },
          "metadata": {},
          "execution_count": 62
        }
      ]
    },
    {
      "cell_type": "code",
      "metadata": {
        "colab": {
          "base_uri": "https://localhost:8080/"
        },
        "id": "gL8WNHdpnk-a",
        "outputId": "c0949e6a-d2c5-46d0-dda5-5e67a2b70e8e"
      },
      "source": [
        "# funçao linspace \n",
        "#                 (inicio,fim,qte)\n",
        "a_3 = np.linspace(0,20,20)\n",
        "a_3"
      ],
      "execution_count": 65,
      "outputs": [
        {
          "output_type": "execute_result",
          "data": {
            "text/plain": [
              "array([ 0.        ,  1.05263158,  2.10526316,  3.15789474,  4.21052632,\n",
              "        5.26315789,  6.31578947,  7.36842105,  8.42105263,  9.47368421,\n",
              "       10.52631579, 11.57894737, 12.63157895, 13.68421053, 14.73684211,\n",
              "       15.78947368, 16.84210526, 17.89473684, 18.94736842, 20.        ])"
            ]
          },
          "metadata": {},
          "execution_count": 65
        }
      ]
    },
    {
      "cell_type": "code",
      "metadata": {
        "id": "oKqxRpEmoOJU"
      },
      "source": [
        ""
      ],
      "execution_count": null,
      "outputs": []
    }
  ]
}