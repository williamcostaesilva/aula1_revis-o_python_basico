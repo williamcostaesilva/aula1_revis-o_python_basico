{
  "nbformat": 4,
  "nbformat_minor": 0,
  "metadata": {
    "colab": {
      "name": "Aula-1-Introdução-Python-Curso-Super-2021-professor",
      "provenance": [],
      "collapsed_sections": [
        "wbwTYQH9UDhN",
        "R8ZvU3FSvJHX",
        "tgWF0XCojKWI",
        "IP3YVQcunvwK",
        "spRqNBqhpEeg",
        "nMk2w54lmLTP",
        "jqr6D9f_nbcP",
        "sFsVv7UuuHeq",
        "sWf70puUuHnT",
        "AE0VJ9lg62cC"
      ],
      "authorship_tag": "ABX9TyOGwX4WJf38Nr61jnsyfXBr",
      "include_colab_link": true
    },
    "kernelspec": {
      "name": "python3",
      "display_name": "Python 3"
    },
    "language_info": {
      "name": "python"
    }
  },
  "cells": [
    {
      "cell_type": "markdown",
      "metadata": {
        "id": "view-in-github",
        "colab_type": "text"
      },
      "source": [
        "<a href=\"https://colab.research.google.com/github/williamcostaesilva/aula1_revis-o_python_basico/blob/main/Aula_1_Introdu%C3%A7%C3%A3o_Python_Curso_Super_2021_professor.ipynb\" target=\"_parent\"><img src=\"https://colab.research.google.com/assets/colab-badge.svg\" alt=\"Open In Colab\"/></a>"
      ]
    },
    {
      "cell_type": "markdown",
      "metadata": {
        "id": "9-glfd38SkNp"
      },
      "source": [
        "![images-2.png](data:image/png;base64,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)\n",
        "\n",
        "# Universidade Federal do Amazonas\n",
        "# Departamento de Engenharia de Produção\n",
        "\n",
        "## - Projeto Super 2021 - Curso Python 2.0\n",
        "\n",
        "### Aula 1 - Introdução ao Python\n",
        "###########  Prof. William Costa"
      ]
    },
    {
      "cell_type": "markdown",
      "metadata": {
        "id": "wbwTYQH9UDhN"
      },
      "source": [
        "## Revisando alguns tópicos:\n",
        "#### Tipos de variáveis (built-in types):\n",
        "\n",
        "## 2.1 - Primeiras funções:\n",
        "\n",
        "| Tipo | Descrição | Exemplo\n",
        "|----------|-------------|---------\n",
        "|' int() ' | 'Número inteiro' | ' 2 '|\n",
        "|' float() ' | 'Número real' | ' 2.0 '|\n",
        "|' input() ' | 'Retorna uma string dada pelo usuário' | 'input('Qual seu nome? ')|\n",
        "|' print() ' | 'Exibi um dado na tela' | 'print( 'Olá mundo') '|\n",
        "|' str() ' | 'Conjunto de caracteres' | 'str( 'William') '|\n",
        "|' type() ' | 'Retorna o tipo da variável' | 'type(variavel) '|\n",
        "\n"
      ]
    },
    {
      "cell_type": "code",
      "metadata": {
        "id": "jq83VddBehmN",
        "colab": {
          "base_uri": "https://localhost:8080/"
        },
        "outputId": "d791462a-aa32-4713-e3fa-a529027d02e9"
      },
      "source": [
        "print('Olá Mundo.')\n",
        "print(\"Olá Mundo.\")"
      ],
      "execution_count": null,
      "outputs": [
        {
          "output_type": "stream",
          "text": [
            "Olá Mundo.\n",
            "Olá Mundo.\n"
          ],
          "name": "stdout"
        }
      ]
    },
    {
      "cell_type": "code",
      "metadata": {
        "colab": {
          "base_uri": "https://localhost:8080/"
        },
        "id": "-0-i5Nx9fo3Y",
        "outputId": "de01a2c4-a01d-4915-a3ad-10e801eca04c"
      },
      "source": [
        "variavel_b = input('Digite um numero: ')"
      ],
      "execution_count": null,
      "outputs": [
        {
          "output_type": "stream",
          "text": [
            "Digite um numero: 9\n"
          ],
          "name": "stdout"
        }
      ]
    },
    {
      "cell_type": "code",
      "metadata": {
        "id": "7k8XBqCZfxU8",
        "colab": {
          "base_uri": "https://localhost:8080/",
          "height": 35
        },
        "outputId": "2bc2de37-c22d-49bf-fcb7-3ccc2956d484"
      },
      "source": [
        "variavel_b"
      ],
      "execution_count": null,
      "outputs": [
        {
          "output_type": "execute_result",
          "data": {
            "application/vnd.google.colaboratory.intrinsic+json": {
              "type": "string"
            },
            "text/plain": [
              "'9'"
            ]
          },
          "metadata": {},
          "execution_count": 11
        }
      ]
    },
    {
      "cell_type": "code",
      "metadata": {
        "colab": {
          "base_uri": "https://localhost:8080/"
        },
        "id": "KkAxDr9-44Rj",
        "outputId": "63d612f4-b642-4f7b-919d-5c403862bcb5"
      },
      "source": [
        "type(variavel_b)"
      ],
      "execution_count": null,
      "outputs": [
        {
          "output_type": "execute_result",
          "data": {
            "text/plain": [
              "str"
            ]
          },
          "metadata": {},
          "execution_count": 12
        }
      ]
    },
    {
      "cell_type": "code",
      "metadata": {
        "id": "5URb2W8gf8Ch"
      },
      "source": [
        "b = 5"
      ],
      "execution_count": null,
      "outputs": []
    },
    {
      "cell_type": "code",
      "metadata": {
        "id": "7f-S1u1bgSrz",
        "colab": {
          "base_uri": "https://localhost:8080/"
        },
        "outputId": "850b1783-6582-4e10-e5d1-2f91e85e319e"
      },
      "source": [
        "type(b)"
      ],
      "execution_count": null,
      "outputs": [
        {
          "output_type": "execute_result",
          "data": {
            "text/plain": [
              "int"
            ]
          },
          "metadata": {},
          "execution_count": 15
        }
      ]
    },
    {
      "cell_type": "code",
      "metadata": {
        "colab": {
          "base_uri": "https://localhost:8080/"
        },
        "id": "F-Q85DwkNkeM",
        "outputId": "1404300b-3730-41b4-d077-93c0d68b82e1"
      },
      "source": [
        "b = 5.0\n",
        "type(b)"
      ],
      "execution_count": null,
      "outputs": [
        {
          "output_type": "execute_result",
          "data": {
            "text/plain": [
              "float"
            ]
          },
          "metadata": {},
          "execution_count": 17
        }
      ]
    },
    {
      "cell_type": "code",
      "metadata": {
        "id": "eGosFisNgAdS",
        "colab": {
          "base_uri": "https://localhost:8080/"
        },
        "outputId": "8afc32bd-a9c8-49af-afdf-50733702ed22"
      },
      "source": [
        "print('\\nO tipo da variavel b é: ',type(b))"
      ],
      "execution_count": null,
      "outputs": [
        {
          "output_type": "stream",
          "text": [
            "\n",
            "O tipo da variavel b é:  <class 'float'>\n"
          ],
          "name": "stdout"
        }
      ]
    },
    {
      "cell_type": "code",
      "metadata": {
        "id": "nQGpuk3rgLEU",
        "colab": {
          "base_uri": "https://localhost:8080/",
          "height": 53
        },
        "outputId": "41c1e4ea-e98c-4e93-eabc-8ef833a5b095"
      },
      "source": [
        "input(\"Diga algo: \")"
      ],
      "execution_count": null,
      "outputs": [
        {
          "output_type": "stream",
          "text": [
            "Diga algo: Python 2.0\n"
          ],
          "name": "stdout"
        },
        {
          "output_type": "execute_result",
          "data": {
            "application/vnd.google.colaboratory.intrinsic+json": {
              "type": "string"
            },
            "text/plain": [
              "'Python 2.0'"
            ]
          },
          "metadata": {},
          "execution_count": 19
        }
      ]
    },
    {
      "cell_type": "code",
      "metadata": {
        "colab": {
          "base_uri": "https://localhost:8080/"
        },
        "id": "_aSbFOSP6JD3",
        "outputId": "41bc9c65-3007-45f3-97a0-293b943ae218"
      },
      "source": [
        "apresentação = input(\"Diga algo: \")\n",
        "print(apresentação)"
      ],
      "execution_count": null,
      "outputs": [
        {
          "output_type": "stream",
          "text": [
            "Diga algo: Diogismar\n",
            "Diogismar\n"
          ],
          "name": "stdout"
        }
      ]
    },
    {
      "cell_type": "code",
      "metadata": {
        "colab": {
          "base_uri": "https://localhost:8080/"
        },
        "id": "OmKr4U316TdM",
        "outputId": "f18c6d57-753e-4afa-a5fc-16ea798b46ab"
      },
      "source": [
        "print(type(apresentação))"
      ],
      "execution_count": null,
      "outputs": [
        {
          "output_type": "stream",
          "text": [
            "<class 'str'>\n"
          ],
          "name": "stdout"
        }
      ]
    },
    {
      "cell_type": "markdown",
      "metadata": {
        "id": "R8ZvU3FSvJHX"
      },
      "source": [
        "## 2.2 - Números\n",
        "\n",
        "##### * Operações básicas:\n",
        "\n",
        "| Operação| Operador| Exemplo | Resultado\n",
        "|:-|---|-:|--|\n",
        "|Soma       | '+' | '9 + 7' | '16' |\n",
        "|Subtração  | '-' | '9 - 7'   |  '2' |\n",
        "|Multiplicação | '*' | '9 * 7'| '63' |\n",
        "|Divisão    | '/' | '5 / 2' | '2.5'|\n",
        "|Exponeciação| '**' | '9**2' | '81'|\n",
        "|Resto da divisão| '%' | '9 % 2' | '1' |\n",
        "| Adicionar para a variavel x | ' += ' | ' +=1' | 'x = x + 1 '|\n",
        "| Subtrair para a variavel x | ' -= ' | ' -=2' | ' x = x -2 ' | \n",
        "| Multiplicar para a variavel x | ' *=' | ' *=2' | ' x  = x*2 '|\n",
        "| Exponensiação para a variavel x | ' **= ' | ' **=2' | ' x = x**2 ' |"
      ]
    },
    {
      "cell_type": "code",
      "metadata": {
        "colab": {
          "base_uri": "https://localhost:8080/"
        },
        "id": "qC_6NZiPiOPA",
        "outputId": "3816014b-4dd5-459e-da8f-0e5eee1380bb"
      },
      "source": [
        "print('-----------------------------------------------------')"
      ],
      "execution_count": null,
      "outputs": [
        {
          "output_type": "stream",
          "text": [
            "-----------------------------------------------------\n"
          ],
          "name": "stdout"
        }
      ]
    },
    {
      "cell_type": "markdown",
      "metadata": {
        "id": "tgWF0XCojKWI"
      },
      "source": [
        "#### # LEE, Kent. D. Python Programming Fundamental. 2nd Edition. Springer - Verlag London 2014\n",
        "####### https://link.springer.com/chapter/10.1007%2F978-1-4471-6642-9_8\n",
        "####### (https://link.springer.com/chapter/10.1007%2F978-1-4471-6642-9_8)"
      ]
    },
    {
      "cell_type": "code",
      "metadata": {
        "id": "yeytzitRh4PG",
        "colab": {
          "base_uri": "https://localhost:8080/"
        },
        "outputId": "af80ea73-8dd4-4b1d-a47e-27cea5206dd9"
      },
      "source": [
        "a = 5\n",
        "print(type(a))"
      ],
      "execution_count": null,
      "outputs": [
        {
          "output_type": "stream",
          "text": [
            "<class 'int'>\n"
          ],
          "name": "stdout"
        }
      ]
    },
    {
      "cell_type": "code",
      "metadata": {
        "id": "OwMcmPrCzTyG",
        "colab": {
          "base_uri": "https://localhost:8080/"
        },
        "outputId": "3c0059cc-9562-4978-aa6f-12bea04e3bb0"
      },
      "source": [
        "b = 5.\n",
        "print(type(b))"
      ],
      "execution_count": null,
      "outputs": [
        {
          "output_type": "stream",
          "text": [
            "<class 'float'>\n"
          ],
          "name": "stdout"
        }
      ]
    },
    {
      "cell_type": "code",
      "metadata": {
        "id": "JbKu8PK0zWrs"
      },
      "source": [
        "c = a + b "
      ],
      "execution_count": null,
      "outputs": []
    },
    {
      "cell_type": "code",
      "metadata": {
        "id": "cT26aXQ3jcxz",
        "colab": {
          "base_uri": "https://localhost:8080/"
        },
        "outputId": "94644d2a-8293-4069-d9ca-50582b19977d"
      },
      "source": [
        "print(type(c))\n",
        "print('O tipo da variável c é: ',type(c))"
      ],
      "execution_count": null,
      "outputs": [
        {
          "output_type": "stream",
          "text": [
            "<class 'float'>\n",
            "O tipo da variável c é:  <class 'float'>\n"
          ],
          "name": "stdout"
        }
      ]
    },
    {
      "cell_type": "code",
      "metadata": {
        "id": "qbn0m8jUjiY0",
        "colab": {
          "base_uri": "https://localhost:8080/"
        },
        "outputId": "dd408574-8162-4d2d-892d-9a01d4c5505d"
      },
      "source": [
        "a = 5\n",
        "print('valor de a: ',a)\n",
        "d = 10\n",
        "print('valor de d: ',d)"
      ],
      "execution_count": null,
      "outputs": [
        {
          "output_type": "stream",
          "text": [
            "valor de a:  5\n",
            "valor de d:  10\n"
          ],
          "name": "stdout"
        }
      ]
    },
    {
      "cell_type": "code",
      "metadata": {
        "id": "zi9CJbZ6zxTP"
      },
      "source": [
        "d += 5    # d = 10  + 5 = 15"
      ],
      "execution_count": null,
      "outputs": []
    },
    {
      "cell_type": "code",
      "metadata": {
        "id": "M6Pu1Eu6jqPa",
        "colab": {
          "base_uri": "https://localhost:8080/"
        },
        "outputId": "45c719d4-efd8-4b9e-bab6-832d2fa1dc95"
      },
      "source": [
        "print(d)"
      ],
      "execution_count": null,
      "outputs": [
        {
          "output_type": "stream",
          "text": [
            "45\n"
          ],
          "name": "stdout"
        }
      ]
    },
    {
      "cell_type": "code",
      "metadata": {
        "colab": {
          "base_uri": "https://localhost:8080/"
        },
        "id": "tyO5kY5Yjrds",
        "outputId": "5198f4b3-345c-4b57-aacf-24cbcec89b24"
      },
      "source": [
        "e = 10*2\n",
        "print(' 10 x 2: ',e)"
      ],
      "execution_count": null,
      "outputs": [
        {
          "output_type": "stream",
          "text": [
            " 10 x 2:  20\n"
          ],
          "name": "stdout"
        }
      ]
    },
    {
      "cell_type": "code",
      "metadata": {
        "colab": {
          "base_uri": "https://localhost:8080/"
        },
        "id": "tN1qfdeEjy-K",
        "outputId": "15f81fa0-9106-4ba5-9098-fcd7d5f7c94c"
      },
      "source": [
        "e = 10**2\n",
        "print(' 10 elevado a 2: ',e)"
      ],
      "execution_count": null,
      "outputs": [
        {
          "output_type": "stream",
          "text": [
            " 10 elevado a 2:  100\n"
          ],
          "name": "stdout"
        }
      ]
    },
    {
      "cell_type": "code",
      "metadata": {
        "id": "Q7yUZgetj1ro",
        "colab": {
          "base_uri": "https://localhost:8080/"
        },
        "outputId": "e242753b-1ab1-4948-883d-a7fbe049188d"
      },
      "source": [
        "string_numero = '123'\n",
        "type(string_numero)\n",
        "n_1 = float(string_numero)\n",
        "n_1"
      ],
      "execution_count": null,
      "outputs": [
        {
          "output_type": "execute_result",
          "data": {
            "text/plain": [
              "123.0"
            ]
          },
          "metadata": {},
          "execution_count": 51
        }
      ]
    },
    {
      "cell_type": "code",
      "metadata": {
        "colab": {
          "base_uri": "https://localhost:8080/"
        },
        "id": "bAJGKe-WnbH9",
        "outputId": "7b8bc335-a291-415e-8271-86b7e0d42cf1"
      },
      "source": [
        "n_1 *  n_1"
      ],
      "execution_count": null,
      "outputs": [
        {
          "output_type": "execute_result",
          "data": {
            "text/plain": [
              "15129.0"
            ]
          },
          "metadata": {},
          "execution_count": 52
        }
      ]
    },
    {
      "cell_type": "code",
      "metadata": {
        "colab": {
          "base_uri": "https://localhost:8080/"
        },
        "id": "41-9U_lbnfYd",
        "outputId": "8481607a-8ea2-41ee-9712-19042f5fed83"
      },
      "source": [
        "string_numero = '123'\n",
        "type(string_numero)"
      ],
      "execution_count": null,
      "outputs": [
        {
          "output_type": "execute_result",
          "data": {
            "text/plain": [
              "str"
            ]
          },
          "metadata": {},
          "execution_count": 53
        }
      ]
    },
    {
      "cell_type": "markdown",
      "metadata": {
        "id": "IP3YVQcunvwK"
      },
      "source": [
        "## 2.3 - STRING\n",
        "\n",
        "\n",
        "*   String são um conjunto de caracteres (variáveis de texto);\n",
        "*   Alguns caracteres, como aspas não podem ser adicionados diretamente. Então, é preciso \\\n",
        "\n",
        "\n",
        "*   \\n representa uma nova linha;\n",
        "*   Algumas operações básicas funcionam para manipular strings\n",
        "\n",
        "\n",
        "\n"
      ]
    },
    {
      "cell_type": "code",
      "metadata": {
        "id": "18ef4dd2nr4p",
        "colab": {
          "base_uri": "https://localhost:8080/",
          "height": 35
        },
        "outputId": "bbbf2003-e2e3-415a-bc71-ce84183c4f6b"
      },
      "source": [
        "a = 'Olá minhas caras alunas e alunos.'\n",
        "a"
      ],
      "execution_count": null,
      "outputs": [
        {
          "output_type": "execute_result",
          "data": {
            "application/vnd.google.colaboratory.intrinsic+json": {
              "type": "string"
            },
            "text/plain": [
              "'Olá minhas caras alunas e alunos.'"
            ]
          },
          "metadata": {},
          "execution_count": 60
        }
      ]
    },
    {
      "cell_type": "code",
      "metadata": {
        "id": "RjcaCJNzocpE",
        "colab": {
          "base_uri": "https://localhost:8080/",
          "height": 185
        },
        "outputId": "7751f6f8-4d5a-44dc-d75d-4d427344145a"
      },
      "source": [
        "b = a**2\n",
        "print(b)"
      ],
      "execution_count": null,
      "outputs": [
        {
          "output_type": "error",
          "ename": "TypeError",
          "evalue": "ignored",
          "traceback": [
            "\u001b[0;31m---------------------------------------------------------------------------\u001b[0m",
            "\u001b[0;31mTypeError\u001b[0m                                 Traceback (most recent call last)",
            "\u001b[0;32m<ipython-input-61-46f73a525aa5>\u001b[0m in \u001b[0;36m<module>\u001b[0;34m()\u001b[0m\n\u001b[0;32m----> 1\u001b[0;31m \u001b[0mb\u001b[0m \u001b[0;34m=\u001b[0m \u001b[0ma\u001b[0m\u001b[0;34m**\u001b[0m\u001b[0;36m2\u001b[0m\u001b[0;34m\u001b[0m\u001b[0;34m\u001b[0m\u001b[0m\n\u001b[0m\u001b[1;32m      2\u001b[0m \u001b[0mprint\u001b[0m\u001b[0;34m(\u001b[0m\u001b[0mb\u001b[0m\u001b[0;34m)\u001b[0m\u001b[0;34m\u001b[0m\u001b[0;34m\u001b[0m\u001b[0m\n",
            "\u001b[0;31mTypeError\u001b[0m: unsupported operand type(s) for ** or pow(): 'str' and 'int'"
          ]
        }
      ]
    },
    {
      "cell_type": "code",
      "metadata": {
        "colab": {
          "base_uri": "https://localhost:8080/"
        },
        "id": "a9beOvXOof-s",
        "outputId": "99802335-f8a1-45f7-a27c-acaebfa1e3fc"
      },
      "source": [
        "texto = 'Vamos aprender muita coisa legal em Python.\\nVamos ver tbm eletrônica e robótica com arduino.'\n",
        "print(texto)"
      ],
      "execution_count": null,
      "outputs": [
        {
          "output_type": "stream",
          "text": [
            "Vamos aprender muita coisa legal em Python.\n",
            "Vamos ver tbm eletrônica e robótica com arduino.\n"
          ],
          "name": "stdout"
        }
      ]
    },
    {
      "cell_type": "markdown",
      "metadata": {
        "id": "spRqNBqhpEeg"
      },
      "source": [
        "## 2.4 - LISTAS\n",
        "\n",
        "\n",
        "*   Listas - são entendidas como um conjunto de dados e são caracterizadas por meio do uso de colchotes [].\n",
        "*   são conjunto de dados que podem conter dados de diferentes tipos.\n",
        "*   IElas possuem valor indexado a partir do valor zero (0).\n"
      ]
    },
    {
      "cell_type": "code",
      "metadata": {
        "id": "OSO2tWxipd_s",
        "colab": {
          "base_uri": "https://localhost:8080/"
        },
        "outputId": "6badefb7-bb49-4fc8-b32a-e2a6230aa7a9"
      },
      "source": [
        "vazia = []\n",
        "type(vazia)"
      ],
      "execution_count": null,
      "outputs": [
        {
          "output_type": "execute_result",
          "data": {
            "text/plain": [
              "list"
            ]
          },
          "metadata": {},
          "execution_count": 66
        }
      ]
    },
    {
      "cell_type": "code",
      "metadata": {
        "id": "cTMT51BqWdy7",
        "colab": {
          "base_uri": "https://localhost:8080/"
        },
        "outputId": "5db5f172-41f2-49d7-99dd-08b42a01673f"
      },
      "source": [
        "print('lista está vazia. ',vazia)"
      ],
      "execution_count": null,
      "outputs": [
        {
          "output_type": "stream",
          "text": [
            "lista está vazia.  []\n"
          ],
          "name": "stdout"
        }
      ]
    },
    {
      "cell_type": "code",
      "metadata": {
        "colab": {
          "base_uri": "https://localhost:8080/"
        },
        "id": "gjufKZ56fG1l",
        "outputId": "4eed072d-7865-4234-c951-0ac74ba6f721"
      },
      "source": [
        "# Verificando o tipo\n",
        "\n",
        "print('O tipo da lista é: ',type(vazia))"
      ],
      "execution_count": null,
      "outputs": [
        {
          "output_type": "stream",
          "text": [
            "O tipo da lista é:  <class 'list'>\n"
          ],
          "name": "stdout"
        }
      ]
    },
    {
      "cell_type": "code",
      "metadata": {
        "id": "w5E7dVltfPut"
      },
      "source": [
        "lista_a = [50,20,13,34,58]\n",
        "lista_b = [1,2,'Python',4,[8,9.8,9,]]\n"
      ],
      "execution_count": null,
      "outputs": []
    },
    {
      "cell_type": "code",
      "metadata": {
        "colab": {
          "base_uri": "https://localhost:8080/"
        },
        "id": "n7OepwAifiuf",
        "outputId": "a8012a04-52c1-4f2f-e3c9-a18c22f9c89b"
      },
      "source": [
        "print(\"Conteúdo da lista a : \",lista_a)\n",
        "print(\"Conteúdo da lista b : \", lista_b)"
      ],
      "execution_count": null,
      "outputs": [
        {
          "output_type": "stream",
          "text": [
            "Conteúdo da lista a :  [50, 20, 13, 34, 58]\n",
            "Conteúdo da lista b :  [1, 2, 'Python', 4, [8, 9.8, 9]]\n"
          ],
          "name": "stdout"
        }
      ]
    },
    {
      "cell_type": "code",
      "metadata": {
        "id": "OyDv81KrfwIW"
      },
      "source": [
        ""
      ],
      "execution_count": null,
      "outputs": []
    },
    {
      "cell_type": "markdown",
      "metadata": {
        "id": "oUfxGnTWf48B"
      },
      "source": [
        "### Slicing de lista/fatiamento\n",
        "\n",
        "##### Acessando os dados contidos na lista.\n",
        "###### - Para acessar um elemento dentro da lista devemos referenciar entre colchetes [i]\n",
        "###### o indice desesado.\n",
        "\n",
        "## Indexado - índice ? os elementos da lista apresentam um ordem de construção, sequência.\n"
      ]
    },
    {
      "cell_type": "code",
      "metadata": {
        "id": "tetw96AxgBjp"
      },
      "source": [
        "lista_c = [3,'Produção',5,1,3]\n"
      ],
      "execution_count": null,
      "outputs": []
    },
    {
      "cell_type": "code",
      "metadata": {
        "colab": {
          "base_uri": "https://localhost:8080/"
        },
        "id": "xFMrJVmNgjRH",
        "outputId": "906a1609-5668-4724-be6b-d6a6005d7d39"
      },
      "source": [
        "lista_c[2:]"
      ],
      "execution_count": null,
      "outputs": [
        {
          "output_type": "execute_result",
          "data": {
            "text/plain": [
              "[5, 1, 3]"
            ]
          },
          "metadata": {},
          "execution_count": 73
        }
      ]
    },
    {
      "cell_type": "code",
      "metadata": {
        "colab": {
          "base_uri": "https://localhost:8080/"
        },
        "id": "URKiLde_gqYX",
        "outputId": "ecbe273f-fb22-425b-d737-5594fda0e00e"
      },
      "source": [
        "# acessando os elementos dentro lista atraves dos indices\n",
        "# INDICE DA LISTA C    0,    1     ,2,3,4\n",
        "\n",
        "#           lista_c = [3,'Produção',5,1,3]\n",
        "\n",
        "lista_b = [1,2,'Python',4,[8,9.8,9,]]\n",
        "lista_d = lista_b + lista_c\n",
        "print(lista_d)"
      ],
      "execution_count": null,
      "outputs": [
        {
          "output_type": "stream",
          "text": [
            "[1, 2, 'Python', 4, [8, 9.8, 9], 3, 'Produção', 5, 1, 3]\n"
          ],
          "name": "stdout"
        }
      ]
    },
    {
      "cell_type": "code",
      "metadata": {
        "colab": {
          "base_uri": "https://localhost:8080/"
        },
        "id": "uD3yTd6jhQqP",
        "outputId": "bddf4057-3f49-4e5d-ecf3-c6396a0419f7"
      },
      "source": [
        "# Acessando um elemento da lista\n",
        "valores = [45,66,6,99,9.89,11,134,90002]\n",
        "print(valores[7])\n"
      ],
      "execution_count": null,
      "outputs": [
        {
          "output_type": "stream",
          "text": [
            "90002\n"
          ],
          "name": "stdout"
        }
      ]
    },
    {
      "cell_type": "markdown",
      "metadata": {
        "id": "nMk2w54lmLTP"
      },
      "source": [
        "## 2.5. - Similaridades entre listas e strings\n",
        "\n",
        "\n",
        "\n",
        "*   Amba são indexáveis com índices a partir de [0];\n",
        "*   Strings, assim como listas podem ser fatiadas;\n",
        "\n",
        "\n",
        "*   A função len(x) retorna o número de elementos de uma lista e o número de caractéres de uma STRING;\n",
        "*   A operação de soma funciona de maneira parecida\n",
        "\n",
        "\n",
        "*   Ambas podem ser multiplicadas por um valor inteiro.\n",
        "\n",
        "\n",
        "####### - Entretanto, cuidado pois não são do mesmo tipo (lista != string)\n",
        "\n",
        "\n",
        "\n",
        "\n",
        "\n"
      ]
    },
    {
      "cell_type": "code",
      "metadata": {
        "id": "erjYJ4fMh47F"
      },
      "source": [
        "lista_1 = ['PA','YA','TA','HA','OA','NA']\n",
        "string_1 = 'PAYATAHAOANA'"
      ],
      "execution_count": null,
      "outputs": []
    },
    {
      "cell_type": "code",
      "metadata": {
        "id": "bnR2PZctnK2l",
        "colab": {
          "base_uri": "https://localhost:8080/"
        },
        "outputId": "320b289e-48d9-427a-8352-b9d705e96698"
      },
      "source": [
        "print(lista_1 *3)"
      ],
      "execution_count": null,
      "outputs": [
        {
          "output_type": "stream",
          "text": [
            "['PA', 'YA', 'TA', 'HA', 'OA', 'NA', 'PA', 'YA', 'TA', 'HA', 'OA', 'NA', 'PA', 'YA', 'TA', 'HA', 'OA', 'NA']\n"
          ],
          "name": "stdout"
        }
      ]
    },
    {
      "cell_type": "code",
      "metadata": {
        "id": "NvOCj3C57aPp",
        "colab": {
          "base_uri": "https://localhost:8080/"
        },
        "outputId": "ee7c0165-0517-424c-de30-8b39560314d2"
      },
      "source": [
        "print(string_1 *3)"
      ],
      "execution_count": null,
      "outputs": [
        {
          "output_type": "stream",
          "text": [
            "PAYATAHAOANAPAYATAHAOANAPAYATAHAOANA\n"
          ],
          "name": "stdout"
        }
      ]
    },
    {
      "cell_type": "code",
      "metadata": {
        "id": "qWZFFcT57kZ5"
      },
      "source": [
        "# Concatenação de string e lista\n",
        "nome = 'William '\n",
        "sobrenome = 'Silva'\n"
      ],
      "execution_count": null,
      "outputs": []
    },
    {
      "cell_type": "code",
      "metadata": {
        "colab": {
          "base_uri": "https://localhost:8080/"
        },
        "id": "xujCfTPd7-hb",
        "outputId": "4cc70041-a62a-47c8-f155-3ab7f6afa951"
      },
      "source": [
        "nome_completo = nome + sobrenome\n",
        "print(nome_completo)"
      ],
      "execution_count": null,
      "outputs": [
        {
          "output_type": "stream",
          "text": [
            "William Silva\n"
          ],
          "name": "stdout"
        }
      ]
    },
    {
      "cell_type": "code",
      "metadata": {
        "id": "5X4fMtEN8HJy"
      },
      "source": [
        "nome = ['amanda','luis','julia']\n",
        "nome2 = ['fabio','pedro','fernanda']"
      ],
      "execution_count": null,
      "outputs": []
    },
    {
      "cell_type": "code",
      "metadata": {
        "id": "jr06aomg8VpV",
        "colab": {
          "base_uri": "https://localhost:8080/"
        },
        "outputId": "1c49fb07-e38c-4a07-abdb-e88e3c79e9b3"
      },
      "source": [
        "print(nome + nome2)"
      ],
      "execution_count": null,
      "outputs": [
        {
          "output_type": "stream",
          "text": [
            "['amanda', 'luis', 'julia', 'fabio', 'pedro', 'fernanda']\n"
          ],
          "name": "stdout"
        }
      ]
    },
    {
      "cell_type": "markdown",
      "metadata": {
        "id": "jqr6D9f_nbcP"
      },
      "source": [
        "## 2.6 - VALORES BOOLEANOS (Boolean Values) \n",
        "#### O que são?\n",
        "\n",
        "\n",
        "*   As variáveis do tipo bool armazenam constantes do tipo True ou False (Verdadeiro ou Falso)\n",
        "\n",
        "\n"
      ]
    },
    {
      "cell_type": "code",
      "metadata": {
        "id": "DnFedIdenyiS"
      },
      "source": [
        "print(\"O que tem de errado no código abaixo ? \")\n",
        "5 == 5 \n"
      ],
      "execution_count": null,
      "outputs": []
    },
    {
      "cell_type": "markdown",
      "metadata": {
        "id": "wYgDM7WInb0L"
      },
      "source": [
        ""
      ]
    },
    {
      "cell_type": "code",
      "metadata": {
        "id": "x-YqJcefn1x0"
      },
      "source": [
        "print('A informação do lado direito é igual ao lado esquerdo? -',5 == 5)"
      ],
      "execution_count": null,
      "outputs": []
    },
    {
      "cell_type": "code",
      "metadata": {
        "id": "9poMP2rPoIPa"
      },
      "source": [
        "print('5 é igual a 4 ? -',5 == 4)\n",
        "print('-----------------------------------')\n",
        "print('5 é difernte de 4 ? -',5 != 4)\n",
        "print('-----------------------------------')\n",
        "print('5 é maior ou igual a 4 ? -',5 >= 4)\n",
        "print('-----------------------------------')\n",
        "print('5 é menor ou igual a 4? -',5 <= 4)\n",
        "print('-----------------------------------')\n",
        "print('5 é maior do que 4? -',5 > 4)\n",
        "print('-----------------------------------')\n",
        "print('5 é menor do que 4? -',5 < 4)\n"
      ],
      "execution_count": null,
      "outputs": []
    },
    {
      "cell_type": "markdown",
      "metadata": {
        "id": "mwwWwINwqCDG"
      },
      "source": [
        "#######  https://docs.python.org/3/library/stdtypes.html#iterator-types"
      ]
    },
    {
      "cell_type": "code",
      "metadata": {
        "colab": {
          "base_uri": "https://localhost:8080/"
        },
        "id": "fsG2Ivy4pLH-",
        "outputId": "5ac1a15c-c01b-4a6f-e448-94db86415c28"
      },
      "source": [
        "# Resto de divisão \n",
        "a = 10\n",
        "print('O resto da divisao entre 10 por 2 é : ',a%2)"
      ],
      "execution_count": null,
      "outputs": [
        {
          "output_type": "stream",
          "text": [
            "O resto da divisao entre 10 por 2 é :  0\n"
          ],
          "name": "stdout"
        }
      ]
    },
    {
      "cell_type": "markdown",
      "metadata": {
        "id": "ki4MqQjaqpfb"
      },
      "source": [
        ""
      ]
    },
    {
      "cell_type": "code",
      "metadata": {
        "colab": {
          "base_uri": "https://localhost:8080/"
        },
        "id": "Fivh9QqApnhB",
        "outputId": "6530d7b2-3aa5-4fca-dd78-4708c1c7cc79"
      },
      "source": [
        "# Resto de divisão \n",
        "b = 11\n",
        "print('O resto da divisao entre 11 por 2 é : ',b%2)"
      ],
      "execution_count": null,
      "outputs": [
        {
          "output_type": "stream",
          "text": [
            "O resto da divisao entre 11 por 2 é :  1\n"
          ],
          "name": "stdout"
        }
      ]
    },
    {
      "cell_type": "markdown",
      "metadata": {
        "id": "7nHefr92nb5V"
      },
      "source": [
        ""
      ]
    },
    {
      "cell_type": "markdown",
      "metadata": {
        "id": "vrzjC9C6nb8p"
      },
      "source": [
        "## 3 - Condicionais e Loops\n",
        "\n",
        "1.   Controle do fluxo de informações, ou controle de estruturas.\n",
        "\n",
        "\n",
        "*   Fonte:https://docs.python.org/3/tutorial/controlflow.html\n",
        "\n",
        "\n",
        "\n",
        "\n",
        "\n",
        "\n",
        "\n",
        "\n"
      ]
    },
    {
      "cell_type": "markdown",
      "metadata": {
        "id": "z8Kqur6ltjDK"
      },
      "source": [
        "#### 3.1 -*Condicional if (condicional if - se)* \n",
        "\n",
        "*   if (condição):\n",
        "*   elif (condição):\n",
        "\n",
        "*   else:\n",
        "\n",
        "\n",
        "\n",
        "\n"
      ]
    },
    {
      "cell_type": "markdown",
      "metadata": {
        "id": "lpou_9AMuGrk"
      },
      "source": [
        "#### ---------------------------------------------------\n",
        "\n"
      ]
    },
    {
      "cell_type": "markdown",
      "metadata": {
        "id": "Pb9jNMXHuHZn"
      },
      "source": [
        "### -  Operações Booleanas\n",
        "\n",
        "* Uso dos operadores de comparação, pode-se fazer uso dos operadores booleanos. \n",
        "\n",
        "* Eles são importantes em situações de controle de fluxo de informações (estruturas  condicionais). \n",
        "\n",
        "* Por exemplo: or  and  not\n",
        "\n",
        "Fonte: [https://docs.python.org/3/library/stdtypes.html](https://)\n"
      ]
    },
    {
      "cell_type": "markdown",
      "metadata": {
        "id": "gKoTbIl_uHcI"
      },
      "source": [
        "#### ------------------------------------------------\n",
        "\n"
      ]
    },
    {
      "cell_type": "code",
      "metadata": {
        "id": "-eXmV_qyy_Jb",
        "colab": {
          "base_uri": "https://localhost:8080/"
        },
        "outputId": "f1cac1e0-ec3c-4d1b-a93d-86578c29596d"
      },
      "source": [
        "# Exemplo: Escreva um programa e diga se o valor da variável x é positivo, negativo ou\n",
        "# nenhumas das alternativas\n",
        "x = 5\n",
        "\n",
        "if x > 0:                  # 5 > 0 ?  # condição\n",
        "  print(x,'é positivo.')    # ação\n"
      ],
      "execution_count": 58,
      "outputs": [
        {
          "output_type": "stream",
          "text": [
            "5 é positivo.\n"
          ],
          "name": "stdout"
        }
      ]
    },
    {
      "cell_type": "code",
      "metadata": {
        "id": "CA3sbsLtzjGc",
        "colab": {
          "base_uri": "https://localhost:8080/"
        },
        "outputId": "8f71933b-a1b8-4162-d50d-3733a9c41a7b"
      },
      "source": [
        "# Exemplo: Escreva um programa e diga se o valor da variável x é positivo,\n",
        "# é negativo ou nenhumas das alternativas\n",
        "x = 0\n",
        "\n",
        "if(x > 0):            # 5 > 0 ?\n",
        "  print(x,' é positivo.')\n",
        "\n",
        "elif(x < 0):\n",
        "  print(x,' é negativo')\n",
        "\n",
        "else:\n",
        "  print('Nenhuma das alternativas.\\nTente novamente.')"
      ],
      "execution_count": 61,
      "outputs": [
        {
          "output_type": "stream",
          "text": [
            "Nenhuma das alternativas.\n",
            "Tente novamente.\n"
          ],
          "name": "stdout"
        }
      ]
    },
    {
      "cell_type": "markdown",
      "metadata": {
        "id": "sFsVv7UuuHeq"
      },
      "source": [
        "###### ATIVIDADE- Refazer o exemplo anterior, entretanto peça ao usuário informar um valor  e classifica a resposta em: valor positivo, valor negativo ou nenhumas das alternativas\n"
      ]
    },
    {
      "cell_type": "code",
      "metadata": {
        "id": "UC7pOYFt0m8y"
      },
      "source": [
        "x = int(input(\"Digite um número: \"))\n",
        "if x >0:\n",
        "  print(x,' é positivo.')\n",
        "elif x < 0:\n",
        "  print(x,' é negativo.')\n",
        "else:\n",
        "  print('Nenhuma das alternativas.\\nTente novamente.')"
      ],
      "execution_count": null,
      "outputs": []
    },
    {
      "cell_type": "markdown",
      "metadata": {
        "id": "gUu2snmqGR9g"
      },
      "source": [
        "### PARE, PENSE E RESPONDA ?"
      ]
    },
    {
      "cell_type": "code",
      "metadata": {
        "id": "y_UJFtJy11pV",
        "colab": {
          "base_uri": "https://localhost:8080/"
        },
        "outputId": "40ec7bc1-6fc3-49c1-d277-6cc75aa080af"
      },
      "source": [
        "# O QUE VOCÊS ACHAM QUE IRÁ SAIR NA TELA ??\n",
        "x = 5 \n",
        "if type(x) is not str:\n",
        "  print(x)"
      ],
      "execution_count": 63,
      "outputs": [
        {
          "output_type": "stream",
          "text": [
            "5\n"
          ],
          "name": "stdout"
        }
      ]
    },
    {
      "cell_type": "code",
      "metadata": {
        "id": "WOEdnX421qKy",
        "colab": {
          "base_uri": "https://localhost:8080/"
        },
        "outputId": "df18b3f9-6430-498a-d0f4-97a74f27f37c"
      },
      "source": [
        "# O QUE VOCÊS ACHAM QUE IRÁ SAIR NA TELA ??\n",
        "x = -10\n",
        "\n",
        "if x > 4 or x < 0:\n",
        "  print('-10 > 4? Falso. -10 < 0? Verdadeiro.\\n Operador Or da preferência para o True.')"
      ],
      "execution_count": 64,
      "outputs": [
        {
          "output_type": "stream",
          "text": [
            "-10 > 4? Falso. -10 < 0? Verdadeiro.\n",
            " Operador Or da preferência para o True.\n"
          ],
          "name": "stdout"
        }
      ]
    },
    {
      "cell_type": "code",
      "metadata": {
        "id": "wGzXfVCtflA3",
        "colab": {
          "base_uri": "https://localhost:8080/"
        },
        "outputId": "c65d7558-ca89-4c76-8fbc-00c0b7a14e28"
      },
      "source": [
        "# O QUE VOCÊS ACHAM QUE IRÁ SAIR NA TELA ??\n",
        "x = -10\n",
        "\n",
        "if x > 4 and x < 0:\n",
        "  print(x)\n",
        "else:\n",
        "  print('-10 < 4 ? Falso.\\n-10 < 0? Verdadeiro.\\nOperador And pede True=True.')"
      ],
      "execution_count": 66,
      "outputs": [
        {
          "output_type": "stream",
          "text": [
            "-10 < 4 ? Falso.\n",
            "-10 < 0? Verdadeiro.\n",
            "Operador And pede True=True.\n"
          ],
          "name": "stdout"
        }
      ]
    },
    {
      "cell_type": "markdown",
      "metadata": {
        "id": "ouUtSe93FplF"
      },
      "source": [
        "###  Pare e pense !"
      ]
    },
    {
      "cell_type": "code",
      "metadata": {
        "id": "wZBwEp9gFio7"
      },
      "source": [
        "# O QUE VOCÊS ACHAM QUE IRÁ SAIR NA TELA ??\n",
        "x = 'física'\n",
        "\n",
        "if x == 'Física':\n",
        "  print(x)\n",
        "else: \n",
        "  print('física é diferente de Física.')"
      ],
      "execution_count": null,
      "outputs": []
    },
    {
      "cell_type": "markdown",
      "metadata": {
        "id": "sWf70puUuHnT"
      },
      "source": [
        "## 3.2 - Loop for\n",
        "\n",
        "*   **for** VARIÁVEL **in** o_que_será_iterado:\n",
        "\n",
        "-  Existe palavras pré-definidas que podem ser utilizadas como ITERADORES, por exemplo:\n",
        "\n",
        "---\n",
        "--- # range : seus elementos são inteiros;\n",
        "\n",
        "---\n",
        "\n",
        "--- # list: são os elementos contidos dentro da lista (pode ser números,string ou mistura das duas).\n",
        "\n",
        "---\n",
        "\n",
        "---\n",
        "\n",
        "--- # enumerate: seus elementos são tuplas que contém inteiros e valores.\n",
        "\n",
        "---\n",
        "\n",
        "\n",
        "\n",
        "\n",
        "\n"
      ]
    },
    {
      "cell_type": "code",
      "metadata": {
        "id": "udFvwnL84Piw"
      },
      "source": [
        "#lista e laço for\n",
        "\n",
        "for i in range(0,20):\n",
        "  print(i)"
      ],
      "execution_count": null,
      "outputs": []
    },
    {
      "cell_type": "code",
      "metadata": {
        "colab": {
          "base_uri": "https://localhost:8080/"
        },
        "id": "8jzOGL-FbW0k",
        "outputId": "7a2560d7-8956-46ef-b008-fe0e95f09f05"
      },
      "source": [
        "#lista e laço for\n",
        "\n",
        "for i in range(0,20,2):\n",
        "  print(i)"
      ],
      "execution_count": 79,
      "outputs": [
        {
          "output_type": "stream",
          "text": [
            "0\n",
            "2\n",
            "4\n",
            "6\n",
            "8\n",
            "10\n",
            "12\n",
            "14\n",
            "16\n",
            "18\n"
          ],
          "name": "stdout"
        }
      ]
    },
    {
      "cell_type": "code",
      "metadata": {
        "id": "R-g2iyUr30IY",
        "colab": {
          "base_uri": "https://localhost:8080/"
        },
        "outputId": "0e8d9680-44e6-43a4-c94a-bcb8f885d1ec"
      },
      "source": [
        "lista = ['a',2,'2',4,5,5,'w']\n",
        "print(len(lista))\n"
      ],
      "execution_count": 81,
      "outputs": [
        {
          "output_type": "stream",
          "text": [
            "7\n"
          ],
          "name": "stdout"
        }
      ]
    },
    {
      "cell_type": "code",
      "metadata": {
        "id": "Z0KF1Ux5_TsX",
        "colab": {
          "base_uri": "https://localhost:8080/"
        },
        "outputId": "1f1d3cd9-3361-4f98-c8df-e0f3fd61b905"
      },
      "source": [
        "lista = ['a',2,'2',4,5,5,'w']\n",
        "\n",
        "for i in lista:\n",
        "  print(i)"
      ],
      "execution_count": 82,
      "outputs": [
        {
          "output_type": "stream",
          "text": [
            "a\n",
            "2\n",
            "2\n",
            "4\n",
            "5\n",
            "5\n",
            "w\n"
          ],
          "name": "stdout"
        }
      ]
    },
    {
      "cell_type": "code",
      "metadata": {
        "id": "Drwnt5Ff4Psm",
        "colab": {
          "base_uri": "https://localhost:8080/"
        },
        "outputId": "838ac079-347e-41a9-af3c-dce99d97fb45"
      },
      "source": [
        "lista = ['a',2,'2',4,5,5,'w']\n",
        "for lugar in enumerate(lista):\n",
        "  print(lugar)"
      ],
      "execution_count": 84,
      "outputs": [
        {
          "output_type": "stream",
          "text": [
            "(0, 'a')\n",
            "(1, 2)\n",
            "(2, '2')\n",
            "(3, 4)\n",
            "(4, 5)\n",
            "(5, 5)\n",
            "(6, 'w')\n"
          ],
          "name": "stdout"
        }
      ]
    },
    {
      "cell_type": "code",
      "metadata": {
        "id": "DvNWcb4p5Mpe"
      },
      "source": [
        "lista = ['a',2,'2',4,5,5,'w']\n",
        "\n",
        "for i in enumerate(lista):\n",
        "  print('Posição - ',i[0])\n",
        "  "
      ],
      "execution_count": null,
      "outputs": []
    },
    {
      "cell_type": "code",
      "metadata": {
        "id": "BKsVscaBMiv3"
      },
      "source": [
        ""
      ],
      "execution_count": null,
      "outputs": []
    },
    {
      "cell_type": "code",
      "metadata": {
        "id": "q5IR9ptvMjoG",
        "colab": {
          "base_uri": "https://localhost:8080/"
        },
        "outputId": "732f41c8-8c85-4dd7-f38a-16f7dd73f471"
      },
      "source": [
        "lista = ['a',2,'2',4,5,5,'w']\n",
        "for i in enumerate(lista):\n",
        "  print(i)\n"
      ],
      "execution_count": 87,
      "outputs": [
        {
          "output_type": "stream",
          "text": [
            "(0, 'a')\n",
            "(1, 2)\n",
            "(2, '2')\n",
            "(3, 4)\n",
            "(4, 5)\n",
            "(5, 5)\n",
            "(6, 'w')\n"
          ],
          "name": "stdout"
        }
      ]
    },
    {
      "cell_type": "markdown",
      "metadata": {
        "id": "AE0VJ9lg62cC"
      },
      "source": [
        "##### Como pedir para o usuário adicionar itens em uma lista ou criar uma lista do zero? **"
      ]
    },
    {
      "cell_type": "code",
      "metadata": {
        "id": "uqqr2J4Z60uC",
        "colab": {
          "base_uri": "https://localhost:8080/"
        },
        "outputId": "3dd076e5-cee9-4907-f398-b682c16e71c1"
      },
      "source": [
        "# Lista vazia\n",
        "idade = []\n",
        "\n",
        "for c in range(0,3):\n",
        "    idade.append(int(input(\"Digite um numero: \")))\n",
        "    print(idade)\n",
        "print('\\n')\n",
        "print('Conteudo da ultima iteração - ',idade)"
      ],
      "execution_count": 95,
      "outputs": [
        {
          "output_type": "stream",
          "text": [
            "Digite um numero: 3\n",
            "[3]\n",
            "Digite um numero: 89\n",
            "[3, 89]\n",
            "Digite um numero: 76\n",
            "[3, 89, 76]\n",
            "\n",
            "\n",
            "Conteudo da ultima iteração -  [3, 89, 76]\n"
          ],
          "name": "stdout"
        }
      ]
    },
    {
      "cell_type": "code",
      "metadata": {
        "id": "ajuuc7F7jza2"
      },
      "source": [
        "# Lista vazia\n",
        "# ATIVIDADE - REFAZER O EXERCÍCIO ANTERIOR. ENTRETANTO, O CÓDIGO CONTÉM ERRO(S)\n",
        "# VOCÊ PRECISA IDENTIFICAR E CORRIGIR O(S) ERRO(S).\n",
        "\n",
        "nomes = []\n",
        "\n",
        "for c in range(0,3):\n",
        "    nome.append (int(input(\"Adicione um nome a lista: \")))\n",
        "\n",
        "print('\\n\\n')\n",
        "print(nomes)"
      ],
      "execution_count": null,
      "outputs": []
    },
    {
      "cell_type": "code",
      "metadata": {
        "id": "BsuCLs6g7atX"
      },
      "source": [
        "# Lista vazia\n",
        "# ATIVIDADE - RESPOSTA\n",
        "\n",
        "nomes = []\n",
        "\n",
        "for c in range(0,3):\n",
        "    nomes.append (input(\"Adicione um nome a lista: \"))\n",
        "\n",
        "print('\\n\\n')\n",
        "print(nomes)"
      ],
      "execution_count": null,
      "outputs": []
    },
    {
      "cell_type": "markdown",
      "metadata": {
        "id": "SBzmy-e0uHqG"
      },
      "source": [
        "## 3.3 - Loop *while*\n",
        "\n",
        "Enquanto a **CONDIÇÃO** for atendida (*verdadeira*), o algoritmo irá executar os comandos (dentro do laço)."
      ]
    },
    {
      "cell_type": "markdown",
      "metadata": {
        "id": "RvkkuXSJuHs5"
      },
      "source": [
        "## ---------------------------------------------------------------------------------\n"
      ]
    },
    {
      "cell_type": "code",
      "metadata": {
        "id": "bh7nq4yy8Qxi",
        "colab": {
          "base_uri": "https://localhost:8080/"
        },
        "outputId": "3cea12c8-1515-4ace-8ce8-0149b8992774"
      },
      "source": [
        "i = 0                    # INICIALIZAÇÃO\n",
        "while i<10:              # CONDIÇÃO\n",
        "  #i += 1\n",
        "  print(i)               # AÇÃO - Nesse exemplo printar\n",
        "  i +=1  # i = i + 1     # ATUALIZAÇÃO"
      ],
      "execution_count": 96,
      "outputs": [
        {
          "output_type": "stream",
          "text": [
            "0\n",
            "1\n",
            "2\n",
            "3\n",
            "4\n",
            "5\n",
            "6\n",
            "7\n",
            "8\n",
            "9\n"
          ],
          "name": "stdout"
        }
      ]
    },
    {
      "cell_type": "code",
      "metadata": {
        "colab": {
          "base_uri": "https://localhost:8080/"
        },
        "id": "XGoxGgp7wPXf",
        "outputId": "0a51c98e-8476-4b19-9dd9-921e09e2487a"
      },
      "source": [
        "# POR DENTRO DO CÓDIGO - \n",
        "i = 0\n",
        "soma = 0\n",
        "while i < 4:\n",
        "  soma = soma + 1\n",
        "  print(i, \" - \",soma)\n",
        "  i +=1\n",
        "print('\\n\\n')\n",
        "print('fim')"
      ],
      "execution_count": 103,
      "outputs": [
        {
          "output_type": "stream",
          "text": [
            "0  -  1\n",
            "1  -  2\n",
            "2  -  3\n",
            "3  -  4\n",
            "\n",
            "\n",
            "\n",
            "fim\n"
          ],
          "name": "stdout"
        }
      ]
    },
    {
      "cell_type": "code",
      "metadata": {
        "id": "9fbAaUAdBRox",
        "colab": {
          "base_uri": "https://localhost:8080/"
        },
        "outputId": "565e9a9f-d785-44f2-c6c8-302ec875a63b"
      },
      "source": [
        "x = 10                           \n",
        "\n",
        "while x > 5: \n",
        "  print('Estou dentro do laço while - ', x)\n",
        "  x = x + 1\n",
        "  #x +=1  - hashtag - serve para fazer comentário\n",
        "\n",
        "  # a cada iteração o loop testa a condição se x > 20. se verdadeiro o laço é interrompido. (Break).\n",
        "  if x > 20:\n",
        "    break\n",
        "\n",
        "print('------------------------------------')  \n",
        "print(\"fora do laço if, e do laço while .\")"
      ],
      "execution_count": 98,
      "outputs": [
        {
          "output_type": "stream",
          "text": [
            "Estou dentro do laço while -  10\n",
            "Estou dentro do laço while -  11\n",
            "Estou dentro do laço while -  12\n",
            "Estou dentro do laço while -  13\n",
            "Estou dentro do laço while -  14\n",
            "Estou dentro do laço while -  15\n",
            "Estou dentro do laço while -  16\n",
            "Estou dentro do laço while -  17\n",
            "Estou dentro do laço while -  18\n",
            "Estou dentro do laço while -  19\n",
            "Estou dentro do laço while -  20\n",
            "------------------------------------\n",
            "fora do laço if, e do laço while .\n"
          ],
          "name": "stdout"
        }
      ]
    },
    {
      "cell_type": "markdown",
      "metadata": {
        "id": "l02rMfjIuHvh"
      },
      "source": [
        "# 3.4 Exercício 1 -\n",
        "##### Crie uma estrutura condicional que, dependendo do valor contido na variável irá fazer as operações:\n",
        "\n",
        "\n",
        "*   Se for número positivo, retornar \"NÚMERO POSITIVO\";\n",
        "*   Se for número negativo, retornar \"NÚMERO NEGATIVO\";\n",
        "*   Se for zero retornar \"ZERO\";"
      ]
    },
    {
      "cell_type": "markdown",
      "metadata": {
        "id": "JT0A3bbwuH1K"
      },
      "source": [
        "# Exercício 2 -\n",
        "##### Faça um programa que solicite ao usuário as horas (no formato: 0 a 23h) e retorne \"Bom dia\" se as horas for 5 a 12h, \"Boa tarde\" para as horas 12 a 18h e \"Boa noite\" para as horas 18 as 23h."
      ]
    },
    {
      "cell_type": "markdown",
      "metadata": {
        "id": "FJwEAhSteayf"
      },
      "source": [
        "# Exercício 3 -\n",
        "##### Faça um programa que solicite ao usuário a sua idade e retorne a mensagem:\n",
        " \n",
        "*   idade < 12 - Você é uma criança;\n",
        "*   idade >= 12 e idade <= 20 - Você é um(a) adolecente;\n",
        "\n",
        "*   idade > 20 e idade <= 70 - Você é um(a) adulto(a);\n",
        "*   idade >= 70 - Você está na melhor idade."
      ]
    },
    {
      "cell_type": "markdown",
      "metadata": {
        "id": "j2mDbzfiiGQz"
      },
      "source": [
        " # Exercício 4 -\n",
        "##### Refazer o exercício anterior (3) utilize o laço de repetição while para executar o programa 4x.\n",
        " \n",
        "*   idade < 12 - Você é uma criança;\n",
        "*   idade >= 12 e idade <= 20 - Você é um(a) adolecente;\n",
        "\n",
        "*   idade > 20 e idade <= 70 - Você é um(a) adulto(a);\n",
        "*   idade >= 70 - Você está na melhor idade."
      ]
    },
    {
      "cell_type": "markdown",
      "metadata": {
        "id": "3LQAK62ZigBs"
      },
      "source": [
        "# Exercício 5 -\n",
        "Usando o conceito de lista, criar um programa que, a partir de 5 números reais digitados pelo usuário, calcule e exiba o valor de sua média."
      ]
    },
    {
      "cell_type": "code",
      "metadata": {
        "id": "iWQNwFhni2NR"
      },
      "source": [
        "numero = [0,0,0,0,0]\n",
        "\n",
        "i = 0\n",
        "soma = 0\n",
        "while i < 5:\n",
        "  numero[i] = float(input(\"Informe um número: \"))\n",
        "  soma = soma + numero[i]\n",
        "  i = i + 1 # i++ ou i +=1\n",
        "\n",
        "media = soma/5\n",
        "print('\\nO valor da média é %.2f' % media)\n",
        "print(\"\\n\")\n",
        "print('O valor da média é: ', media)\n",
        "print('\\n\\n')\n",
        "print(f'O valor da média é {media}')"
      ],
      "execution_count": null,
      "outputs": []
    },
    {
      "cell_type": "markdown",
      "metadata": {
        "id": "Qm4CSmajlLJQ"
      },
      "source": [
        "## Exercício - Desafio \n",
        "Refazer o exercício 3 (acima) utilize uma lista vazia ( numero =[  ]) e o método .append()  \n",
        "\n",
        "*   Faça uma pesquisa na internet, livros e/ou apostilas de como se utilizar o método append.() para adicionar elementos na lista.   \n",
        "*   Usando o conceito de lista, criar um programa que, a partir de 5 números reais digitados pelo usuário, calcule e exiba o valor de sua média.\n",
        "\n"
      ]
    },
    {
      "cell_type": "markdown",
      "metadata": {
        "id": "t1P94U_LqrBB"
      },
      "source": [
        "- Dica de livro: \n",
        "\n",
        "[https://penseallen.github.io/PensePython2e/](https://)"
      ]
    },
    {
      "cell_type": "code",
      "metadata": {
        "id": "tIKAk6h4lubi"
      },
      "source": [
        ""
      ],
      "execution_count": null,
      "outputs": []
    },
    {
      "cell_type": "markdown",
      "metadata": {
        "id": "mZEFgvkE-hST"
      },
      "source": [
        "** Semana 2 (03/09) – Módulo I – Python computação científica : sympy – \n",
        "\n",
        "\n",
        "2.1 – Introdução ao Sympy\n",
        "\n",
        "2.2 – Simbolos e Matrizes\n",
        "\n",
        "2.3 – Funções do cálculo : derivadas e integrais\n",
        "\n",
        "2.4 – Solver : álgebra, sistemas lineares, EDO’s\n",
        "\n",
        "2.5 – Exercícios\n",
        "\n",
        "\n",
        " **"
      ]
    },
    {
      "cell_type": "code",
      "metadata": {
        "id": "l3HXfSU8-1gm"
      },
      "source": [
        ""
      ],
      "execution_count": null,
      "outputs": []
    }
  ]
}