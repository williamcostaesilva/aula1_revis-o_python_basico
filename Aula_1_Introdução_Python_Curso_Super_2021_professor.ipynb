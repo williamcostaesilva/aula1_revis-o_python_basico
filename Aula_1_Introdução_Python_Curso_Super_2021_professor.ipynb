{
  "nbformat": 4,
  "nbformat_minor": 0,
  "metadata": {
    "colab": {
      "name": "Aula-1-Introdução-Python-Curso-Super-2021-professor",
      "provenance": [],
      "collapsed_sections": [
        "R8ZvU3FSvJHX",
        "tgWF0XCojKWI",
        "IP3YVQcunvwK",
        "spRqNBqhpEeg"
      ],
      "authorship_tag": "ABX9TyPUyHOQ0mxazy4X7VyM1wr+",
      "include_colab_link": true
    },
    "kernelspec": {
      "name": "python3",
      "display_name": "Python 3"
    },
    "language_info": {
      "name": "python"
    }
  },
  "cells": [
    {
      "cell_type": "markdown",
      "metadata": {
        "id": "view-in-github",
        "colab_type": "text"
      },
      "source": [
        "<a href=\"https://colab.research.google.com/github/williamcostaesilva/aula1_revis-o_python_basico/blob/main/Aula_1_Introdu%C3%A7%C3%A3o_Python_Curso_Super_2021_professor.ipynb\" target=\"_parent\"><img src=\"https://colab.research.google.com/assets/colab-badge.svg\" alt=\"Open In Colab\"/></a>"
      ]
    },
    {
      "cell_type": "markdown",
      "metadata": {
        "id": "9-glfd38SkNp"
      },
      "source": [
        "![images-2.png](data:image/png;base64,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)\n",
        "\n",
        "# Universidade Federal do Amazonas\n",
        "# Departamento de Engenharia de Produção\n",
        "\n",
        "## - Projeto Super 2021 - Curso Python 2.0\n",
        "\n",
        "### Aula 1 - Introdução ao Python\n",
        "###########  Prof. William Costa"
      ]
    },
    {
      "cell_type": "markdown",
      "metadata": {
        "id": "wbwTYQH9UDhN"
      },
      "source": [
        "## Revisando alguns tópicos:\n",
        "#### Tipos de variáveis (built-in types):\n",
        "\n",
        "## 2.1 - Primeiras funções:\n",
        "\n",
        "| Tipo | Descrição | Exemplo\n",
        "|----------|-------------|---------\n",
        "|' int() ' | 'Número inteiro' | ' 2 '|\n",
        "|' float() ' | 'Número real' | ' 2.0 '|\n",
        "|' input() ' | 'Retorna uma string dada pelo usuário' | 'input('Qual seu nome? ')|\n",
        "|' print() ' | 'Exibi um dado na tela' | 'print( 'Olá mundo') '|\n",
        "|' str() ' | 'Conjunto de caracteres' | 'str( 'William') '|\n",
        "|' type() ' | 'Retorna o tipo da variável' | 'type(variavel) '|\n",
        "\n"
      ]
    },
    {
      "cell_type": "code",
      "metadata": {
        "id": "jq83VddBehmN"
      },
      "source": [
        "print('Olá Mundo.')\n",
        "print(\"Olá Mundo.\")"
      ],
      "execution_count": null,
      "outputs": []
    },
    {
      "cell_type": "code",
      "metadata": {
        "colab": {
          "base_uri": "https://localhost:8080/"
        },
        "id": "-0-i5Nx9fo3Y",
        "outputId": "444811a3-b2ac-4af1-da34-9efd38fc8ea8"
      },
      "source": [
        "variavel_b = input('Digite um numero: ')"
      ],
      "execution_count": null,
      "outputs": [
        {
          "output_type": "stream",
          "text": [
            "Digite um numero: 9\n"
          ],
          "name": "stdout"
        }
      ]
    },
    {
      "cell_type": "code",
      "metadata": {
        "id": "7k8XBqCZfxU8",
        "colab": {
          "base_uri": "https://localhost:8080/",
          "height": 35
        },
        "outputId": "0d7ae803-2528-49da-cdbc-5dd504eda31a"
      },
      "source": [
        "variavel_b"
      ],
      "execution_count": null,
      "outputs": [
        {
          "output_type": "execute_result",
          "data": {
            "application/vnd.google.colaboratory.intrinsic+json": {
              "type": "string"
            },
            "text/plain": [
              "'9'"
            ]
          },
          "metadata": {},
          "execution_count": 27
        }
      ]
    },
    {
      "cell_type": "code",
      "metadata": {
        "colab": {
          "base_uri": "https://localhost:8080/"
        },
        "id": "KkAxDr9-44Rj",
        "outputId": "1dd4d089-5c1d-426f-b060-e61916cd081b"
      },
      "source": [
        "type(variavel_b)"
      ],
      "execution_count": null,
      "outputs": [
        {
          "output_type": "execute_result",
          "data": {
            "text/plain": [
              "str"
            ]
          },
          "metadata": {},
          "execution_count": 28
        }
      ]
    },
    {
      "cell_type": "code",
      "metadata": {
        "id": "5URb2W8gf8Ch"
      },
      "source": [
        "b = 5."
      ],
      "execution_count": null,
      "outputs": []
    },
    {
      "cell_type": "code",
      "metadata": {
        "id": "7f-S1u1bgSrz",
        "colab": {
          "base_uri": "https://localhost:8080/"
        },
        "outputId": "61256341-7118-4d26-db19-40affd50af52"
      },
      "source": [
        "type(b)"
      ],
      "execution_count": null,
      "outputs": [
        {
          "output_type": "execute_result",
          "data": {
            "text/plain": [
              "float"
            ]
          },
          "metadata": {},
          "execution_count": 30
        }
      ]
    },
    {
      "cell_type": "code",
      "metadata": {
        "id": "eGosFisNgAdS",
        "colab": {
          "base_uri": "https://localhost:8080/"
        },
        "outputId": "7b921a05-366a-4f58-c6a7-490309dd17c8"
      },
      "source": [
        "print('\\nO tipo da variavel b é: ',type(b))"
      ],
      "execution_count": null,
      "outputs": [
        {
          "output_type": "stream",
          "text": [
            "\n",
            "O tipo da variavel b é:  <class 'float'>\n"
          ],
          "name": "stdout"
        }
      ]
    },
    {
      "cell_type": "code",
      "metadata": {
        "id": "nQGpuk3rgLEU",
        "colab": {
          "base_uri": "https://localhost:8080/",
          "height": 53
        },
        "outputId": "168e908a-c873-477d-b7dd-bc150a753379"
      },
      "source": [
        "input(\"Diga algo: \")"
      ],
      "execution_count": null,
      "outputs": [
        {
          "output_type": "stream",
          "text": [
            "Diga algo: Como ai vc\n"
          ],
          "name": "stdout"
        },
        {
          "output_type": "execute_result",
          "data": {
            "application/vnd.google.colaboratory.intrinsic+json": {
              "type": "string"
            },
            "text/plain": [
              "'Como ai vc'"
            ]
          },
          "metadata": {},
          "execution_count": 34
        }
      ]
    },
    {
      "cell_type": "code",
      "metadata": {
        "colab": {
          "base_uri": "https://localhost:8080/"
        },
        "id": "_aSbFOSP6JD3",
        "outputId": "dfbdf63f-ac38-4e43-eb3a-96a02d109512"
      },
      "source": [
        "apresentacao = input(\"Diga algo: \")\n",
        "print(apresentacao)"
      ],
      "execution_count": null,
      "outputs": [
        {
          "output_type": "stream",
          "text": [
            "Diga algo: SEJA- BEM-VINDA\n",
            "SEJA- BEM-VINDA\n"
          ],
          "name": "stdout"
        }
      ]
    },
    {
      "cell_type": "code",
      "metadata": {
        "colab": {
          "base_uri": "https://localhost:8080/"
        },
        "id": "OmKr4U316TdM",
        "outputId": "706d122c-2f53-4572-f847-38db06ae3e91"
      },
      "source": [
        "print(type(apresentacao))"
      ],
      "execution_count": null,
      "outputs": [
        {
          "output_type": "stream",
          "text": [
            "<class 'str'>\n"
          ],
          "name": "stdout"
        }
      ]
    },
    {
      "cell_type": "markdown",
      "metadata": {
        "id": "R8ZvU3FSvJHX"
      },
      "source": [
        "## 2.2 - Números\n",
        "\n",
        "##### * Operações básicas:\n",
        "\n",
        "```\n",
        "# Isto está formatado como código\n",
        "```\n",
        "\n",
        "| Operação| Operador| Exemplo | Resultado\n",
        "|:-|---|-:|--|\n",
        "|Soma       | '+' | '9 + 7' | '16' |\n",
        "|Subtração  | '-' | '9 - 7'   |  '2' |\n",
        "|Multiplicação | '*' | '9 * 7'| '63' |\n",
        "|Divisão    | '/' | '5 / 2' | '2.5'|\n",
        "|Exponeciação| '**' | '9**2' | '81'|\n",
        "|Resto da divisão| '%' | '9 % 2' | '1' |\n",
        "| Adicionar para a variavel x | ' += ' | ' +=1' | 'x = x + 1 '|\n",
        "| Subtrair para a variavel x | ' -= ' | ' -=1' | ' x = x -1 ' | \n",
        "| Multiplicar para a variavel x | ' *=' | ' *=2' | ' x  = x*2 '|\n",
        "| Exponensiação para a variavel x | ' **= ' | ' **=2' | ' x = x**2 ' |"
      ]
    },
    {
      "cell_type": "code",
      "metadata": {
        "colab": {
          "base_uri": "https://localhost:8080/"
        },
        "id": "qC_6NZiPiOPA",
        "outputId": "643db985-e8df-41a9-ab3a-46718ca0de43"
      },
      "source": [
        "print('-----------------------------------------------------')"
      ],
      "execution_count": null,
      "outputs": [
        {
          "output_type": "stream",
          "text": [
            "-----------------------------------------------------\n"
          ],
          "name": "stdout"
        }
      ]
    },
    {
      "cell_type": "markdown",
      "metadata": {
        "id": "tgWF0XCojKWI"
      },
      "source": [
        "#### # LEE, Kent. D. Python Programming Fundamental. 2nd Edition. Springer - Verlag London 2014\n",
        "####### https://link.springer.com/chapter/10.1007%2F978-1-4471-6642-9_8\n",
        "####### (https://link.springer.com/chapter/10.1007%2F978-1-4471-6642-9_8)"
      ]
    },
    {
      "cell_type": "code",
      "metadata": {
        "id": "yeytzitRh4PG"
      },
      "source": [
        "a = 5\n",
        "print(type(a))"
      ],
      "execution_count": null,
      "outputs": []
    },
    {
      "cell_type": "code",
      "metadata": {
        "id": "OwMcmPrCzTyG"
      },
      "source": [
        "b = 5.\n",
        "print(type(b))"
      ],
      "execution_count": null,
      "outputs": []
    },
    {
      "cell_type": "code",
      "metadata": {
        "id": "JbKu8PK0zWrs"
      },
      "source": [
        "c = a + b"
      ],
      "execution_count": null,
      "outputs": []
    },
    {
      "cell_type": "code",
      "metadata": {
        "id": "cT26aXQ3jcxz"
      },
      "source": [
        "print(type(c))\n",
        "print('O tipo da variável c é: ',type(c))"
      ],
      "execution_count": null,
      "outputs": []
    },
    {
      "cell_type": "code",
      "metadata": {
        "id": "qbn0m8jUjiY0",
        "colab": {
          "base_uri": "https://localhost:8080/"
        },
        "outputId": "fd5171c2-751e-46f6-f3a9-78850da90ff2"
      },
      "source": [
        "a = 5\n",
        "print('valor de a: ',a)\n",
        "d = 10\n",
        "print('valor de d: ',d)"
      ],
      "execution_count": null,
      "outputs": [
        {
          "output_type": "stream",
          "text": [
            "valor de a:  5\n",
            "valor de d:  10\n"
          ],
          "name": "stdout"
        }
      ]
    },
    {
      "cell_type": "code",
      "metadata": {
        "id": "zi9CJbZ6zxTP"
      },
      "source": [
        "d += 5"
      ],
      "execution_count": null,
      "outputs": []
    },
    {
      "cell_type": "code",
      "metadata": {
        "id": "M6Pu1Eu6jqPa"
      },
      "source": [
        "print(d)"
      ],
      "execution_count": null,
      "outputs": []
    },
    {
      "cell_type": "code",
      "metadata": {
        "colab": {
          "base_uri": "https://localhost:8080/"
        },
        "id": "tyO5kY5Yjrds",
        "outputId": "a2f8c818-4d16-4f99-b289-a44ab092cfe0"
      },
      "source": [
        "e = 10*2\n",
        "print(' 10 x 2: ',e)"
      ],
      "execution_count": null,
      "outputs": [
        {
          "output_type": "stream",
          "text": [
            " 10 x 2:  20\n"
          ],
          "name": "stdout"
        }
      ]
    },
    {
      "cell_type": "code",
      "metadata": {
        "colab": {
          "base_uri": "https://localhost:8080/"
        },
        "id": "tN1qfdeEjy-K",
        "outputId": "14132b2a-837d-496f-f138-d87d6166adf1"
      },
      "source": [
        "e = 10**2\n",
        "print(' 10 elevado a 2: ',e)"
      ],
      "execution_count": null,
      "outputs": [
        {
          "output_type": "stream",
          "text": [
            " 10 elevado a 2:  100\n"
          ],
          "name": "stdout"
        }
      ]
    },
    {
      "cell_type": "code",
      "metadata": {
        "id": "Q7yUZgetj1ro"
      },
      "source": [
        "string_numero = '123'\n",
        "n_1 = float(string_numero)\n"
      ],
      "execution_count": null,
      "outputs": []
    },
    {
      "cell_type": "code",
      "metadata": {
        "colab": {
          "base_uri": "https://localhost:8080/"
        },
        "id": "bAJGKe-WnbH9",
        "outputId": "2a9043eb-18e2-4024-cff5-a6c92e96f853"
      },
      "source": [
        "n_1 *  n_1"
      ],
      "execution_count": null,
      "outputs": [
        {
          "output_type": "execute_result",
          "data": {
            "text/plain": [
              "15129.0"
            ]
          },
          "metadata": {
            "tags": []
          },
          "execution_count": 40
        }
      ]
    },
    {
      "cell_type": "code",
      "metadata": {
        "colab": {
          "base_uri": "https://localhost:8080/"
        },
        "id": "41-9U_lbnfYd",
        "outputId": "407998d3-6623-405a-c0c7-58ce46d958f2"
      },
      "source": [
        "string_numero = '123'\n",
        "type(string_numero)"
      ],
      "execution_count": null,
      "outputs": [
        {
          "output_type": "execute_result",
          "data": {
            "text/plain": [
              "str"
            ]
          },
          "metadata": {
            "tags": []
          },
          "execution_count": 41
        }
      ]
    },
    {
      "cell_type": "markdown",
      "metadata": {
        "id": "IP3YVQcunvwK"
      },
      "source": [
        "## 2.3 - STRING\n",
        "\n",
        "\n",
        "*   String são um conjunto de caracteres (variáveis de texto);\n",
        "*   Alguns caracteres, como aspas não podem ser adicionados diretamente. Então, é preciso \\\n",
        "\n",
        "\n",
        "*   \\n representa uma nova linha;\n",
        "*   Algumas operações básicas funcionam para manipular strings\n",
        "\n",
        "\n",
        "\n"
      ]
    },
    {
      "cell_type": "code",
      "metadata": {
        "id": "18ef4dd2nr4p"
      },
      "source": [
        "a = 'Olá minhas caras alunas e alunos.'"
      ],
      "execution_count": null,
      "outputs": []
    },
    {
      "cell_type": "code",
      "metadata": {
        "id": "RjcaCJNzocpE"
      },
      "source": [
        "b = a**2\n",
        "print(b)"
      ],
      "execution_count": null,
      "outputs": []
    },
    {
      "cell_type": "code",
      "metadata": {
        "colab": {
          "base_uri": "https://localhost:8080/"
        },
        "id": "a9beOvXOof-s",
        "outputId": "ebda5952-f6e2-4c6f-d0a4-65364003392c"
      },
      "source": [
        "texto = 'Vamos aprender muita coisa legal em Python.\\n Vamos ver tbm eletrônica e robótica com arduino.'\n",
        "print(texto)"
      ],
      "execution_count": null,
      "outputs": [
        {
          "output_type": "stream",
          "text": [
            "Vamos aprender muita coisa legal em Python.\n",
            " Vamos ver tbm eletrônica e robótica com arduino.\n"
          ],
          "name": "stdout"
        }
      ]
    },
    {
      "cell_type": "code",
      "metadata": {
        "id": "77XTYBt4o58m"
      },
      "source": [
        ""
      ],
      "execution_count": null,
      "outputs": []
    },
    {
      "cell_type": "markdown",
      "metadata": {
        "id": "spRqNBqhpEeg"
      },
      "source": [
        "## 2.4 - LISTAS\n",
        "\n",
        "\n",
        "*   Listas - são entendidas como um conjunto de dados e são caracterizadas por meio do uso de colchotes [].\n",
        "*   são conjunto de dados que podem conter dados de diferentes tipos.\n",
        "*   IElas possuem valor indexado a partir do valor zero (0).\n"
      ]
    },
    {
      "cell_type": "code",
      "metadata": {
        "id": "OSO2tWxipd_s"
      },
      "source": [
        "vazia = []"
      ],
      "execution_count": null,
      "outputs": []
    },
    {
      "cell_type": "code",
      "metadata": {
        "id": "cTMT51BqWdy7"
      },
      "source": [
        "print('lista está vazia. ',vazia)"
      ],
      "execution_count": null,
      "outputs": []
    },
    {
      "cell_type": "code",
      "metadata": {
        "colab": {
          "base_uri": "https://localhost:8080/"
        },
        "id": "gjufKZ56fG1l",
        "outputId": "c1de73ef-2529-4eee-f852-3b70d30716a5"
      },
      "source": [
        "# Verificando o tipo\n",
        "\n",
        "print('O tipo da lista é: ',type(vazia))"
      ],
      "execution_count": null,
      "outputs": [
        {
          "output_type": "stream",
          "text": [
            "O tipo da lista é:  <class 'list'>\n"
          ],
          "name": "stdout"
        }
      ]
    },
    {
      "cell_type": "code",
      "metadata": {
        "id": "w5E7dVltfPut"
      },
      "source": [
        "lista_a = [1,2,3,4,5]\n",
        "lista_b = [1,2,'Python',4,[8,9.8,9,]]\n"
      ],
      "execution_count": null,
      "outputs": []
    },
    {
      "cell_type": "code",
      "metadata": {
        "colab": {
          "base_uri": "https://localhost:8080/"
        },
        "id": "n7OepwAifiuf",
        "outputId": "0baef158-f7f1-418b-9682-dd4f6f77ef83"
      },
      "source": [
        "print(\"Conteúdo da lista a : \",lista_a)\n",
        "print(\"Conteúdo da lista b : \", lista_b)"
      ],
      "execution_count": null,
      "outputs": [
        {
          "output_type": "stream",
          "text": [
            "Conteúdo da lista a :  [1, 2, 3, 4, 5]\n",
            "Conteúdo da lista b :  [1, 2, 'Python', 4, [8, 9.8, 9]]\n"
          ],
          "name": "stdout"
        }
      ]
    },
    {
      "cell_type": "code",
      "metadata": {
        "id": "OyDv81KrfwIW"
      },
      "source": [
        ""
      ],
      "execution_count": null,
      "outputs": []
    },
    {
      "cell_type": "markdown",
      "metadata": {
        "id": "oUfxGnTWf48B"
      },
      "source": [
        "### Slicing de lista/fatiamento\n",
        "\n",
        "##### Acessando os dados contidos na lista.\n",
        "###### - Para acessar um elemento dentro da lista devemos referenciar entre colchetes [i]\n",
        "###### o indice desesado.\n",
        "\n",
        "## Indexado - índice ? os elementos da lista apresentam um ordem de construção, sequência.\n"
      ]
    },
    {
      "cell_type": "code",
      "metadata": {
        "id": "tetw96AxgBjp"
      },
      "source": [
        "lista_c = [3,'Produção',5,1,3]\n"
      ],
      "execution_count": null,
      "outputs": []
    },
    {
      "cell_type": "code",
      "metadata": {
        "colab": {
          "base_uri": "https://localhost:8080/"
        },
        "id": "xFMrJVmNgjRH",
        "outputId": "1b27fd54-b145-4fa3-fadf-4831512ca6eb"
      },
      "source": [
        "lista_c[2:]"
      ],
      "execution_count": null,
      "outputs": [
        {
          "output_type": "execute_result",
          "data": {
            "text/plain": [
              "[5, 1, 3]"
            ]
          },
          "metadata": {
            "tags": []
          },
          "execution_count": 8
        }
      ]
    },
    {
      "cell_type": "code",
      "metadata": {
        "colab": {
          "base_uri": "https://localhost:8080/"
        },
        "id": "URKiLde_gqYX",
        "outputId": "c49125c8-9cf0-498a-8e4e-81f1f1ae7f0e"
      },
      "source": [
        "# acessando os elementos dentro lista atraves dos indices\n",
        "# INDICE DA LISTA C    0,    1     ,2,3,4\n",
        "\n",
        "#           lista_c = [3,'Produção',5,1,3]\n",
        "\n",
        "lista_b = [1,2,'Python',4,[8,9.8,9,]]\n",
        "lista_d = lista_b + lista_c\n",
        "print(lista_d)"
      ],
      "execution_count": null,
      "outputs": [
        {
          "output_type": "stream",
          "text": [
            "[1, 2, 'Python', 4, [8, 9.8, 9], 3, 'Produção', 5, 1, 3]\n"
          ],
          "name": "stdout"
        }
      ]
    },
    {
      "cell_type": "code",
      "metadata": {
        "colab": {
          "base_uri": "https://localhost:8080/"
        },
        "id": "uD3yTd6jhQqP",
        "outputId": "d7a2f54e-76c7-4b87-dc47-dfdd2e88cf00"
      },
      "source": [
        "# Acessando um elemento da lista\n",
        "valores = [45,66,6,99,9.89,11,134,90002]\n",
        "print(valores[3])\n"
      ],
      "execution_count": null,
      "outputs": [
        {
          "output_type": "stream",
          "text": [
            "99\n"
          ],
          "name": "stdout"
        }
      ]
    },
    {
      "cell_type": "markdown",
      "metadata": {
        "id": "nMk2w54lmLTP"
      },
      "source": [
        "## 2.5. - Similaridades entre listas e strings\n",
        "\n",
        "\n",
        "\n",
        "*   Amba são indexáveis com índices a partir de [0];\n",
        "*   Strings, assim como listas podem ser fatiadas;\n",
        "\n",
        "\n",
        "*   A função len(x) retorna o número de elementos de uma lista e o número de caractéres de uma STRING;\n",
        "*   A operação de soma funciona de maneira parecida\n",
        "\n",
        "\n",
        "*   Ambas podem ser multiplicadas por um valor inteiro.\n",
        "\n",
        "\n",
        "####### - Entretanto, cuidado pois não são do mesmo tipo (lista != string)\n",
        "\n",
        "\n",
        "\n",
        "\n",
        "\n"
      ]
    },
    {
      "cell_type": "code",
      "metadata": {
        "id": "erjYJ4fMh47F"
      },
      "source": [
        "lista_1 = ['PA','YA','TA','HA','OA','NA']\n",
        "string_1 = 'PAYATAHAOANA'"
      ],
      "execution_count": null,
      "outputs": []
    },
    {
      "cell_type": "code",
      "metadata": {
        "id": "bnR2PZctnK2l"
      },
      "source": [
        "print(lista_1 *3)"
      ],
      "execution_count": null,
      "outputs": []
    },
    {
      "cell_type": "code",
      "metadata": {
        "id": "NvOCj3C57aPp"
      },
      "source": [
        "print(string_1 *3)"
      ],
      "execution_count": null,
      "outputs": []
    },
    {
      "cell_type": "code",
      "metadata": {
        "id": "qWZFFcT57kZ5"
      },
      "source": [
        "# Concatenação de string e lista\n",
        "nome = 'William '\n",
        "sobrenome = 'Silva'\n"
      ],
      "execution_count": null,
      "outputs": []
    },
    {
      "cell_type": "code",
      "metadata": {
        "colab": {
          "base_uri": "https://localhost:8080/"
        },
        "id": "xujCfTPd7-hb",
        "outputId": "4403e420-cd66-4911-a569-383a0c6e6407"
      },
      "source": [
        "nome_completo = nome + sobrenome\n",
        "print(nome_completo)"
      ],
      "execution_count": null,
      "outputs": [
        {
          "output_type": "stream",
          "text": [
            "William Silva\n"
          ],
          "name": "stdout"
        }
      ]
    },
    {
      "cell_type": "code",
      "metadata": {
        "id": "5X4fMtEN8HJy"
      },
      "source": [
        "nome = ['amanda','luis','julia']\n",
        "nome2 = ['fabio','pedro','fernanda']"
      ],
      "execution_count": null,
      "outputs": []
    },
    {
      "cell_type": "code",
      "metadata": {
        "id": "jr06aomg8VpV"
      },
      "source": [
        "print(nome + nome2)"
      ],
      "execution_count": null,
      "outputs": []
    },
    {
      "cell_type": "markdown",
      "metadata": {
        "id": "jqr6D9f_nbcP"
      },
      "source": [
        "## 2.6 - VALORES BOOLEANOS (Boolean Values) \n",
        "#### O que são?\n",
        "\n",
        "\n",
        "*   As variáveis do tipo bool armazenam constantes do tipo True ou False (Verdadeiro ou Falso)\n",
        "\n",
        "\n"
      ]
    },
    {
      "cell_type": "code",
      "metadata": {
        "id": "DnFedIdenyiS"
      },
      "source": [
        "print(\"O que tem de errado no código abaixo ? \")\n",
        "5 = 5 \n"
      ],
      "execution_count": null,
      "outputs": []
    },
    {
      "cell_type": "markdown",
      "metadata": {
        "id": "wYgDM7WInb0L"
      },
      "source": [
        ""
      ]
    },
    {
      "cell_type": "code",
      "metadata": {
        "colab": {
          "base_uri": "https://localhost:8080/"
        },
        "id": "x-YqJcefn1x0",
        "outputId": "870d2050-8675-4ba8-e399-05aad4b3fec0"
      },
      "source": [
        "print('A informação do lado direito é igual ao lado esquero? -',5 == 5)"
      ],
      "execution_count": null,
      "outputs": [
        {
          "output_type": "stream",
          "text": [
            "A informação do lado direito é igual ao lado esquero? - True\n"
          ],
          "name": "stdout"
        }
      ]
    },
    {
      "cell_type": "code",
      "metadata": {
        "colab": {
          "base_uri": "https://localhost:8080/"
        },
        "id": "9poMP2rPoIPa",
        "outputId": "1b31a289-6550-48f4-8cb6-b28444b342c6"
      },
      "source": [
        "print('5 é igual a 4 ? -',5 == 4)\n",
        "print('-----------------------------------')\n",
        "print('5 é difernte de 4 ? -',5 != 4)\n",
        "print('-----------------------------------')\n",
        "print('5 é maior ou igual a 4 ? -',5 >= 4)\n",
        "print('-----------------------------------')\n",
        "print('5 é menor ou igual a 4? -',5 <= 4)\n",
        "print('-----------------------------------')\n",
        "print('5 é maior do que 4? -',5 > 4)\n",
        "print('-----------------------------------')\n",
        "print('5 é menor do que 4? -',5 < 4)\n"
      ],
      "execution_count": null,
      "outputs": [
        {
          "output_type": "stream",
          "text": [
            "5 é igual a 4 ? - False\n",
            "-----------------------------------\n",
            "5 é difernte de 4 ? - True\n",
            "-----------------------------------\n",
            "5 é maior ou igual a 4 ? - True\n",
            "-----------------------------------\n",
            "5 é menor ou igual a 4? - False\n",
            "-----------------------------------\n",
            "5 é maior do que 4? - True\n",
            "-----------------------------------\n",
            "5 é menor do que 4? - False\n"
          ],
          "name": "stdout"
        }
      ]
    },
    {
      "cell_type": "markdown",
      "metadata": {
        "id": "mwwWwINwqCDG"
      },
      "source": [
        "#######  https://docs.python.org/3/library/stdtypes.html#iterator-types"
      ]
    },
    {
      "cell_type": "code",
      "metadata": {
        "colab": {
          "base_uri": "https://localhost:8080/"
        },
        "id": "fsG2Ivy4pLH-",
        "outputId": "b97a3c0e-7e78-4b8a-a847-4bae9da94059"
      },
      "source": [
        "# Resto de divisão \n",
        "a = 10\n",
        "print('O resto da divisao entre 10 por 2 é : ',a%2)"
      ],
      "execution_count": null,
      "outputs": [
        {
          "output_type": "stream",
          "text": [
            "O resto da divisao entre 10 por 2 é :  0\n"
          ],
          "name": "stdout"
        }
      ]
    },
    {
      "cell_type": "markdown",
      "metadata": {
        "id": "ki4MqQjaqpfb"
      },
      "source": [
        ""
      ]
    },
    {
      "cell_type": "code",
      "metadata": {
        "colab": {
          "base_uri": "https://localhost:8080/"
        },
        "id": "Fivh9QqApnhB",
        "outputId": "ed238ffa-ccc6-46e3-b65c-6278a6a88d14"
      },
      "source": [
        "# Resto de divisão \n",
        "b = 11\n",
        "print('O resto da divisao entre 11 por 2 é : ',b%2)"
      ],
      "execution_count": null,
      "outputs": [
        {
          "output_type": "stream",
          "text": [
            "O resto da divisao entre 11 por 2 é :  1\n"
          ],
          "name": "stdout"
        }
      ]
    },
    {
      "cell_type": "markdown",
      "metadata": {
        "id": "7nHefr92nb5V"
      },
      "source": [
        ""
      ]
    },
    {
      "cell_type": "markdown",
      "metadata": {
        "id": "vrzjC9C6nb8p"
      },
      "source": [
        "## 3 - Condicionais e Loops\n",
        "\n",
        "1.   Controle do fluxo de informações, ou controle de estruturas.\n",
        "\n",
        "\n",
        "*   Fonte:[https://docs.python.org/3/tutorial/controlflow.html]\n",
        "\n",
        "\n",
        "\n",
        "\n",
        "\n",
        "\n",
        "\n"
      ]
    },
    {
      "cell_type": "markdown",
      "metadata": {
        "id": "z8Kqur6ltjDK"
      },
      "source": [
        "#### 3.1 -*Condicional if (condicional if - se)* \n",
        "\n",
        "*   if (condição):\n",
        "*   elif (condição):\n",
        "\n",
        "*   else:\n",
        "\n",
        "\n",
        "\n",
        "\n"
      ]
    },
    {
      "cell_type": "markdown",
      "metadata": {
        "id": "lpou_9AMuGrk"
      },
      "source": [
        "#### ---------------------------------------------------\n",
        "\n"
      ]
    },
    {
      "cell_type": "markdown",
      "metadata": {
        "id": "Pb9jNMXHuHZn"
      },
      "source": [
        "### -  Operações Booleanas\n",
        "\n",
        "* Uso dos operadores de comparação, pode-se fazer uso dos operadores booleanos. \n",
        "\n",
        "* Eles são importantes em situações de controle de fluxo de informações (estruturas  condicionais). \n",
        "\n",
        "* Por exemplo: or e and\n",
        "\n",
        "Fonte: [https://docs.python.org/3/library/stdtypes.html](https://)\n"
      ]
    },
    {
      "cell_type": "markdown",
      "metadata": {
        "id": "gKoTbIl_uHcI"
      },
      "source": [
        "#### ------------------------------------------------\n",
        "\n"
      ]
    },
    {
      "cell_type": "code",
      "metadata": {
        "id": "-eXmV_qyy_Jb"
      },
      "source": [
        "# Exemplo: Escreva um programa e diga se o valor da variável x é positivo, negativo ou nenhumas das alternativas\n",
        "x = 5\n",
        "\n",
        "if(x > 0):\n",
        "  print(x,' é positivo.')\n"
      ],
      "execution_count": null,
      "outputs": []
    },
    {
      "cell_type": "code",
      "metadata": {
        "id": "CA3sbsLtzjGc"
      },
      "source": [
        "# Exemplo: Escreva um programa e diga se o valor da variável x é positivo, negativo ou nenhumas das alternativas\n",
        "x = 5\n",
        "\n",
        "if(x > 0):\n",
        "  print(x,' é positivo.')\n",
        "\n",
        "elif(x < 0):\n",
        "  print(x,' é negativo')\n",
        "\n",
        "else:\n",
        "  print('Nenhuma das alternativas.\\nTente novamente.')"
      ],
      "execution_count": null,
      "outputs": []
    },
    {
      "cell_type": "markdown",
      "metadata": {
        "id": "sFsVv7UuuHeq"
      },
      "source": [
        "###### ATIVIDADE- Refazer o exemplo anterior, entretanto peça ao usuário informar um valor  e classifica a resposta em: valor positivo, valor negativo ou nenhumas das alternativas\n"
      ]
    },
    {
      "cell_type": "code",
      "metadata": {
        "id": "UC7pOYFt0m8y"
      },
      "source": [
        "x = int(input(\"Digite um número: \"))\n",
        "if x >0:\n",
        "  print(x,' é positivo.')\n",
        "elif x < 0:\n",
        "  print(x,' é negativo.')\n",
        "else:\n",
        "  print('Nenhuma das alternativas.\\nTente novamente.')"
      ],
      "execution_count": null,
      "outputs": []
    },
    {
      "cell_type": "code",
      "metadata": {
        "id": "y-xcQWPR1f5F"
      },
      "source": [
        "# O QUE VOCÊS ACHAM QUE IRÁ SAIR NA TELA ??\n",
        "x = 'Física'\n",
        "\n",
        "if x == 'Física':\n",
        "  print(x)"
      ],
      "execution_count": null,
      "outputs": []
    },
    {
      "cell_type": "markdown",
      "metadata": {
        "id": "vdg_UhbmuHhr"
      },
      "source": [
        ""
      ]
    },
    {
      "cell_type": "code",
      "metadata": {
        "id": "y_UJFtJy11pV",
        "colab": {
          "base_uri": "https://localhost:8080/"
        },
        "outputId": "4603ac51-b2c7-485a-964f-8074e53d7032"
      },
      "source": [
        "# O QUE VOCÊS ACHAM QUE IRÁ SAIR NA TELA ??\n",
        "x = 5 \n",
        "if type(x) is not str:\n",
        "  print(x)"
      ],
      "execution_count": null,
      "outputs": [
        {
          "output_type": "stream",
          "text": [
            "5\n"
          ],
          "name": "stdout"
        }
      ]
    },
    {
      "cell_type": "code",
      "metadata": {
        "id": "WOEdnX421qKy"
      },
      "source": [
        "# O QUE VOCÊS ACHAM QUE IRÁ SAIR NA TELA ??\n",
        "x = -10\n",
        "\n",
        "if x > 4 or x < 0:\n",
        "  print(x)"
      ],
      "execution_count": null,
      "outputs": []
    },
    {
      "cell_type": "markdown",
      "metadata": {
        "id": "sWf70puUuHnT"
      },
      "source": [
        "## 3.2 - Loop for\n",
        "\n",
        "*   **for** VARIÁVEL **in** o_que_será_iterado:\n",
        "\n",
        "-  Existe palavras pré-definidas que podem ser utilizadas como ITERADORES, por exemplo:\n",
        "\n",
        "---\n",
        "--- # range : seus elementos são inteiros;\n",
        "\n",
        "---\n",
        "\n",
        "--- # list: são os elementos contidos dentro da lista (pode ser números,string ou mistura das duas).\n",
        "\n",
        "---\n",
        "\n",
        "---\n",
        "\n",
        "--- # enumerate: seus elementos são tuplas que contém inteiros e valores.\n",
        "\n",
        "---\n",
        "\n",
        "\n",
        "\n",
        "\n",
        "\n"
      ]
    },
    {
      "cell_type": "code",
      "metadata": {
        "id": "udFvwnL84Piw"
      },
      "source": [
        "#lista e laço for\n",
        "\n",
        "for i in range(0,20,2):\n",
        "  print(i)"
      ],
      "execution_count": null,
      "outputs": []
    },
    {
      "cell_type": "code",
      "metadata": {
        "id": "R-g2iyUr30IY"
      },
      "source": [
        "lista = ['a',2,'2',4,5,5,'w']\n",
        "\n",
        "for i in range(len(lista)):\n",
        "  print(i)\n",
        "\n",
        "print(\"Ha 7 elementos na lista.\")\n"
      ],
      "execution_count": null,
      "outputs": []
    },
    {
      "cell_type": "code",
      "metadata": {
        "id": "Z0KF1Ux5_TsX"
      },
      "source": [
        "lista = ['a',2,'2',4,5,5,'w']\n",
        "\n",
        "for i in lista:\n",
        "  print(i)"
      ],
      "execution_count": null,
      "outputs": []
    },
    {
      "cell_type": "code",
      "metadata": {
        "colab": {
          "base_uri": "https://localhost:8080/"
        },
        "id": "Drwnt5Ff4Psm",
        "outputId": "ade4cc57-0b2a-45c6-86c6-ed77363a1508"
      },
      "source": [
        "lista = ['a',2,'2',4,5,5,'w']\n",
        "for i in enumerate(lista):\n",
        "  print(i)"
      ],
      "execution_count": null,
      "outputs": [
        {
          "output_type": "stream",
          "text": [
            "(0, 'a')\n",
            "(1, 2)\n",
            "(2, '2')\n",
            "(3, 4)\n",
            "(4, 5)\n",
            "(5, 5)\n",
            "(6, 'w')\n"
          ],
          "name": "stdout"
        }
      ]
    },
    {
      "cell_type": "code",
      "metadata": {
        "colab": {
          "base_uri": "https://localhost:8080/"
        },
        "id": "DvNWcb4p5Mpe",
        "outputId": "af64b39d-5e20-41e6-b0cf-a90574e9875f"
      },
      "source": [
        "lista = ['a',2,'2',4,5,5,'w']\n",
        "for i in enumerate(lista):\n",
        "  print('Posição - ',i[0])\n",
        "  "
      ],
      "execution_count": null,
      "outputs": [
        {
          "output_type": "stream",
          "text": [
            "Posição -  0\n",
            "Posição -  1\n",
            "Posição -  2\n",
            "Posição -  3\n",
            "Posição -  4\n",
            "Posição -  5\n",
            "Posição -  6\n"
          ],
          "name": "stdout"
        }
      ]
    },
    {
      "cell_type": "code",
      "metadata": {
        "id": "BKsVscaBMiv3"
      },
      "source": [
        ""
      ],
      "execution_count": null,
      "outputs": []
    },
    {
      "cell_type": "code",
      "metadata": {
        "colab": {
          "base_uri": "https://localhost:8080/"
        },
        "id": "MH7y2VReMNTi",
        "outputId": "2b380128-be36-4378-fe3e-2bab80cc7b7b"
      },
      "source": [
        "lista = ['a',2,'2',4,5,5,'w']\n",
        "for i in enumerate(lista):\n",
        "  print(i[1])"
      ],
      "execution_count": null,
      "outputs": [
        {
          "output_type": "stream",
          "text": [
            "a\n",
            "2\n",
            "2\n",
            "4\n",
            "5\n",
            "5\n",
            "w\n"
          ],
          "name": "stdout"
        }
      ]
    },
    {
      "cell_type": "code",
      "metadata": {
        "id": "q5IR9ptvMjoG"
      },
      "source": [
        "lista = ['a',2,'2',4,5,5,'w']\n",
        "for i in enumerate(lista):\n",
        "  print(i)\n"
      ],
      "execution_count": null,
      "outputs": []
    },
    {
      "cell_type": "markdown",
      "metadata": {
        "id": "SBzmy-e0uHqG"
      },
      "source": [
        "## 3.3 - Loop *while*\n",
        "\n",
        "Enquanto a **CONDIÇÃO** for atendida (*verdadeira*), o algoritmo irá executar os comandos (dentro do laço)."
      ]
    },
    {
      "cell_type": "markdown",
      "metadata": {
        "id": "RvkkuXSJuHs5"
      },
      "source": [
        "## ---------------------------------------------------------------------------------\n"
      ]
    },
    {
      "cell_type": "code",
      "metadata": {
        "colab": {
          "base_uri": "https://localhost:8080/"
        },
        "id": "9fbAaUAdBRox",
        "outputId": "aa7c5ca7-4b43-403d-bdbb-0d52d6642482"
      },
      "source": [
        "x = 10\n",
        "\n",
        "while x > 5: \n",
        "  print('Estou dentro do laço while - ', x)\n",
        "  x = x + 1\n",
        "  #x +=1  - cerquilho ou hash tag - serve para fazer comentário\n",
        "\n",
        "  # a cada iteração o loop testa a condição se x > 20. se verdadeiro o laço é interrompido. (Break).\n",
        "  if x > 20:\n",
        "    break\n",
        "\n",
        "print('------------------------------------')  \n",
        "print(\"fora do laço if, e do laço while .\")"
      ],
      "execution_count": null,
      "outputs": [
        {
          "output_type": "stream",
          "text": [
            "Estou dentro do laço while -  10\n",
            "Estou dentro do laço while -  11\n",
            "Estou dentro do laço while -  12\n",
            "Estou dentro do laço while -  13\n",
            "Estou dentro do laço while -  14\n",
            "Estou dentro do laço while -  15\n",
            "Estou dentro do laço while -  16\n",
            "Estou dentro do laço while -  17\n",
            "Estou dentro do laço while -  18\n",
            "Estou dentro do laço while -  19\n",
            "Estou dentro do laço while -  20\n",
            "------------------------------------\n",
            "fora do laço if, e do laço while .\n"
          ],
          "name": "stdout"
        }
      ]
    },
    {
      "cell_type": "markdown",
      "metadata": {
        "id": "l02rMfjIuHvh"
      },
      "source": [
        "# 3.4 Exercício 1 -\n",
        "##### Crie uma estrutura condicional que, dependendo do valor contido na variável irá fazer as operações:\n",
        "\n",
        "\n",
        "*   Se for número positivo, retornar \"NÚMERO POSITIVO\";\n",
        "*   Se for número negativo, retornar \"NÚMERO NEGATIVO\";\n",
        "*   Se for zero retornar \"ZERO\";"
      ]
    },
    {
      "cell_type": "markdown",
      "metadata": {
        "id": "JT0A3bbwuH1K"
      },
      "source": [
        "# Exercício 2 -\n",
        "##### Faça um programa que solicite ao usuário as horas (no formato: 0 a 23h) e retorne \"Bom dia\" se as horas for 5 a 12h, \"Boa tarde\" para as horas 12 a 18h e \"Boa noite\" para as horas 18 as 23h."
      ]
    },
    {
      "cell_type": "markdown",
      "metadata": {
        "id": "FJwEAhSteayf"
      },
      "source": [
        "# Exercício 3 -\n",
        "##### Faça um programa que solicite ao usuário a sua idade e retorne a mensagem:\n",
        " \n",
        "*   idade < 12 - Você é uma criança;\n",
        "*   idade >= 12 e idade <= 20 - Você é um(a) adolecente;\n",
        "\n",
        "*   idade > 20 e idade <= 70 - Você é um(a) adulto(a);\n",
        "*   idade >= 70 - Você está na melhor idade."
      ]
    },
    {
      "cell_type": "markdown",
      "metadata": {
        "id": "j2mDbzfiiGQz"
      },
      "source": [
        " # Exercício 4 -\n",
        "##### Refazer o exercício anterior (3) utilize o laço de repetição while para executar o programa 4x.\n",
        " \n",
        "*   idade < 12 - Você é uma criança;\n",
        "*   idade >= 12 e idade <= 20 - Você é um(a) adolecente;\n",
        "\n",
        "*   idade > 20 e idade <= 70 - Você é um(a) adulto(a);\n",
        "*   idade >= 70 - Você está na melhor idade."
      ]
    },
    {
      "cell_type": "markdown",
      "metadata": {
        "id": "3LQAK62ZigBs"
      },
      "source": [
        "# Exercício 4 -\n",
        "Usando o conceito de lista, criar um programa que, a partir de 5 números reais digitados pelo usuário, calcule e exiba o valor de sua média."
      ]
    },
    {
      "cell_type": "code",
      "metadata": {
        "colab": {
          "base_uri": "https://localhost:8080/"
        },
        "id": "iWQNwFhni2NR",
        "outputId": "40bed429-1568-4cd3-fafc-f24ed8240753"
      },
      "source": [
        "numero = [0,0,0,0,0]\n",
        "\n",
        "i = 0\n",
        "soma = 0\n",
        "while i < 5:\n",
        "  numero[i] = float(input(\"Informe um número: \"))\n",
        "  soma = soma + numero[i]\n",
        "  i = i + 1 # i++ ou i +=1\n",
        "\n",
        "media = soma/5\n",
        "print('\\nO valor da média é %.2f' % media)\n",
        "print(\"\\n\")\n",
        "print('O valor da média é: ', media)\n",
        "print('\\n\\n')\n",
        "print(f'O valor da média é {media}')"
      ],
      "execution_count": null,
      "outputs": [
        {
          "output_type": "stream",
          "text": [
            "Informe um número: 9\n",
            "Informe um número: 9\n",
            "Informe um número: 9\n",
            "Informe um número: 9\n",
            "Informe um número: 9\n",
            "\n",
            "O valor da média é 9.00\n",
            "\n",
            "\n",
            "O valor da média é:  9.0\n",
            "\n",
            "\n",
            "\n",
            "O valor da média é 9.0\n"
          ],
          "name": "stdout"
        }
      ]
    },
    {
      "cell_type": "markdown",
      "metadata": {
        "id": "Qm4CSmajlLJQ"
      },
      "source": [
        "## Exercício - Desafio \n",
        "Refazer o exercício 3 (acima) utilize uma lista vazia ( numero =[  ]) e o método .append()  \n",
        "\n",
        "*   Faça uma pesquisa na internet, livros e/ou apostilas de como se utilizar o método append.() para adicionar elementos na lista.   \n",
        "*   Usando o conceito de lista, criar um programa que, a partir de 5 números reais digitados pelo usuário, calcule e exiba o valor de sua média.\n",
        "\n"
      ]
    },
    {
      "cell_type": "markdown",
      "metadata": {
        "id": "t1P94U_LqrBB"
      },
      "source": [
        "- Dica de livro: \n",
        "\n",
        "[https://penseallen.github.io/PensePython2e/](https://)"
      ]
    },
    {
      "cell_type": "code",
      "metadata": {
        "id": "tIKAk6h4lubi"
      },
      "source": [
        ""
      ],
      "execution_count": null,
      "outputs": []
    },
    {
      "cell_type": "code",
      "metadata": {
        "id": "u61ckiUYq_bl"
      },
      "source": [
        ""
      ],
      "execution_count": null,
      "outputs": []
    }
  ]
}