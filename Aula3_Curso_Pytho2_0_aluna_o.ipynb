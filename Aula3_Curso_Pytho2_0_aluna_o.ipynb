{
  "nbformat": 4,
  "nbformat_minor": 0,
  "metadata": {
    "colab": {
      "name": "Aula3-Curso-Pytho2.0-aluna-o.ipynb",
      "provenance": [],
      "collapsed_sections": [],
      "authorship_tag": "ABX9TyPzA7OKLzaFCoOOR4znmUtx",
      "include_colab_link": true
    },
    "kernelspec": {
      "name": "python3",
      "display_name": "Python 3"
    },
    "language_info": {
      "name": "python"
    }
  },
  "cells": [
    {
      "cell_type": "markdown",
      "metadata": {
        "id": "view-in-github",
        "colab_type": "text"
      },
      "source": [
        "<a href=\"https://colab.research.google.com/github/williamcostaesilva/aula1_revis-o_python_basico/blob/main/Aula3_Curso_Pytho2_0_aluna_o.ipynb\" target=\"_parent\"><img src=\"https://colab.research.google.com/assets/colab-badge.svg\" alt=\"Open In Colab\"/></a>"
      ]
    },
    {
      "cell_type": "markdown",
      "metadata": {
        "id": "4CFuBPWO-ovZ"
      },
      "source": [
        "![images-2.png](data:image/png;base64,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)\n",
        "\n",
        "# Universidade Federal do Amazonas\n",
        "# Departamento de Engenharia de Produção\n",
        "\n",
        "## - Projeto Super 2021 - Curso Python 2.0\n",
        "\n",
        "### Aula 3 - Biblioteca Numpy\n",
        "\n",
        "**  Prof. William Costa **\n",
        "\n"
      ]
    },
    {
      "cell_type": "markdown",
      "metadata": {
        "id": "al5kVpxK_OEs"
      },
      "source": [
        "![numpy.png](data:image/png;base64,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)\n",
        "\n",
        "\n",
        "## Aula 3 - Biblioteca Numpy\n"
      ]
    },
    {
      "cell_type": "markdown",
      "metadata": {
        "id": "k19sjpJBDOuB"
      },
      "source": [
        "# - Finalizando o contéudo da aula passada (derivada, integral, solver)\n",
        "### Biblioteca sympy - matemática simbólica\n",
        "\n"
      ]
    },
    {
      "cell_type": "code",
      "metadata": {
        "id": "5FoWH-QBKQOT"
      },
      "source": [
        "# Importando a biblioteca sympy\n",
        "import sympy as sp\n",
        "sp.init_printing()"
      ],
      "execution_count": 26,
      "outputs": []
    },
    {
      "cell_type": "code",
      "metadata": {
        "colab": {
          "base_uri": "https://localhost:8080/",
          "height": 39
        },
        "id": "TVEwozN0NmMK",
        "outputId": "00b75898-a2c3-47d1-cce8-b17a7e0d1120"
      },
      "source": [
        "# Criando um funçao sin(x)**2\n",
        "x = sp.symbols('x')\n",
        "fx = sp.sin(x)**2\n",
        "fx"
      ],
      "execution_count": 28,
      "outputs": [
        {
          "output_type": "execute_result",
          "data": {
            "image/png": "[encoded data removed]",
            "text/latex": "$\\displaystyle \\sin^{2}{\\left(x \\right)}$",
            "text/plain": [
              "   2   \n",
              "sin (x)"
            ]
          },
          "metadata": {},
          "execution_count": 28
        }
      ]
    },
    {
      "cell_type": "code",
      "metadata": {
        "id": "Ru-TSLoyOBmY",
        "colab": {
          "base_uri": "https://localhost:8080/",
          "height": 39
        },
        "outputId": "6b6f51eb-d34b-46e7-97ac-040c316e3a05"
      },
      "source": [
        "# DERIVADA \n",
        "# sp.diff() - calcula a derivada de uma função\n",
        "C = sp.symbols('C')\n",
        "dfdx = sp.diff(fx,x)\n",
        "dfdx += C\n",
        "dfdx"
      ],
      "execution_count": 34,
      "outputs": [
        {
          "output_type": "execute_result",
          "data": {
            "image/png": "[encoded data removed]",
            "text/latex": "$\\displaystyle C + 2 \\sin{\\left(x \\right)} \\cos{\\left(x \\right)}$",
            "text/plain": [
              "C + 2⋅sin(x)⋅cos(x)"
            ]
          },
          "metadata": {},
          "execution_count": 34
        }
      ]
    },
    {
      "cell_type": "code",
      "metadata": {
        "id": "k3HxPtKvYNxJ"
      },
      "source": [
        "# Derivando a expressão em funçao de x\n",
        "x,y = sp.symbols(['x','y'])\n",
        "sp.init_printing()\n"
      ],
      "execution_count": 36,
      "outputs": []
    },
    {
      "cell_type": "code",
      "metadata": {
        "colab": {
          "base_uri": "https://localhost:8080/",
          "height": 39
        },
        "id": "1pWBh5b6Y5vp",
        "outputId": "38001f23-cba0-45b9-8096-2bf7eb2f01ae"
      },
      "source": [
        "# Derivando uma expressão duas ou mais vezes - derivada de 2a ordem , 3a, ...\n",
        "#expres\n",
        "expres = sp.exp(2*x) + sin(x)\n",
        "expres"
      ],
      "execution_count": 37,
      "outputs": [
        {
          "output_type": "execute_result",
          "data": {
            "image/png": "[encoded data removed]",
            "text/latex": "$\\displaystyle e^{2 x} + \\sin{\\left(x \\right)}$",
            "text/plain": [
              " 2⋅x         \n",
              "ℯ    + sin(x)"
            ]
          },
          "metadata": {},
          "execution_count": 37
        }
      ]
    },
    {
      "cell_type": "code",
      "metadata": {
        "colab": {
          "base_uri": "https://localhost:8080/",
          "height": 39
        },
        "id": "-5KSNMAWZI-J",
        "outputId": "a3dae79c-98dd-438d-cbc3-6448d010bad0"
      },
      "source": [
        "# Calcular a derivada \n",
        "dfdx = sp.diff(expres,x)\n",
        "dfdx"
      ],
      "execution_count": 39,
      "outputs": [
        {
          "output_type": "execute_result",
          "data": {
            "image/png": "[encoded data removed]",
            "text/latex": "$\\displaystyle 2 e^{2 x} + \\cos{\\left(x \\right)}$",
            "text/plain": [
              "   2⋅x         \n",
              "2⋅ℯ    + cos(x)"
            ]
          },
          "metadata": {},
          "execution_count": 39
        }
      ]
    },
    {
      "cell_type": "code",
      "metadata": {
        "colab": {
          "base_uri": "https://localhost:8080/",
          "height": 39
        },
        "id": "OfprfEYJZ3qf",
        "outputId": "288bc219-cfdd-4b53-b42c-00c24f856a28"
      },
      "source": [
        "# Calcular a  1a derivada de fx\n",
        "df2dx = sp.diff(expres,x,x)\n",
        "df2dx"
      ],
      "execution_count": 40,
      "outputs": [
        {
          "output_type": "execute_result",
          "data": {
            "image/png": "[encoded data removed]",
            "text/latex": "$\\displaystyle 4 e^{2 x} - \\sin{\\left(x \\right)}$",
            "text/plain": [
              "   2⋅x         \n",
              "4⋅ℯ    - sin(x)"
            ]
          },
          "metadata": {},
          "execution_count": 40
        }
      ]
    },
    {
      "cell_type": "code",
      "metadata": {
        "id": "ONrkhCJGcMBF"
      },
      "source": [
        "# Exemplo - fx = x**3 + 5* x**2 + x\n",
        "# Atividade - escrever a expressão acima usando a matemática simbólica\n",
        "# calcular a primeira derivada da funçao  fx\n"
      ],
      "execution_count": null,
      "outputs": []
    },
    {
      "cell_type": "code",
      "metadata": {
        "id": "REA8PeIhYbCa",
        "colab": {
          "base_uri": "https://localhost:8080/",
          "height": 52
        },
        "outputId": "5208d09e-76c4-47bb-b689-912a4dbf181c"
      },
      "source": [
        "##### COMO ESCREVER/EXPRESSAR NA FORMA df/dx\n",
        "y = x**2 + x -1\n",
        "y\n",
        "sp.Derivative(y,x)"
      ],
      "execution_count": 52,
      "outputs": [
        {
          "output_type": "execute_result",
          "data": {
            "image/png": "[encoded data removed]",
            "text/latex": "$\\displaystyle \\frac{d}{d x} \\left(x^{2} + x - 1\\right)$",
            "text/plain": [
              "d ⎛ 2        ⎞\n",
              "──⎝x  + x - 1⎠\n",
              "dx            "
            ]
          },
          "metadata": {},
          "execution_count": 52
        }
      ]
    },
    {
      "cell_type": "code",
      "metadata": {
        "id": "zFRr-_yfaN4c"
      },
      "source": [
        "# Escrever de forma simbólica a derivada : \n",
        "# f = sp.exp(2*x) + sp.sin(x)"
      ],
      "execution_count": null,
      "outputs": []
    },
    {
      "cell_type": "markdown",
      "metadata": {
        "id": "R87ekozicoLF"
      },
      "source": [
        "## INTEGRAL - "
      ]
    },
    {
      "cell_type": "code",
      "metadata": {
        "id": "T2KoWAQfaVB-",
        "colab": {
          "base_uri": "https://localhost:8080/",
          "height": 53
        },
        "outputId": "47415a80-64ac-4912-b588-0670c3284aa1"
      },
      "source": [
        "#  definida e indefinida\n",
        "# sp.integrate()\n",
        "import sympy as sp\n",
        "sp.init_printing()\n",
        "\n",
        "# criando as variaveis simbólicas x , y e z\n",
        "x, y, z= sp.symbols(['x','y','z'])\n",
        "f = sp.cos(2*x) * sp.sin(3*x)\n",
        "f\n",
        "sp.integrate(f,x)"
      ],
      "execution_count": 59,
      "outputs": [
        {
          "output_type": "execute_result",
          "data": {
            "image/png": "[encoded data removed]",
            "text/latex": "$\\displaystyle - \\frac{2 \\sin{\\left(2 x \\right)} \\sin{\\left(3 x \\right)}}{5} - \\frac{3 \\cos{\\left(2 x \\right)} \\cos{\\left(3 x \\right)}}{5}$",
            "text/plain": [
              "  2⋅sin(2⋅x)⋅sin(3⋅x)   3⋅cos(2⋅x)⋅cos(3⋅x)\n",
              "- ─────────────────── - ───────────────────\n",
              "           5                     5         "
            ]
          },
          "metadata": {},
          "execution_count": 59
        }
      ]
    },
    {
      "cell_type": "code",
      "metadata": {
        "id": "8RC_e4iNct14",
        "colab": {
          "base_uri": "https://localhost:8080/",
          "height": 53
        },
        "outputId": "75580cc7-20e5-4179-f628-37f6bf452d25"
      },
      "source": [
        "#  definida e indefinida\n",
        "# sp.integrate()\n",
        "import sympy as sp\n",
        "sp.init_printing()\n",
        "\n",
        "# criando as variaveis simbólicas x , y e z\n",
        "x, y, z= sp.symbols(['x','y','z'])\n",
        "f = sp.cos(2*x) * sp.sin(3*x)\n",
        "\n",
        "sp.integrate(f,x) + C"
      ],
      "execution_count": 60,
      "outputs": [
        {
          "output_type": "execute_result",
          "data": {
            "image/png": "[encoded data removed]",
            "text/latex": "$\\displaystyle C - \\frac{2 \\sin{\\left(2 x \\right)} \\sin{\\left(3 x \\right)}}{5} - \\frac{3 \\cos{\\left(2 x \\right)} \\cos{\\left(3 x \\right)}}{5}$",
            "text/plain": [
              "    2⋅sin(2⋅x)⋅sin(3⋅x)   3⋅cos(2⋅x)⋅cos(3⋅x)\n",
              "C - ─────────────────── - ───────────────────\n",
              "             5                     5         "
            ]
          },
          "metadata": {},
          "execution_count": 60
        }
      ]
    },
    {
      "cell_type": "code",
      "metadata": {
        "id": "uk_5C7iGr83J"
      },
      "source": [
        "# Integrando a função\n",
        "# .integrate(funcao,arg)\n",
        "# Integral indefinida\n",
        "# definindo uma função\n"
      ],
      "execution_count": null,
      "outputs": []
    },
    {
      "cell_type": "code",
      "metadata": {
        "id": "UwLDs0ClsfK1"
      },
      "source": [
        "# Exemplo - f(x) = x**3 \n",
        "# Escrever a expressão com a simbologia matemática\n",
        "# depois calcular integral indefinida da função f(x)"
      ],
      "execution_count": null,
      "outputs": []
    },
    {
      "cell_type": "code",
      "metadata": {
        "colab": {
          "base_uri": "https://localhost:8080/",
          "height": 51
        },
        "id": "Otv_kVlLtVgf",
        "outputId": "7980daf5-ed4e-461b-ab1e-cdff184b7b8d"
      },
      "source": [
        "# Integral Definida\n",
        "# sp.integrate(funcao,(variavel,L-inf,L-sup))\n",
        "# Exemplo anterior funcao f , limite inferior = 0 e limite superior=pi\n",
        "f = x**2 + 1\n",
        "f\n",
        "sp.integrate(f,(x,0,5))"
      ],
      "execution_count": 72,
      "outputs": [
        {
          "output_type": "execute_result",
          "data": {
            "image/png": "[encoded data removed]",
            "text/latex": "$\\displaystyle \\frac{140}{3}$",
            "text/plain": [
              "140/3"
            ]
          },
          "metadata": {},
          "execution_count": 72
        }
      ]
    },
    {
      "cell_type": "code",
      "metadata": {
        "colab": {
          "base_uri": "https://localhost:8080/",
          "height": 37
        },
        "id": "IMRbFcqvvTya",
        "outputId": "8c72fa44-5e44-4ff6-c3b7-33e4d6ec4056"
      },
      "source": [
        "# Integral dupla (multipla vezes)\n",
        "# definindo a função\n",
        "w = 4 - y**2\n",
        "w\n",
        "sp.integrate(w,(y,0,2),(x,0,3))"
      ],
      "execution_count": 74,
      "outputs": [
        {
          "output_type": "execute_result",
          "data": {
            "image/png": "[encoded data removed]",
            "text/latex": "$\\displaystyle 16$",
            "text/plain": [
              "16"
            ]
          },
          "metadata": {},
          "execution_count": 74
        }
      ]
    },
    {
      "cell_type": "code",
      "metadata": {
        "id": "UBMBCLjSvpM4",
        "colab": {
          "base_uri": "https://localhost:8080/",
          "height": 79
        },
        "outputId": "1c8a2931-a1fa-4adb-c066-b4db2276ced4"
      },
      "source": [
        "# Escrevendo a integral literalmente\n",
        "# Integral(expresao)\n",
        "import sympy as sp\n",
        "sp.init_printing()\n",
        "x = sp.symbols('x')\n",
        "f = 1/x\n",
        "f\n",
        "Integral(f,(x,1,5))"
      ],
      "execution_count": 83,
      "outputs": [
        {
          "output_type": "execute_result",
          "data": {
            "image/png": "[encoded data removed]",
            "text/latex": "$\\displaystyle \\int\\limits_{1}^{5} \\frac{1}{x}\\, dx$",
            "text/plain": [
              "5     \n",
              "⌠     \n",
              "⎮ 1   \n",
              "⎮ ─ dx\n",
              "⎮ x   \n",
              "⌡     \n",
              "1     "
            ]
          },
          "metadata": {},
          "execution_count": 83
        }
      ]
    },
    {
      "cell_type": "code",
      "metadata": {
        "id": "Qsr-WLjK9OgJ"
      },
      "source": [
        "# Exemplo -Escreva a integral da função =x**2 + 4*x + 5\n",
        "\n"
      ],
      "execution_count": null,
      "outputs": []
    },
    {
      "cell_type": "markdown",
      "metadata": {
        "id": "co_GCEC8cyhp"
      },
      "source": [
        "# - SOLVERS \n",
        "** solveset(eq, arg) ou solve **"
      ]
    },
    {
      "cell_type": "code",
      "metadata": {
        "colab": {
          "base_uri": "https://localhost:8080/",
          "height": 39
        },
        "id": "PGjAQnJbdBpq",
        "outputId": "8d0d85f8-8bf1-497c-8499-7f35602ce470"
      },
      "source": [
        "# Declarando um expressão\n",
        "import sympy as sp\n",
        "sp.init_printing()\n",
        "\n",
        "# Declarando uma expressão\n",
        "x = sp.symbols('x')\n",
        "fx = x**2 + 6 *x +9\n",
        "fx"
      ],
      "execution_count": 86,
      "outputs": [
        {
          "output_type": "execute_result",
          "data": {
            "image/png": "[encoded data removed]",
            "text/latex": "$\\displaystyle x^{2} + 6 x + 9$",
            "text/plain": [
              " 2          \n",
              "x  + 6⋅x + 9"
            ]
          },
          "metadata": {},
          "execution_count": 86
        }
      ]
    },
    {
      "cell_type": "code",
      "metadata": {
        "colab": {
          "base_uri": "https://localhost:8080/",
          "height": 37
        },
        "id": "09Q7be8ydycH",
        "outputId": "4ead8f7a-41f4-4ef4-e736-2c29aa5bde81"
      },
      "source": [
        "# Encontrando a raiz da expressão - SOLVER\n",
        "# sp.solveset()\n",
        "sp.solveset(fx,x)"
      ],
      "execution_count": 87,
      "outputs": [
        {
          "output_type": "execute_result",
          "data": {
            "image/png": "[encoded data removed]",
            "text/latex": "$\\displaystyle \\left\\{-3\\right\\}$",
            "text/plain": [
              "{-3}"
            ]
          },
          "metadata": {},
          "execution_count": 87
        }
      ]
    },
    {
      "cell_type": "code",
      "metadata": {
        "id": "jCLlUgzpeCHQ",
        "colab": {
          "base_uri": "https://localhost:8080/",
          "height": 37
        },
        "outputId": "6493736d-13d5-436b-dd4f-e942afd86906"
      },
      "source": [
        "# método sp.solve()\n",
        "sp.solve(fx,x)"
      ],
      "execution_count": 88,
      "outputs": [
        {
          "output_type": "execute_result",
          "data": {
            "image/png": "[encoded data removed]",
            "text/latex": "$\\displaystyle \\left[ -3\\right]$",
            "text/plain": [
              "[-3]"
            ]
          },
          "metadata": {},
          "execution_count": 88
        }
      ]
    },
    {
      "cell_type": "code",
      "metadata": {
        "id": "xlOYM_gIeZhp"
      },
      "source": [
        "# Exemplo: f(x) = x**3 + 5 *x**2 + x\n",
        "# Escrever a funçao acima usando a matemática simbólica,depois\n",
        "# Aplique o método .solve( ) ou solveset() e encontrar a raiz ou raízes da expressão\n"
      ],
      "execution_count": null,
      "outputs": []
    },
    {
      "cell_type": "code",
      "metadata": {
        "colab": {
          "base_uri": "https://localhost:8080/",
          "height": 39
        },
        "id": "Y3n2R_EegMIH",
        "outputId": "0bb864e3-04fa-4ccd-e080-ae6db6cbfb8b"
      },
      "source": [
        "# Aplicando o SOLVER sistemas lineares 3 x 3\n",
        "x1,x2,x3 = sp.symbols(['x1','x2','x3'])\n",
        "coef = sp.Matrix([[3,2,4],[1,1,2],[4,3,-2]])\n",
        "X = sp.Matrix([[x1,x2,x3]]).T\n",
        "R = sp.Matrix([[1,2,3]]).T\n",
        "\n",
        "# coef * X = R\n",
        "#coef*X-R=0\n",
        "sistema = coef*X-R\n",
        "resposta = sp.solve(sistema,(x1,x2,x3))\n",
        "resposta"
      ],
      "execution_count": 102,
      "outputs": [
        {
          "output_type": "execute_result",
          "data": {
            "image/png": "[encoded data removed]",
            "text/latex": "$\\displaystyle \\left\\{ x_{1} : -3, \\  x_{2} : 5, \\  x_{3} : 0\\right\\}$",
            "text/plain": [
              "{x₁: -3, x₂: 5, x₃: 0}"
            ]
          },
          "metadata": {},
          "execution_count": 102
        }
      ]
    },
    {
      "cell_type": "code",
      "metadata": {
        "colab": {
          "base_uri": "https://localhost:8080/",
          "height": 78
        },
        "id": "OUWz3xDJmgP0",
        "outputId": "a6a79edb-9b5a-4e43-9efe-0d34493cd354"
      },
      "source": [
        "X"
      ],
      "execution_count": 103,
      "outputs": [
        {
          "output_type": "execute_result",
          "data": {
            "text/latex": "$\\displaystyle \\left[\\begin{matrix}x_{1}\\\\x_{2}\\\\x_{3}\\end{matrix}\\right]$",
            "text/plain": [
              "⎡x₁⎤\n",
              "⎢  ⎥\n",
              "⎢x₂⎥\n",
              "⎢  ⎥\n",
              "⎣x₃⎦"
            ]
          },
          "metadata": {},
          "execution_count": 103
        }
      ]
    },
    {
      "cell_type": "code",
      "metadata": {
        "id": "z5tJW1DrmiCg"
      },
      "source": [
        ""
      ],
      "execution_count": null,
      "outputs": []
    }
  ]
}